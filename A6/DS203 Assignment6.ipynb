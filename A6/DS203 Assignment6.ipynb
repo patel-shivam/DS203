{
  "nbformat": 4,
  "nbformat_minor": 0,
  "metadata": {
    "colab": {
      "provenance": [],
      "collapsed_sections": []
    },
    "kernelspec": {
      "name": "python3",
      "display_name": "Python 3"
    },
    "language_info": {
      "name": "python"
    }
  },
  "cells": [
    {
      "cell_type": "code",
      "metadata": {
        "id": "__PXH7UIIWbz"
      },
      "source": [
        "import numpy as np\n",
        "import pandas as pd\n",
        "from  sklearn.preprocessing import RobustScaler\n",
        "from  sklearn.preprocessing import StandardScaler\n",
        "import statsmodels.api as sm\n",
        "import matplotlib.pyplot as plt\n",
        "from sklearn.metrics import mean_squared_error\n",
        "from sklearn.metrics import r2_score\n",
        "from sklearn.model_selection import train_test_split\n",
        "import statsmodels.formula.api as smf\n",
        "from sklearn.linear_model import LogisticRegression\n",
        "from sklearn.linear_model import LinearRegression\n",
        "from sklearn.linear_model import Ridge\n",
        "from sklearn.linear_model import Lasso\n",
        "import seaborn as sns\n",
        "from sklearn import metrics\n",
        "import warnings\n",
        "warnings.filterwarnings('ignore') \n"
      ],
      "execution_count": null,
      "outputs": []
    },
    {
      "cell_type": "markdown",
      "metadata": {
        "id": "-svolPd4gaek"
      },
      "source": [
        "#Question 1"
      ]
    },
    {
      "cell_type": "code",
      "metadata": {
        "id": "BcpC7CnXBdNI"
      },
      "source": [
        "df=pd.read_csv('Realestate.csv')"
      ],
      "execution_count": null,
      "outputs": []
    },
    {
      "cell_type": "code",
      "metadata": {
        "id": "sNpj20wuBdHq",
        "colab": {
          "base_uri": "https://localhost:8080/",
          "height": 220
        },
        "outputId": "8cf89cb7-8e80-4a4b-b92d-2c3cc0b349d0"
      },
      "source": [
        "df.head() "
      ],
      "execution_count": null,
      "outputs": [
        {
          "output_type": "execute_result",
          "data": {
            "text/html": [
              "<div>\n",
              "<style scoped>\n",
              "    .dataframe tbody tr th:only-of-type {\n",
              "        vertical-align: middle;\n",
              "    }\n",
              "\n",
              "    .dataframe tbody tr th {\n",
              "        vertical-align: top;\n",
              "    }\n",
              "\n",
              "    .dataframe thead th {\n",
              "        text-align: right;\n",
              "    }\n",
              "</style>\n",
              "<table border=\"1\" class=\"dataframe\">\n",
              "  <thead>\n",
              "    <tr style=\"text-align: right;\">\n",
              "      <th></th>\n",
              "      <th>No</th>\n",
              "      <th>X1 transaction date</th>\n",
              "      <th>X2 house age</th>\n",
              "      <th>X3 distance to the nearest MRT station</th>\n",
              "      <th>X4 number of convenience stores</th>\n",
              "      <th>X5 latitude</th>\n",
              "      <th>X6 longitude</th>\n",
              "      <th>Y house price of unit area</th>\n",
              "    </tr>\n",
              "  </thead>\n",
              "  <tbody>\n",
              "    <tr>\n",
              "      <th>0</th>\n",
              "      <td>1</td>\n",
              "      <td>2012.917</td>\n",
              "      <td>32.0</td>\n",
              "      <td>84.87882</td>\n",
              "      <td>10</td>\n",
              "      <td>24.98298</td>\n",
              "      <td>121.54024</td>\n",
              "      <td>37.9</td>\n",
              "    </tr>\n",
              "    <tr>\n",
              "      <th>1</th>\n",
              "      <td>2</td>\n",
              "      <td>2012.917</td>\n",
              "      <td>19.5</td>\n",
              "      <td>306.59470</td>\n",
              "      <td>9</td>\n",
              "      <td>24.98034</td>\n",
              "      <td>121.53951</td>\n",
              "      <td>42.2</td>\n",
              "    </tr>\n",
              "    <tr>\n",
              "      <th>2</th>\n",
              "      <td>3</td>\n",
              "      <td>2013.583</td>\n",
              "      <td>13.3</td>\n",
              "      <td>561.98450</td>\n",
              "      <td>5</td>\n",
              "      <td>24.98746</td>\n",
              "      <td>121.54391</td>\n",
              "      <td>47.3</td>\n",
              "    </tr>\n",
              "    <tr>\n",
              "      <th>3</th>\n",
              "      <td>4</td>\n",
              "      <td>2013.500</td>\n",
              "      <td>13.3</td>\n",
              "      <td>561.98450</td>\n",
              "      <td>5</td>\n",
              "      <td>24.98746</td>\n",
              "      <td>121.54391</td>\n",
              "      <td>54.8</td>\n",
              "    </tr>\n",
              "    <tr>\n",
              "      <th>4</th>\n",
              "      <td>5</td>\n",
              "      <td>2012.833</td>\n",
              "      <td>5.0</td>\n",
              "      <td>390.56840</td>\n",
              "      <td>5</td>\n",
              "      <td>24.97937</td>\n",
              "      <td>121.54245</td>\n",
              "      <td>43.1</td>\n",
              "    </tr>\n",
              "  </tbody>\n",
              "</table>\n",
              "</div>"
            ],
            "text/plain": [
              "   No  X1 transaction date  ...  X6 longitude  Y house price of unit area\n",
              "0   1             2012.917  ...     121.54024                        37.9\n",
              "1   2             2012.917  ...     121.53951                        42.2\n",
              "2   3             2013.583  ...     121.54391                        47.3\n",
              "3   4             2013.500  ...     121.54391                        54.8\n",
              "4   5             2012.833  ...     121.54245                        43.1\n",
              "\n",
              "[5 rows x 8 columns]"
            ]
          },
          "metadata": {},
          "execution_count": 287
        }
      ]
    },
    {
      "cell_type": "code",
      "metadata": {
        "colab": {
          "base_uri": "https://localhost:8080/",
          "height": 220
        },
        "id": "N-dLLa6NFZFM",
        "outputId": "9eae48bd-4fff-4969-c324-784076f97ab4"
      },
      "source": [
        "df.drop(columns='No', axis=1)   # redundant numbering index is removed - EDA perprocessing\n",
        "df.head()"
      ],
      "execution_count": null,
      "outputs": [
        {
          "output_type": "execute_result",
          "data": {
            "text/html": [
              "<div>\n",
              "<style scoped>\n",
              "    .dataframe tbody tr th:only-of-type {\n",
              "        vertical-align: middle;\n",
              "    }\n",
              "\n",
              "    .dataframe tbody tr th {\n",
              "        vertical-align: top;\n",
              "    }\n",
              "\n",
              "    .dataframe thead th {\n",
              "        text-align: right;\n",
              "    }\n",
              "</style>\n",
              "<table border=\"1\" class=\"dataframe\">\n",
              "  <thead>\n",
              "    <tr style=\"text-align: right;\">\n",
              "      <th></th>\n",
              "      <th>No</th>\n",
              "      <th>X1 transaction date</th>\n",
              "      <th>X2 house age</th>\n",
              "      <th>X3 distance to the nearest MRT station</th>\n",
              "      <th>X4 number of convenience stores</th>\n",
              "      <th>X5 latitude</th>\n",
              "      <th>X6 longitude</th>\n",
              "      <th>Y house price of unit area</th>\n",
              "    </tr>\n",
              "  </thead>\n",
              "  <tbody>\n",
              "    <tr>\n",
              "      <th>0</th>\n",
              "      <td>1</td>\n",
              "      <td>2012.917</td>\n",
              "      <td>32.0</td>\n",
              "      <td>84.87882</td>\n",
              "      <td>10</td>\n",
              "      <td>24.98298</td>\n",
              "      <td>121.54024</td>\n",
              "      <td>37.9</td>\n",
              "    </tr>\n",
              "    <tr>\n",
              "      <th>1</th>\n",
              "      <td>2</td>\n",
              "      <td>2012.917</td>\n",
              "      <td>19.5</td>\n",
              "      <td>306.59470</td>\n",
              "      <td>9</td>\n",
              "      <td>24.98034</td>\n",
              "      <td>121.53951</td>\n",
              "      <td>42.2</td>\n",
              "    </tr>\n",
              "    <tr>\n",
              "      <th>2</th>\n",
              "      <td>3</td>\n",
              "      <td>2013.583</td>\n",
              "      <td>13.3</td>\n",
              "      <td>561.98450</td>\n",
              "      <td>5</td>\n",
              "      <td>24.98746</td>\n",
              "      <td>121.54391</td>\n",
              "      <td>47.3</td>\n",
              "    </tr>\n",
              "    <tr>\n",
              "      <th>3</th>\n",
              "      <td>4</td>\n",
              "      <td>2013.500</td>\n",
              "      <td>13.3</td>\n",
              "      <td>561.98450</td>\n",
              "      <td>5</td>\n",
              "      <td>24.98746</td>\n",
              "      <td>121.54391</td>\n",
              "      <td>54.8</td>\n",
              "    </tr>\n",
              "    <tr>\n",
              "      <th>4</th>\n",
              "      <td>5</td>\n",
              "      <td>2012.833</td>\n",
              "      <td>5.0</td>\n",
              "      <td>390.56840</td>\n",
              "      <td>5</td>\n",
              "      <td>24.97937</td>\n",
              "      <td>121.54245</td>\n",
              "      <td>43.1</td>\n",
              "    </tr>\n",
              "  </tbody>\n",
              "</table>\n",
              "</div>"
            ],
            "text/plain": [
              "   No  X1 transaction date  ...  X6 longitude  Y house price of unit area\n",
              "0   1             2012.917  ...     121.54024                        37.9\n",
              "1   2             2012.917  ...     121.53951                        42.2\n",
              "2   3             2013.583  ...     121.54391                        47.3\n",
              "3   4             2013.500  ...     121.54391                        54.8\n",
              "4   5             2012.833  ...     121.54245                        43.1\n",
              "\n",
              "[5 rows x 8 columns]"
            ]
          },
          "metadata": {},
          "execution_count": 288
        }
      ]
    },
    {
      "cell_type": "markdown",
      "metadata": {
        "id": "y01-Dt-SQZuo"
      },
      "source": [
        "Below are the regression plots for individual variables, which give us an insight into the real estate pricing scenario in the provided dataset."
      ]
    },
    {
      "cell_type": "code",
      "metadata": {
        "colab": {
          "base_uri": "https://localhost:8080/",
          "height": 279
        },
        "id": "FfvooBLqQFgD",
        "outputId": "e9bdffbb-4e6d-4721-91d8-4782ac36fe02"
      },
      "source": [
        "sns.regplot(x='X1 transaction date', y='Y house price of unit area', data=df, marker='x',  scatter_kws={'s':5});"
      ],
      "execution_count": null,
      "outputs": [
        {
          "output_type": "display_data",
          "data": {
            "image/png": "[encoded data removed]",
            "text/plain": [
              "<Figure size 432x288 with 1 Axes>"
            ]
          },
          "metadata": {
            "needs_background": "light"
          }
        }
      ]
    },
    {
      "cell_type": "code",
      "metadata": {
        "colab": {
          "base_uri": "https://localhost:8080/",
          "height": 279
        },
        "id": "q7xzq91HNM4w",
        "outputId": "48cd0179-934b-438c-9867-2dff5c063217"
      },
      "source": [
        "sns.regplot(x='X2 house age', y='Y house price of unit area', data=df, marker='x',  scatter_kws={'s':5});"
      ],
      "execution_count": null,
      "outputs": [
        {
          "output_type": "display_data",
          "data": {
            "image/png": "[encoded data removed]",
            "text/plain": [
              "<Figure size 432x288 with 1 Axes>"
            ]
          },
          "metadata": {
            "needs_background": "light"
          }
        }
      ]
    },
    {
      "cell_type": "code",
      "metadata": {
        "colab": {
          "base_uri": "https://localhost:8080/",
          "height": 279
        },
        "id": "hiPwU4XRNM2y",
        "outputId": "cc1df289-92af-4206-ad3c-d42ad3fe40c0"
      },
      "source": [
        "sns.regplot(x='X3 distance to the nearest MRT station', y='Y house price of unit area', data=df, marker='x',  scatter_kws={'s':5});"
      ],
      "execution_count": null,
      "outputs": [
        {
          "output_type": "display_data",
          "data": {
            "image/png": "[encoded data removed]",
            "text/plain": [
              "<Figure size 432x288 with 1 Axes>"
            ]
          },
          "metadata": {
            "needs_background": "light"
          }
        }
      ]
    },
    {
      "cell_type": "code",
      "metadata": {
        "colab": {
          "base_uri": "https://localhost:8080/",
          "height": 279
        },
        "id": "_KbqXTcoPwlE",
        "outputId": "d298f24c-0e3b-4ac3-878a-4daeba6b4cde"
      },
      "source": [
        "sns.regplot(x='X4 number of convenience stores', y='Y house price of unit area', data=df, marker='x',  scatter_kws={'s':5});"
      ],
      "execution_count": null,
      "outputs": [
        {
          "output_type": "display_data",
          "data": {
            "image/png": "[encoded data removed]",
            "text/plain": [
              "<Figure size 432x288 with 1 Axes>"
            ]
          },
          "metadata": {
            "needs_background": "light"
          }
        }
      ]
    },
    {
      "cell_type": "code",
      "metadata": {
        "id": "h9xZJwmeBdDn",
        "colab": {
          "base_uri": "https://localhost:8080/"
        },
        "outputId": "e54462fc-26f5-4c55-a72c-9589655fef20"
      },
      "source": [
        "y=df[['Y house price of unit area']]\n",
        "x=df.drop(['Y house price of unit area'], axis=1)\n",
        "\n",
        "x_train,x_test,y_train,y_test = train_test_split(StandardScaler().fit_transform(x),y,test_size=0.2, random_state=0)\n",
        "lrmodel=LinearRegression()\n",
        "lrmodel.fit(x_train, y_train)\n",
        "\n",
        "#StandardScaler transform has been used throughout the file, which ensures that highly sensitive models like regression models do not affected \n",
        "\n",
        "print(f\"Coefficients of the model are(in order of coefficients of the LR): {lrmodel.coef_[0]}\")\n",
        "print()\n",
        "print(f\"Intercept of the model is : {lrmodel.intercept_[0]}\")\n",
        "\n",
        "print()\n",
        "\n",
        "y_pred=lrmodel.predict(x_test)\n",
        "\n"
      ],
      "execution_count": null,
      "outputs": [
        {
          "output_type": "stream",
          "name": "stdout",
          "text": [
            "Coefficients of the model are(in order of coefficients of the LR): [-0.53321157  1.37251199 -2.99015025 -5.69456033  3.18049366  2.80227705\n",
            " -0.15091674]\n",
            "\n",
            "Intercept of the model is : 38.050058219569685\n",
            "\n"
          ]
        }
      ]
    },
    {
      "cell_type": "code",
      "metadata": {
        "id": "y-7wz_cIBc8d",
        "colab": {
          "base_uri": "https://localhost:8080/"
        },
        "outputId": "3044ba63-18a0-4610-a500-b65809dc0583"
      },
      "source": [
        "mse=mean_squared_error(y_pred, y_test)\n",
        "print(f\"The mean squared error of the predicted and actual values is:{mse}\")\n",
        "\n",
        "#mse calculator\n",
        "\n",
        "from sklearn.metrics import r2_score\n",
        "r2s=r2_score(y_pred, y_test)\n",
        "print(f\"The Coefficient of Determination (r^2) is: {r2s}\")\n",
        "#coefficient of determination calculator"
      ],
      "execution_count": null,
      "outputs": [
        {
          "output_type": "stream",
          "name": "stdout",
          "text": [
            "The mean squared error of the predicted and actual values is: 59.79820550974162\n",
            "The Coefficient of Determination (r^2) is: 0.43679432419240427\n"
          ]
        }
      ]
    },
    {
      "cell_type": "code",
      "metadata": {
        "id": "Nhx7Y7ZrV-m0"
      },
      "source": [
        "comparelinreg=pd.DataFrame(columns=['Test_split_value','R2Score', 'MSE'])\n",
        "comparelinreg=comparelinreg.append({'Test_split_value':0.2, 'R2Score':r2s, 'MSE':mse}, ignore_index=True)"
      ],
      "execution_count": null,
      "outputs": []
    },
    {
      "cell_type": "code",
      "metadata": {
        "id": "h2ezzOsIBc5B",
        "colab": {
          "base_uri": "https://localhost:8080/"
        },
        "outputId": "2083ffd9-1f7c-48b5-a3a6-a323bd153236"
      },
      "source": [
        "x_train,x_test,y_train,y_test = train_test_split(StandardScaler().fit_transform(x),y,test_size=0.4, random_state=0)\n",
        "lrmodel=LinearRegression(fit_intercept=True)\n",
        "lrmodel.fit(x_train, y_train)\n",
        "#training the linear regression model\n",
        "print(f\"Coefficients of the model are(in order of coefficients of the LR): {lrmodel.coef_[0]}\")\n",
        "print()\n",
        "print(f\"Intercept of the model is : {lrmodel.intercept_[0]}\")\n",
        "print()\n",
        "#printing the intercept and coefficients\n",
        "y_pred=lrmodel.predict(x_test)\n",
        "\n",
        "mse=mean_squared_error(y_pred, y_test)\n",
        "print(f\"The mean squared error of the predicted and actual values is: {mse}\")\n",
        "\n",
        "r2s=r2_score(y_pred, y_test)\n",
        "print(f\"The Coefficient of Determination (r^2) is: {r2s}\")\n",
        "\n",
        "\n",
        "comparelinreg=comparelinreg.append({'Test_split_value':0.4, 'R2Score':r2s, 'MSE':mse}, ignore_index=True)"
      ],
      "execution_count": null,
      "outputs": [
        {
          "output_type": "stream",
          "name": "stdout",
          "text": [
            "Coefficients of the model are(in order of coefficients of the LR): [-0.72606858  1.45118835 -3.07414134 -6.5026141   2.80691764  2.98613643\n",
            " -0.21570815]\n",
            "\n",
            "Intercept of the model is : 38.384615074121385\n",
            "\n",
            "The mean squared error of the predicted and actual values is: 68.35956723976624\n",
            "The Coefficient of Determination (r^2) is: 0.4700579024907604\n"
          ]
        }
      ]
    },
    {
      "cell_type": "code",
      "metadata": {
        "colab": {
          "base_uri": "https://localhost:8080/"
        },
        "id": "L3r0_NxkRPVE",
        "outputId": "ae63de91-300b-4e0e-8d09-fa76cd61028c"
      },
      "source": [
        "x_train,x_test,y_train,y_test = train_test_split(StandardScaler().fit_transform(x),y,test_size=0.3, random_state=0)\n",
        "lrmodel=LinearRegression()\n",
        "lrmodel.fit(x_train, y_train)\n",
        "\n",
        "print(f\"Coefficients of the model are(in order of coefficients of the LR): {lrmodel.coef_[0]}\")\n",
        "print()\n",
        "print(f\"Intercept of the model is : {lrmodel.intercept_[0]}\")\n",
        "print()\n",
        "y_pred=lrmodel.predict(x_test)\n",
        "\n",
        "mse=mean_squared_error(y_pred, y_test)\n",
        "print(f\"The mean squared error of the predicted and actual values is: {mse}\")\n",
        "\n",
        "r2s=r2_score(y_pred, y_test)\n",
        "print(f\"The Coefficient of Determination (r^2) is: {r2s}\")\n",
        "\n",
        "comparelinreg=comparelinreg.append({'Test_split_value':0.3, 'R2Score':r2s, 'MSE':mse}, ignore_index=True)"
      ],
      "execution_count": null,
      "outputs": [
        {
          "output_type": "stream",
          "name": "stdout",
          "text": [
            "Coefficients of the model are(in order of coefficients of the LR): [-0.82705581  1.42801418 -3.11645192 -5.85144461  2.95105786  2.83063408\n",
            " -0.14603228]\n",
            "\n",
            "Intercept of the model is : 38.39758934159563\n",
            "\n",
            "The mean squared error of the predicted and actual values is: 73.10682904135139\n",
            "The Coefficient of Determination (r^2) is: 0.25447458760939445\n"
          ]
        }
      ]
    },
    {
      "cell_type": "code",
      "metadata": {
        "colab": {
          "base_uri": "https://localhost:8080/"
        },
        "id": "Fhv3liMtRPTK",
        "outputId": "59e0fff3-748c-418b-eb9f-509b93174f2f"
      },
      "source": [
        "x_train,x_test,y_train,y_test = train_test_split(StandardScaler().fit_transform(x),y,test_size=0.1, random_state=0)\n",
        "lrmodel=LinearRegression()\n",
        "lrmodel.fit(x_train, y_train)\n",
        "\n",
        "print(f\"Coefficients of the model are(in order of coefficients of the LR): {lrmodel.coef_[0]}\")\n",
        "print()\n",
        "print(f\"Intercept of the model is : {lrmodel.intercept_[0]}\")\n",
        "print()\n",
        "y_pred=lrmodel.predict(x_test)\n",
        "\n",
        "mse=mean_squared_error(y_pred, y_test)\n",
        "print(f\"The mean squared error of the predicted and actual values is: {mse}\")\n",
        "\n",
        "r2s=r2_score(y_pred, y_test)\n",
        "print(f\"The Coefficient of Determination value(r^2) is: {r2s}\")\n",
        "\n",
        "comparelinreg=comparelinreg.append({'Test_split_value':0.1, 'R2Score':r2s, 'MSE':mse}, ignore_index=True)"
      ],
      "execution_count": null,
      "outputs": [
        {
          "output_type": "stream",
          "name": "stdout",
          "text": [
            "Coefficients of the model are(in order of coefficients of the LR): [-0.28325579  1.43506389 -3.09069383 -5.44098457  3.64477809  2.75007411\n",
            " -0.01612844]\n",
            "\n",
            "Intercept of the model is : 38.00658540489933\n",
            "\n",
            "The mean squared error of the predicted and actual values is: 51.84220964670261\n",
            "The Coefficient of Determination value(r^2) is: 0.5061811037579457\n"
          ]
        }
      ]
    },
    {
      "cell_type": "code",
      "metadata": {
        "id": "LV6l8712bAgX",
        "colab": {
          "base_uri": "https://localhost:8080/",
          "height": 172
        },
        "outputId": "0cd802bd-f359-49ba-aade-3e58530d118d"
      },
      "source": [
        "comparelinreg=comparelinreg.sort_values(by='Test_split_value', ascending=True, ignore_index=True)\n",
        "comparelinreg\n",
        "#dataframe for all parameters of linear regression"
      ],
      "execution_count": null,
      "outputs": [
        {
          "output_type": "execute_result",
          "data": {
            "text/html": [
              "<div>\n",
              "<style scoped>\n",
              "    .dataframe tbody tr th:only-of-type {\n",
              "        vertical-align: middle;\n",
              "    }\n",
              "\n",
              "    .dataframe tbody tr th {\n",
              "        vertical-align: top;\n",
              "    }\n",
              "\n",
              "    .dataframe thead th {\n",
              "        text-align: right;\n",
              "    }\n",
              "</style>\n",
              "<table border=\"1\" class=\"dataframe\">\n",
              "  <thead>\n",
              "    <tr style=\"text-align: right;\">\n",
              "      <th></th>\n",
              "      <th>Test_split_value</th>\n",
              "      <th>R2Score</th>\n",
              "      <th>MSE</th>\n",
              "    </tr>\n",
              "  </thead>\n",
              "  <tbody>\n",
              "    <tr>\n",
              "      <th>0</th>\n",
              "      <td>0.1</td>\n",
              "      <td>0.506181</td>\n",
              "      <td>51.842210</td>\n",
              "    </tr>\n",
              "    <tr>\n",
              "      <th>1</th>\n",
              "      <td>0.2</td>\n",
              "      <td>0.436794</td>\n",
              "      <td>59.798206</td>\n",
              "    </tr>\n",
              "    <tr>\n",
              "      <th>2</th>\n",
              "      <td>0.3</td>\n",
              "      <td>0.254475</td>\n",
              "      <td>73.106829</td>\n",
              "    </tr>\n",
              "    <tr>\n",
              "      <th>3</th>\n",
              "      <td>0.4</td>\n",
              "      <td>0.470058</td>\n",
              "      <td>68.359567</td>\n",
              "    </tr>\n",
              "  </tbody>\n",
              "</table>\n",
              "</div>"
            ],
            "text/plain": [
              "   Test_split_value   R2Score        MSE\n",
              "0               0.1  0.506181  51.842210\n",
              "1               0.2  0.436794  59.798206\n",
              "2               0.3  0.254475  73.106829\n",
              "3               0.4  0.470058  68.359567"
            ]
          },
          "metadata": {},
          "execution_count": 299
        }
      ]
    },
    {
      "cell_type": "code",
      "metadata": {
        "colab": {
          "base_uri": "https://localhost:8080/",
          "height": 353
        },
        "id": "1HkYyQA_bAeR",
        "outputId": "ea8900cf-8c02-4f58-bf3d-6315fdfe7330"
      },
      "source": [
        "fig=plt.figure(figsize=(5, 5))\n",
        "sns.barplot(x='Test_split_value', y='MSE', data=comparelinreg)\n",
        "plt.title(\"Error of Model(MSE) vs Test Split\", fontsize=15, weight='bold')\n",
        "#plot of error of the model vs test slit value\n",
        "plt.show()\n"
      ],
      "execution_count": null,
      "outputs": [
        {
          "output_type": "display_data",
          "data": {
            "image/png": "[encoded data removed]",
            "text/plain": [
              "<Figure size 360x360 with 1 Axes>"
            ]
          },
          "metadata": {
            "needs_background": "light"
          }
        }
      ]
    },
    {
      "cell_type": "code",
      "metadata": {
        "id": "KiLKALrsTYU4"
      },
      "source": [
        "test_split_ratios=[0.1, 0.2, 0.3, 0.4]\n",
        "regularisation_pars=[0.001, 0.005, 0.01, 0.05, 0.1, 0.5]\n",
        "#Test split ratios and regularisation parameters for feeding the nested loops"
      ],
      "execution_count": null,
      "outputs": []
    },
    {
      "cell_type": "code",
      "metadata": {
        "id": "2jvgWyrZJoUg"
      },
      "source": [
        "resultsregmodels=pd.DataFrame(columns=['Regularisation Model', 'Test Split', 'Regularisation', 'R2 value for test', 'MSE for test data'])"
      ],
      "execution_count": null,
      "outputs": []
    },
    {
      "cell_type": "code",
      "metadata": {
        "colab": {
          "base_uri": "https://localhost:8080/"
        },
        "id": "FmyZ7ZJjROwL",
        "outputId": "35e7ce82-58a0-4572-846e-6feeab107f6d"
      },
      "source": [
        "for i in range(4):\n",
        "  for j in range(6):\n",
        "    x_train,x_test,y_train,y_test = train_test_split(StandardScaler().fit_transform(x),y,test_size=test_split_ratios[i], random_state=0)\n",
        "    lridgemodel=Ridge(alpha=regularisation_pars[j]) # training the model\n",
        "    lridgemodel.fit(x_train, y_train)\n",
        "    print(f\"For the Ridge Regression model with test split ratio {test_split_ratios[i]} and regularisation parameter: {regularisation_pars[j]}\")\n",
        "    print()\n",
        "    print()\n",
        "    print(f\"Coefficients of the model are(in order of coefficients of the LR): {lridgemodel.coef_[0]}\")\n",
        "    print()\n",
        "    print(f\"Intercept of the model is : {lridgemodel.intercept_[0]}\")\n",
        "    print()\n",
        "    y_pred=lridgemodel.predict(x_test)   # predicting the values\n",
        "\n",
        "    mse=mean_squared_error(y_pred, y_test)\n",
        "    print(f\"The mean squared error of the predicted and actual values is: {mse}\")\n",
        "\n",
        "    r2s=r2_score(y_pred, y_test)\n",
        "    print(f\"The Coefficient of Determination value(r^2) is: {r2s}\")\n",
        "    #printing the error values and r2 values\n",
        "\n",
        "    resultsregmodels=resultsregmodels.append({'Regularisation Model':'Ridge', 'Test Split':test_split_ratios[i],\n",
        "          'Regularisation':regularisation_pars[j], 'R2 value for test': r2s, 'MSE for test data': mse}, ignore_index=True)\n",
        "\n",
        "    #extending the above algorithm to lasso \n",
        "\n",
        "\n",
        "    x_train,x_test,y_train,y_test = train_test_split(x,y,test_size=test_split_ratios[i])\n",
        "    lassomodel=Lasso(alpha=regularisation_pars[j])\n",
        "    lassomodel.fit(x_train, y_train)\n",
        "    print(f\"For the Lasso Regression model with test split ratio {test_split_ratios[i]} and regularisation parameter: {regularisation_pars[j]}\")\n",
        "    print()\n",
        "    print()\n",
        "    print(f\"Coefficients of the model are: {lassomodel.coef_[0]}\")\n",
        "    print()\n",
        "    print(f\"Intercept of the model is : {lassomodel.intercept_[0]}\")\n",
        "    print()\n",
        "    y_pred=lassomodel.predict(x_test)\n",
        "\n",
        "    mse=mean_squared_error(y_pred, y_test)\n",
        "    print(f\"The mean squared error of the predicted and actual values is: {mse}\")\n",
        "\n",
        "    r2s=r2_score(y_pred, y_test)\n",
        "    print(f\"The Coefficient of Determination value(r^2) is: {r2s}\")\n",
        "\n",
        "    print('\\n'*3)\n",
        "    print('*='*65)\n",
        "\n",
        "    resultsregmodels=resultsregmodels.append({'Regularisation Model':'Lasso', 'Test Split':test_split_ratios[i],\n",
        "          'Regularisation':regularisation_pars[j], 'R2 value for test': r2s, 'MSE for test data': mse}, ignore_index=True)"
      ],
      "execution_count": null,
      "outputs": [
        {
          "output_type": "stream",
          "name": "stdout",
          "text": [
            "For the Ridge Regression model with test split ratio 0.1 and regularisation parameter: 0.001\n",
            "\n",
            "\n",
            "Coefficients of the model are(in order of coefficients of the LR): [-0.28325346  1.4350585  -3.09068494 -5.44093461  3.64477886  2.75007957\n",
            " -0.01609027]\n",
            "\n",
            "Intercept of the model is : 38.00658552489317\n",
            "\n",
            "The mean squared error of the predicted and actual values is: 51.842235744687265\n",
            "The Coefficient of Determination value(r^2) is: 0.5061789151693752\n",
            "For the Lasso Regression model with test split ratio 0.1 and regularisation parameter: 0.001\n",
            "\n",
            "\n",
            "Coefficients of the model are: -0.005193707330307088\n",
            "\n",
            "Intercept of the model is : -16284.193248241314\n",
            "\n",
            "The mean squared error of the predicted and actual values is: 65.14240373924834\n",
            "The Coefficient of Determination value(r^2) is: 0.20181517507223135\n",
            "\n",
            "\n",
            "\n",
            "\n",
            "*=*=*=*=*=*=*=*=*=*=*=*=*=*=*=*=*=*=*=*=*=*=*=*=*=*=*=*=*=*=*=*=*=*=*=*=*=*=*=*=*=*=*=*=*=*=*=*=*=*=*=*=*=*=*=*=*=*=*=*=*=*=*=*=*=\n",
            "For the Ridge Regression model with test split ratio 0.1 and regularisation parameter: 0.005\n",
            "\n",
            "\n",
            "Coefficients of the model are(in order of coefficients of the LR): [-0.28324413  1.43503692 -3.0906494  -5.44073475  3.64478195  2.75010142\n",
            " -0.01593763]\n",
            "\n",
            "Intercept of the model is : 38.00658600481013\n",
            "\n",
            "The mean squared error of the predicted and actual values is: 51.842340135178034\n",
            "The Coefficient of Determination value(r^2) is: 0.5061701611036052\n",
            "For the Lasso Regression model with test split ratio 0.1 and regularisation parameter: 0.005\n",
            "\n",
            "\n",
            "Coefficients of the model are: -0.004093186284754452\n",
            "\n",
            "Intercept of the model is : -13757.679620864019\n",
            "\n",
            "The mean squared error of the predicted and actual values is: 65.21054355316043\n",
            "The Coefficient of Determination value(r^2) is: 0.2305584279596523\n",
            "\n",
            "\n",
            "\n",
            "\n",
            "*=*=*=*=*=*=*=*=*=*=*=*=*=*=*=*=*=*=*=*=*=*=*=*=*=*=*=*=*=*=*=*=*=*=*=*=*=*=*=*=*=*=*=*=*=*=*=*=*=*=*=*=*=*=*=*=*=*=*=*=*=*=*=*=*=\n",
            "For the Ridge Regression model with test split ratio 0.1 and regularisation parameter: 0.01\n",
            "\n",
            "\n",
            "Coefficients of the model are(in order of coefficients of the LR): [-0.28323247  1.43500996 -3.09060498 -5.44048497  3.6447858   2.75012872\n",
            " -0.01574685]\n",
            "\n",
            "Intercept of the model is : 38.00658660457501\n",
            "\n",
            "The mean squared error of the predicted and actual values is: 51.84247062002786\n",
            "The Coefficient of Determination value(r^2) is: 0.5061592191704588\n",
            "For the Lasso Regression model with test split ratio 0.1 and regularisation parameter: 0.01\n",
            "\n",
            "\n",
            "Coefficients of the model are: -0.002235432912438331\n",
            "\n",
            "Intercept of the model is : -14008.257266185921\n",
            "\n",
            "The mean squared error of the predicted and actual values is: 63.16675399626141\n",
            "The Coefficient of Determination value(r^2) is: 0.46870719835926944\n",
            "\n",
            "\n",
            "\n",
            "\n",
            "*=*=*=*=*=*=*=*=*=*=*=*=*=*=*=*=*=*=*=*=*=*=*=*=*=*=*=*=*=*=*=*=*=*=*=*=*=*=*=*=*=*=*=*=*=*=*=*=*=*=*=*=*=*=*=*=*=*=*=*=*=*=*=*=*=\n",
            "For the Ridge Regression model with test split ratio 0.1 and regularisation parameter: 0.05\n",
            "\n",
            "\n",
            "Coefficients of the model are(in order of coefficients of the LR): [-0.28313926  1.43479433 -3.09024964 -5.43848844  3.64481631  2.75034676\n",
            " -0.01422191]\n",
            "\n",
            "Intercept of the model is : 38.006591397445824\n",
            "\n",
            "The mean squared error of the predicted and actual values is: 51.84351436723304\n",
            "The Coefficient of Determination value(r^2) is: 0.5060717096502751\n",
            "For the Lasso Regression model with test split ratio 0.1 and regularisation parameter: 0.05\n",
            "\n",
            "\n",
            "Coefficients of the model are: -0.0039616746094504884\n",
            "\n",
            "Intercept of the model is : -10718.438778255431\n",
            "\n",
            "The mean squared error of the predicted and actual values is: 61.877874299380025\n",
            "The Coefficient of Determination value(r^2) is: 0.6202054674142876\n",
            "\n",
            "\n",
            "\n",
            "\n",
            "*=*=*=*=*=*=*=*=*=*=*=*=*=*=*=*=*=*=*=*=*=*=*=*=*=*=*=*=*=*=*=*=*=*=*=*=*=*=*=*=*=*=*=*=*=*=*=*=*=*=*=*=*=*=*=*=*=*=*=*=*=*=*=*=*=\n",
            "For the Ridge Regression model with test split ratio 0.1 and regularisation parameter: 0.1\n",
            "\n",
            "\n",
            "Coefficients of the model are(in order of coefficients of the LR): [-0.28302293  1.43452502 -3.08980555 -5.43599698  3.64485366  2.75061847\n",
            " -0.01231889]\n",
            "\n",
            "Intercept of the model is : 38.00659737543499\n",
            "\n",
            "The mean squared error of the predicted and actual values is: 51.844818717198415\n",
            "The Coefficient of Determination value(r^2) is: 0.505962387527042\n",
            "For the Lasso Regression model with test split ratio 0.1 and regularisation parameter: 0.1\n",
            "\n",
            "\n",
            "Coefficients of the model are: -0.002568729627723513\n",
            "\n",
            "Intercept of the model is : -9593.43111685079\n",
            "\n",
            "The mean squared error of the predicted and actual values is: 40.906910711209306\n",
            "The Coefficient of Determination value(r^2) is: 0.5648035208324844\n",
            "\n",
            "\n",
            "\n",
            "\n",
            "*=*=*=*=*=*=*=*=*=*=*=*=*=*=*=*=*=*=*=*=*=*=*=*=*=*=*=*=*=*=*=*=*=*=*=*=*=*=*=*=*=*=*=*=*=*=*=*=*=*=*=*=*=*=*=*=*=*=*=*=*=*=*=*=*=\n",
            "For the Ridge Regression model with test split ratio 0.1 and regularisation parameter: 0.5\n",
            "\n",
            "\n",
            "Coefficients of the model are(in order of coefficients of the LR): [-2.82099386e-01  1.43237963e+00 -3.08625647e+00 -5.41623174e+00\n",
            "  3.64512146e+00  2.75275860e+00  2.78005373e-03]\n",
            "\n",
            "Intercept of the model is : 38.00664467973459\n",
            "\n",
            "The mean squared error of the predicted and actual values is: 51.855239135783485\n",
            "The Coefficient of Determination value(r^2) is: 0.505090384061932\n",
            "For the Lasso Regression model with test split ratio 0.1 and regularisation parameter: 0.5\n",
            "\n",
            "\n",
            "Coefficients of the model are: -0.003145831722122455\n",
            "\n",
            "Intercept of the model is : 43.37902195115487\n",
            "\n",
            "The mean squared error of the predicted and actual values is: 236.9106175438529\n",
            "The Coefficient of Determination value(r^2) is: -1.9508709775539508\n",
            "\n",
            "\n",
            "\n",
            "\n",
            "*=*=*=*=*=*=*=*=*=*=*=*=*=*=*=*=*=*=*=*=*=*=*=*=*=*=*=*=*=*=*=*=*=*=*=*=*=*=*=*=*=*=*=*=*=*=*=*=*=*=*=*=*=*=*=*=*=*=*=*=*=*=*=*=*=\n",
            "For the Ridge Regression model with test split ratio 0.2 and regularisation parameter: 0.001\n",
            "\n",
            "\n",
            "Coefficients of the model are(in order of coefficients of the LR): [-0.5332085   1.37250494 -2.99014071 -5.6945011   3.18049753  2.80228291\n",
            " -0.15087238]\n",
            "\n",
            "Intercept of the model is : 38.050058561198725\n",
            "\n",
            "The mean squared error of the predicted and actual values is: 59.79822752751036\n",
            "The Coefficient of Determination value(r^2) is: 0.4367920274666427\n",
            "For the Lasso Regression model with test split ratio 0.2 and regularisation parameter: 0.001\n",
            "\n",
            "\n",
            "Coefficients of the model are: -0.0011789922432547876\n",
            "\n",
            "Intercept of the model is : -11641.075014559852\n",
            "\n",
            "The mean squared error of the predicted and actual values is: 131.7681327877793\n",
            "The Coefficient of Determination value(r^2) is: -0.3113179514473663\n",
            "\n",
            "\n",
            "\n",
            "\n",
            "*=*=*=*=*=*=*=*=*=*=*=*=*=*=*=*=*=*=*=*=*=*=*=*=*=*=*=*=*=*=*=*=*=*=*=*=*=*=*=*=*=*=*=*=*=*=*=*=*=*=*=*=*=*=*=*=*=*=*=*=*=*=*=*=*=\n",
            "For the Ridge Regression model with test split ratio 0.2 and regularisation parameter: 0.005\n",
            "\n",
            "\n",
            "Coefficients of the model are(in order of coefficients of the LR): [-0.53319625  1.37247674 -2.99010253 -5.6942642   3.18051298  2.80230633\n",
            " -0.15069497]\n",
            "\n",
            "Intercept of the model is : 38.05005992761007\n",
            "\n",
            "The mean squared error of the predicted and actual values is: 59.79831562046618\n",
            "The Coefficient of Determination value(r^2) is: 0.4367828406161358\n",
            "For the Lasso Regression model with test split ratio 0.2 and regularisation parameter: 0.005\n",
            "\n",
            "\n",
            "Coefficients of the model are: -0.0027169512270718127\n",
            "\n",
            "Intercept of the model is : -16064.327248299302\n",
            "\n",
            "The mean squared error of the predicted and actual values is: 61.39807198571667\n",
            "The Coefficient of Determination value(r^2) is: 0.5107556845889536\n",
            "\n",
            "\n",
            "\n",
            "\n",
            "*=*=*=*=*=*=*=*=*=*=*=*=*=*=*=*=*=*=*=*=*=*=*=*=*=*=*=*=*=*=*=*=*=*=*=*=*=*=*=*=*=*=*=*=*=*=*=*=*=*=*=*=*=*=*=*=*=*=*=*=*=*=*=*=*=\n",
            "For the Ridge Regression model with test split ratio 0.2 and regularisation parameter: 0.01\n",
            "\n",
            "\n",
            "Coefficients of the model are(in order of coefficients of the LR): [-0.53318093  1.37244149 -2.9900548  -5.69396813  3.18053229  2.8023356\n",
            " -0.15047324]\n",
            "\n",
            "Intercept of the model is : 38.05006163538847\n",
            "\n",
            "The mean squared error of the predicted and actual values is: 59.79842578587577\n",
            "The Coefficient of Determination value(r^2) is: 0.43677135717121296\n",
            "For the Lasso Regression model with test split ratio 0.2 and regularisation parameter: 0.01\n",
            "\n",
            "\n",
            "Coefficients of the model are: -0.0016643833301329403\n",
            "\n",
            "Intercept of the model is : -14707.473350165408\n",
            "\n",
            "The mean squared error of the predicted and actual values is: 51.388401528600276\n",
            "The Coefficient of Determination value(r^2) is: 0.5671922363896866\n",
            "\n",
            "\n",
            "\n",
            "\n",
            "*=*=*=*=*=*=*=*=*=*=*=*=*=*=*=*=*=*=*=*=*=*=*=*=*=*=*=*=*=*=*=*=*=*=*=*=*=*=*=*=*=*=*=*=*=*=*=*=*=*=*=*=*=*=*=*=*=*=*=*=*=*=*=*=*=\n",
            "For the Ridge Regression model with test split ratio 0.2 and regularisation parameter: 0.05\n",
            "\n",
            "\n",
            "Coefficients of the model are(in order of coefficients of the LR): [-0.53305848  1.37215966 -2.98967307 -5.69160167  3.18068633  2.80256932\n",
            " -0.14870099]\n",
            "\n",
            "Intercept of the model is : 38.050075288192716\n",
            "\n",
            "The mean squared error of the predicted and actual values is: 59.79930907437079\n",
            "The Coefficient of Determination value(r^2) is: 0.4366794943389296\n",
            "For the Lasso Regression model with test split ratio 0.2 and regularisation parameter: 0.05\n",
            "\n",
            "\n",
            "Coefficients of the model are: -0.0029359655188481324\n",
            "\n",
            "Intercept of the model is : -10268.25292117578\n",
            "\n",
            "The mean squared error of the predicted and actual values is: 81.0630815442083\n",
            "The Coefficient of Determination value(r^2) is: 0.27058364372034294\n",
            "\n",
            "\n",
            "\n",
            "\n",
            "*=*=*=*=*=*=*=*=*=*=*=*=*=*=*=*=*=*=*=*=*=*=*=*=*=*=*=*=*=*=*=*=*=*=*=*=*=*=*=*=*=*=*=*=*=*=*=*=*=*=*=*=*=*=*=*=*=*=*=*=*=*=*=*=*=\n",
            "For the Ridge Regression model with test split ratio 0.2 and regularisation parameter: 0.1\n",
            "\n",
            "\n",
            "Coefficients of the model are(in order of coefficients of the LR): [-0.53290561  1.37180773 -2.98919605 -5.6886489   3.18087782  2.80286044\n",
            " -0.14648965]\n",
            "\n",
            "Intercept of the model is : 38.05009233068094\n",
            "\n",
            "The mean squared error of the predicted and actual values is: 59.80041808172898\n",
            "The Coefficient of Determination value(r^2) is: 0.4365646776097495\n",
            "For the Lasso Regression model with test split ratio 0.2 and regularisation parameter: 0.1\n",
            "\n",
            "\n",
            "Coefficients of the model are: -0.002807842168576795\n",
            "\n",
            "Intercept of the model is : -7900.214306811758\n",
            "\n",
            "The mean squared error of the predicted and actual values is: 93.06908302010638\n",
            "The Coefficient of Determination value(r^2) is: 0.25474161563421727\n",
            "\n",
            "\n",
            "\n",
            "\n",
            "*=*=*=*=*=*=*=*=*=*=*=*=*=*=*=*=*=*=*=*=*=*=*=*=*=*=*=*=*=*=*=*=*=*=*=*=*=*=*=*=*=*=*=*=*=*=*=*=*=*=*=*=*=*=*=*=*=*=*=*=*=*=*=*=*=\n",
            "For the Ridge Regression model with test split ratio 0.2 and regularisation parameter: 0.5\n",
            "\n",
            "\n",
            "Coefficients of the model are(in order of coefficients of the LR): [-0.53169044  1.36900696 -2.98538539 -5.66523627  3.18236757  2.80514825\n",
            " -0.12895601]\n",
            "\n",
            "Intercept of the model is : 38.05022773812666\n",
            "\n",
            "The mean squared error of the predicted and actual values is: 59.80948269520891\n",
            "The Coefficient of Determination value(r^2) is: 0.4356466148084698\n",
            "For the Lasso Regression model with test split ratio 0.2 and regularisation parameter: 0.5\n",
            "\n",
            "\n",
            "Coefficients of the model are: -0.0008712537872764607\n",
            "\n",
            "Intercept of the model is : 44.797451332414\n",
            "\n",
            "The mean squared error of the predicted and actual values is: 56.02947346952889\n",
            "The Coefficient of Determination value(r^2) is: 0.540418981967976\n",
            "\n",
            "\n",
            "\n",
            "\n",
            "*=*=*=*=*=*=*=*=*=*=*=*=*=*=*=*=*=*=*=*=*=*=*=*=*=*=*=*=*=*=*=*=*=*=*=*=*=*=*=*=*=*=*=*=*=*=*=*=*=*=*=*=*=*=*=*=*=*=*=*=*=*=*=*=*=\n",
            "For the Ridge Regression model with test split ratio 0.3 and regularisation parameter: 0.001\n",
            "\n",
            "\n",
            "Coefficients of the model are(in order of coefficients of the LR): [-0.82705281  1.4280071  -3.11644054 -5.85137742  2.95106498  2.83063994\n",
            " -0.14598281]\n",
            "\n",
            "Intercept of the model is : 38.397589391404374\n",
            "\n",
            "The mean squared error of the predicted and actual values is: 73.10682072071043\n",
            "The Coefficient of Determination value(r^2) is: 0.25447191564758687\n",
            "For the Lasso Regression model with test split ratio 0.3 and regularisation parameter: 0.001\n",
            "\n",
            "\n",
            "Coefficients of the model are: -0.00494349958731368\n",
            "\n",
            "Intercept of the model is : -11451.618070395984\n",
            "\n",
            "The mean squared error of the predicted and actual values is: 124.61219490635638\n",
            "The Coefficient of Determination value(r^2) is: 0.025978636294017532\n",
            "\n",
            "\n",
            "\n",
            "\n",
            "*=*=*=*=*=*=*=*=*=*=*=*=*=*=*=*=*=*=*=*=*=*=*=*=*=*=*=*=*=*=*=*=*=*=*=*=*=*=*=*=*=*=*=*=*=*=*=*=*=*=*=*=*=*=*=*=*=*=*=*=*=*=*=*=*=\n",
            "For the Ridge Regression model with test split ratio 0.3 and regularisation parameter: 0.005\n",
            "\n",
            "\n",
            "Coefficients of the model are(in order of coefficients of the LR): [-0.82704082  1.42797877 -3.11639501 -5.85110871  2.95109345  2.8306634\n",
            " -0.14578497]\n",
            "\n",
            "Intercept of the model is : 38.397589590668794\n",
            "\n",
            "The mean squared error of the predicted and actual values is: 73.10678746978506\n",
            "The Coefficient of Determination value(r^2) is: 0.25446122782062386\n",
            "For the Lasso Regression model with test split ratio 0.3 and regularisation parameter: 0.005\n",
            "\n",
            "\n",
            "Coefficients of the model are: -0.0027678864153767514\n",
            "\n",
            "Intercept of the model is : -15570.850960632955\n",
            "\n",
            "The mean squared error of the predicted and actual values is: 102.34091770615271\n",
            "The Coefficient of Determination value(r^2) is: -0.12302440680732851\n",
            "\n",
            "\n",
            "\n",
            "\n",
            "*=*=*=*=*=*=*=*=*=*=*=*=*=*=*=*=*=*=*=*=*=*=*=*=*=*=*=*=*=*=*=*=*=*=*=*=*=*=*=*=*=*=*=*=*=*=*=*=*=*=*=*=*=*=*=*=*=*=*=*=*=*=*=*=*=\n",
            "For the Ridge Regression model with test split ratio 0.3 and regularisation parameter: 0.01\n",
            "\n",
            "\n",
            "Coefficients of the model are(in order of coefficients of the LR): [-0.82702584  1.42794337 -3.1163381  -5.85077288  2.95112902  2.83069271\n",
            " -0.14553773]\n",
            "\n",
            "Intercept of the model is : 38.39758983981556\n",
            "\n",
            "The mean squared error of the predicted and actual values is: 73.10674597729046\n",
            "The Coefficient of Determination value(r^2) is: 0.25444786808251163\n",
            "For the Lasso Regression model with test split ratio 0.3 and regularisation parameter: 0.01\n",
            "\n",
            "\n",
            "Coefficients of the model are: -0.005242387178000682\n",
            "\n",
            "Intercept of the model is : -14383.567009238956\n",
            "\n",
            "The mean squared error of the predicted and actual values is: 65.44127997775631\n",
            "The Coefficient of Determination value(r^2) is: 0.40742488476428873\n",
            "\n",
            "\n",
            "\n",
            "\n",
            "*=*=*=*=*=*=*=*=*=*=*=*=*=*=*=*=*=*=*=*=*=*=*=*=*=*=*=*=*=*=*=*=*=*=*=*=*=*=*=*=*=*=*=*=*=*=*=*=*=*=*=*=*=*=*=*=*=*=*=*=*=*=*=*=*=\n",
            "For the Ridge Regression model with test split ratio 0.3 and regularisation parameter: 0.05\n",
            "\n",
            "\n",
            "Coefficients of the model are(in order of coefficients of the LR): [-0.82690601  1.42766032 -3.11588295 -5.84808891  2.951413    2.83092668\n",
            " -0.14356168]\n",
            "\n",
            "Intercept of the model is : 38.39759183563445\n",
            "\n",
            "The mean squared error of the predicted and actual values is: 73.10641687904322\n",
            "The Coefficient of Determination value(r^2) is: 0.25434099200036653\n",
            "For the Lasso Regression model with test split ratio 0.3 and regularisation parameter: 0.05\n",
            "\n",
            "\n",
            "Coefficients of the model are: -0.0015680872988709578\n",
            "\n",
            "Intercept of the model is : -9872.488846548898\n",
            "\n",
            "The mean squared error of the predicted and actual values is: 73.45288070150653\n",
            "The Coefficient of Determination value(r^2) is: 0.27246683213662826\n",
            "\n",
            "\n",
            "\n",
            "\n",
            "*=*=*=*=*=*=*=*=*=*=*=*=*=*=*=*=*=*=*=*=*=*=*=*=*=*=*=*=*=*=*=*=*=*=*=*=*=*=*=*=*=*=*=*=*=*=*=*=*=*=*=*=*=*=*=*=*=*=*=*=*=*=*=*=*=\n",
            "For the Ridge Regression model with test split ratio 0.3 and regularisation parameter: 0.1\n",
            "\n",
            "\n",
            "Coefficients of the model are(in order of coefficients of the LR): [-0.82675636  1.42730686 -3.11531424 -5.84474049  2.95176645  2.83121793\n",
            " -0.14109648]\n",
            "\n",
            "Intercept of the model is : 38.39759433699607\n",
            "\n",
            "The mean squared error of the predicted and actual values is: 73.1060125874416\n",
            "The Coefficient of Determination value(r^2) is: 0.25420740145014187\n",
            "For the Lasso Regression model with test split ratio 0.3 and regularisation parameter: 0.1\n",
            "\n",
            "\n",
            "Coefficients of the model are: -0.005970897390724154\n",
            "\n",
            "Intercept of the model is : -9900.33512573601\n",
            "\n",
            "The mean squared error of the predicted and actual values is: 75.6859289012824\n",
            "The Coefficient of Determination value(r^2) is: 0.16386503077868853\n",
            "\n",
            "\n",
            "\n",
            "\n",
            "*=*=*=*=*=*=*=*=*=*=*=*=*=*=*=*=*=*=*=*=*=*=*=*=*=*=*=*=*=*=*=*=*=*=*=*=*=*=*=*=*=*=*=*=*=*=*=*=*=*=*=*=*=*=*=*=*=*=*=*=*=*=*=*=*=\n",
            "For the Ridge Regression model with test split ratio 0.3 and regularisation parameter: 0.5\n",
            "\n",
            "\n",
            "Coefficients of the model are(in order of coefficients of the LR): [-0.82556432  1.42449387 -3.1107733  -5.81821243  2.95453422  2.8334995\n",
            " -0.12156674]\n",
            "\n",
            "Intercept of the model is : 38.3976146065403\n",
            "\n",
            "The mean squared error of the predicted and actual values is: 73.10305681683397\n",
            "The Coefficient of Determination value(r^2) is: 0.2531388581708174\n",
            "For the Lasso Regression model with test split ratio 0.3 and regularisation parameter: 0.5\n",
            "\n",
            "\n",
            "Coefficients of the model are: -0.002958027392979035\n",
            "\n",
            "Intercept of the model is : 42.34346362116617\n",
            "\n",
            "The mean squared error of the predicted and actual values is: 116.78849681883119\n",
            "The Coefficient of Determination value(r^2) is: -0.1706262131440992\n",
            "\n",
            "\n",
            "\n",
            "\n",
            "*=*=*=*=*=*=*=*=*=*=*=*=*=*=*=*=*=*=*=*=*=*=*=*=*=*=*=*=*=*=*=*=*=*=*=*=*=*=*=*=*=*=*=*=*=*=*=*=*=*=*=*=*=*=*=*=*=*=*=*=*=*=*=*=*=\n",
            "For the Ridge Regression model with test split ratio 0.4 and regularisation parameter: 0.001\n",
            "\n",
            "\n",
            "Coefficients of the model are(in order of coefficients of the LR): [-0.72606277  1.45118146 -3.07412596 -6.5025182   2.80693399  2.98614468\n",
            " -0.21564397]\n",
            "\n",
            "Intercept of the model is : 38.384616076079766\n",
            "\n",
            "The mean squared error of the predicted and actual values is: 68.35945417146831\n",
            "The Coefficient of Determination value(r^2) is: 0.47005593619046193\n",
            "For the Lasso Regression model with test split ratio 0.4 and regularisation parameter: 0.001\n",
            "\n",
            "\n",
            "Coefficients of the model are: -0.0036542232985332904\n",
            "\n",
            "Intercept of the model is : -12353.819616432336\n",
            "\n",
            "The mean squared error of the predicted and actual values is: 66.78266968660036\n",
            "The Coefficient of Determination value(r^2) is: 0.48014205319236336\n",
            "\n",
            "\n",
            "\n",
            "\n",
            "*=*=*=*=*=*=*=*=*=*=*=*=*=*=*=*=*=*=*=*=*=*=*=*=*=*=*=*=*=*=*=*=*=*=*=*=*=*=*=*=*=*=*=*=*=*=*=*=*=*=*=*=*=*=*=*=*=*=*=*=*=*=*=*=*=\n",
            "For the Ridge Regression model with test split ratio 0.4 and regularisation parameter: 0.005\n",
            "\n",
            "\n",
            "Coefficients of the model are(in order of coefficients of the LR): [-0.72603956  1.45115389 -3.07406446 -6.50213469  2.80699939  2.98617764\n",
            " -0.21538732]\n",
            "\n",
            "Intercept of the model is : 38.384620083479014\n",
            "\n",
            "The mean squared error of the predicted and actual values is: 68.35900199894544\n",
            "The Coefficient of Determination value(r^2) is: 0.4700480708527588\n",
            "For the Lasso Regression model with test split ratio 0.4 and regularisation parameter: 0.005\n",
            "\n",
            "\n",
            "Coefficients of the model are: -0.0049722309201653166\n",
            "\n",
            "Intercept of the model is : -13679.70844238961\n",
            "\n",
            "The mean squared error of the predicted and actual values is: 57.57754445773293\n",
            "The Coefficient of Determination value(r^2) is: 0.3121122544377134\n",
            "\n",
            "\n",
            "\n",
            "\n",
            "*=*=*=*=*=*=*=*=*=*=*=*=*=*=*=*=*=*=*=*=*=*=*=*=*=*=*=*=*=*=*=*=*=*=*=*=*=*=*=*=*=*=*=*=*=*=*=*=*=*=*=*=*=*=*=*=*=*=*=*=*=*=*=*=*=\n",
            "For the Ridge Regression model with test split ratio 0.4 and regularisation parameter: 0.01\n",
            "\n",
            "\n",
            "Coefficients of the model are(in order of coefficients of the LR): [-0.72601055  1.45111944 -3.07398758 -6.5016554   2.8070811   2.98621882\n",
            " -0.21506657]\n",
            "\n",
            "Intercept of the model is : 38.384625091751225\n",
            "\n",
            "The mean squared error of the predicted and actual values is: 68.35843700971321\n",
            "The Coefficient of Determination value(r^2) is: 0.4700382388736105\n",
            "For the Lasso Regression model with test split ratio 0.4 and regularisation parameter: 0.01\n",
            "\n",
            "\n",
            "Coefficients of the model are: -0.008877433331138267\n",
            "\n",
            "Intercept of the model is : -13955.320975911383\n",
            "\n",
            "The mean squared error of the predicted and actual values is: 67.56480230751852\n",
            "The Coefficient of Determination value(r^2) is: 0.3235502395566898\n",
            "\n",
            "\n",
            "\n",
            "\n",
            "*=*=*=*=*=*=*=*=*=*=*=*=*=*=*=*=*=*=*=*=*=*=*=*=*=*=*=*=*=*=*=*=*=*=*=*=*=*=*=*=*=*=*=*=*=*=*=*=*=*=*=*=*=*=*=*=*=*=*=*=*=*=*=*=*=\n",
            "For the Ridge Regression model with test split ratio 0.4 and regularisation parameter: 0.05\n",
            "\n",
            "\n",
            "Coefficients of the model are(in order of coefficients of the LR): [-0.72577871  1.45084398 -3.07337282 -6.49782559  2.80773356  2.98654752\n",
            " -0.21250369]\n",
            "\n",
            "Intercept of the model is : 38.38466511890673\n",
            "\n",
            "The mean squared error of the predicted and actual values is: 68.35392613640177\n",
            "The Coefficient of Determination value(r^2) is: 0.46995957078516415\n",
            "For the Lasso Regression model with test split ratio 0.4 and regularisation parameter: 0.05\n",
            "\n",
            "\n",
            "Coefficients of the model are: -0.0051525633940195815\n",
            "\n",
            "Intercept of the model is : -10787.622789679248\n",
            "\n",
            "The mean squared error of the predicted and actual values is: 70.7552996961104\n",
            "The Coefficient of Determination value(r^2) is: 0.3464309772311057\n",
            "\n",
            "\n",
            "\n",
            "\n",
            "*=*=*=*=*=*=*=*=*=*=*=*=*=*=*=*=*=*=*=*=*=*=*=*=*=*=*=*=*=*=*=*=*=*=*=*=*=*=*=*=*=*=*=*=*=*=*=*=*=*=*=*=*=*=*=*=*=*=*=*=*=*=*=*=*=\n",
            "For the Ridge Regression model with test split ratio 0.4 and regularisation parameter: 0.1\n",
            "\n",
            "\n",
            "Coefficients of the model are(in order of coefficients of the LR): [-0.72548953  1.45050002 -3.07260503 -6.49304944  2.80854605  2.98695649\n",
            " -0.20930776]\n",
            "\n",
            "Intercept of the model is : 38.38471505554476\n",
            "\n",
            "The mean squared error of the predicted and actual values is: 68.34831006735376\n",
            "The Coefficient of Determination value(r^2) is: 0.4698612051594945\n",
            "For the Lasso Regression model with test split ratio 0.4 and regularisation parameter: 0.1\n",
            "\n",
            "\n",
            "Coefficients of the model are: -0.006558706343965143\n",
            "\n",
            "Intercept of the model is : -10229.159895755807\n",
            "\n",
            "The mean squared error of the predicted and actual values is: 82.66516301015108\n",
            "The Coefficient of Determination value(r^2) is: 0.24363976532277487\n",
            "\n",
            "\n",
            "\n",
            "\n",
            "*=*=*=*=*=*=*=*=*=*=*=*=*=*=*=*=*=*=*=*=*=*=*=*=*=*=*=*=*=*=*=*=*=*=*=*=*=*=*=*=*=*=*=*=*=*=*=*=*=*=*=*=*=*=*=*=*=*=*=*=*=*=*=*=*=\n",
            "For the Ridge Regression model with test split ratio 0.4 and regularisation parameter: 0.5\n",
            "\n",
            "\n",
            "Coefficients of the model are(in order of coefficients of the LR): [-0.72320079  1.44776269 -3.06648836 -6.45527926  2.8149246   2.99015277\n",
            " -0.18404371]\n",
            "\n",
            "Intercept of the model is : 38.385110707113164\n",
            "\n",
            "The mean squared error of the predicted and actual values is: 68.30426644541582\n",
            "The Coefficient of Determination value(r^2) is: 0.4690730843797123\n",
            "For the Lasso Regression model with test split ratio 0.4 and regularisation parameter: 0.5\n",
            "\n",
            "\n",
            "Coefficients of the model are: -0.0029074018487278124\n",
            "\n",
            "Intercept of the model is : 44.16074047129497\n",
            "\n",
            "The mean squared error of the predicted and actual values is: 83.95944154326904\n",
            "The Coefficient of Determination value(r^2) is: 0.22752447314684965\n",
            "\n",
            "\n",
            "\n",
            "\n",
            "*=*=*=*=*=*=*=*=*=*=*=*=*=*=*=*=*=*=*=*=*=*=*=*=*=*=*=*=*=*=*=*=*=*=*=*=*=*=*=*=*=*=*=*=*=*=*=*=*=*=*=*=*=*=*=*=*=*=*=*=*=*=*=*=*=\n"
          ]
        }
      ]
    },
    {
      "cell_type": "code",
      "metadata": {
        "id": "iNYnOG4KROuQ",
        "colab": {
          "base_uri": "https://localhost:8080/",
          "height": 1000
        },
        "outputId": "8d5e5f56-8b8f-4954-89e1-879487c1f97f"
      },
      "source": [
        "resultsregmodels.sort_values(by='Regularisation Model', ignore_index=True,)"
      ],
      "execution_count": null,
      "outputs": [
        {
          "output_type": "execute_result",
          "data": {
            "text/html": [
              "<div>\n",
              "<style scoped>\n",
              "    .dataframe tbody tr th:only-of-type {\n",
              "        vertical-align: middle;\n",
              "    }\n",
              "\n",
              "    .dataframe tbody tr th {\n",
              "        vertical-align: top;\n",
              "    }\n",
              "\n",
              "    .dataframe thead th {\n",
              "        text-align: right;\n",
              "    }\n",
              "</style>\n",
              "<table border=\"1\" class=\"dataframe\">\n",
              "  <thead>\n",
              "    <tr style=\"text-align: right;\">\n",
              "      <th></th>\n",
              "      <th>Regularisation Model</th>\n",
              "      <th>Test Split</th>\n",
              "      <th>Regularisation</th>\n",
              "      <th>R2 value for test</th>\n",
              "      <th>MSE for test data</th>\n",
              "    </tr>\n",
              "  </thead>\n",
              "  <tbody>\n",
              "    <tr>\n",
              "      <th>0</th>\n",
              "      <td>Lasso</td>\n",
              "      <td>0.2</td>\n",
              "      <td>0.500</td>\n",
              "      <td>0.540419</td>\n",
              "      <td>56.029473</td>\n",
              "    </tr>\n",
              "    <tr>\n",
              "      <th>1</th>\n",
              "      <td>Lasso</td>\n",
              "      <td>0.4</td>\n",
              "      <td>0.100</td>\n",
              "      <td>0.243640</td>\n",
              "      <td>82.665163</td>\n",
              "    </tr>\n",
              "    <tr>\n",
              "      <th>2</th>\n",
              "      <td>Lasso</td>\n",
              "      <td>0.4</td>\n",
              "      <td>0.050</td>\n",
              "      <td>0.346431</td>\n",
              "      <td>70.755300</td>\n",
              "    </tr>\n",
              "    <tr>\n",
              "      <th>3</th>\n",
              "      <td>Lasso</td>\n",
              "      <td>0.4</td>\n",
              "      <td>0.010</td>\n",
              "      <td>0.323550</td>\n",
              "      <td>67.564802</td>\n",
              "    </tr>\n",
              "    <tr>\n",
              "      <th>4</th>\n",
              "      <td>Lasso</td>\n",
              "      <td>0.4</td>\n",
              "      <td>0.005</td>\n",
              "      <td>0.312112</td>\n",
              "      <td>57.577544</td>\n",
              "    </tr>\n",
              "    <tr>\n",
              "      <th>5</th>\n",
              "      <td>Lasso</td>\n",
              "      <td>0.4</td>\n",
              "      <td>0.001</td>\n",
              "      <td>0.480142</td>\n",
              "      <td>66.782670</td>\n",
              "    </tr>\n",
              "    <tr>\n",
              "      <th>6</th>\n",
              "      <td>Lasso</td>\n",
              "      <td>0.3</td>\n",
              "      <td>0.500</td>\n",
              "      <td>-0.170626</td>\n",
              "      <td>116.788497</td>\n",
              "    </tr>\n",
              "    <tr>\n",
              "      <th>7</th>\n",
              "      <td>Lasso</td>\n",
              "      <td>0.3</td>\n",
              "      <td>0.100</td>\n",
              "      <td>0.163865</td>\n",
              "      <td>75.685929</td>\n",
              "    </tr>\n",
              "    <tr>\n",
              "      <th>8</th>\n",
              "      <td>Lasso</td>\n",
              "      <td>0.3</td>\n",
              "      <td>0.050</td>\n",
              "      <td>0.272467</td>\n",
              "      <td>73.452881</td>\n",
              "    </tr>\n",
              "    <tr>\n",
              "      <th>9</th>\n",
              "      <td>Lasso</td>\n",
              "      <td>0.3</td>\n",
              "      <td>0.010</td>\n",
              "      <td>0.407425</td>\n",
              "      <td>65.441280</td>\n",
              "    </tr>\n",
              "    <tr>\n",
              "      <th>10</th>\n",
              "      <td>Lasso</td>\n",
              "      <td>0.3</td>\n",
              "      <td>0.005</td>\n",
              "      <td>-0.123024</td>\n",
              "      <td>102.340918</td>\n",
              "    </tr>\n",
              "    <tr>\n",
              "      <th>11</th>\n",
              "      <td>Lasso</td>\n",
              "      <td>0.3</td>\n",
              "      <td>0.001</td>\n",
              "      <td>0.025979</td>\n",
              "      <td>124.612195</td>\n",
              "    </tr>\n",
              "    <tr>\n",
              "      <th>12</th>\n",
              "      <td>Lasso</td>\n",
              "      <td>0.2</td>\n",
              "      <td>0.100</td>\n",
              "      <td>0.254742</td>\n",
              "      <td>93.069083</td>\n",
              "    </tr>\n",
              "    <tr>\n",
              "      <th>13</th>\n",
              "      <td>Lasso</td>\n",
              "      <td>0.2</td>\n",
              "      <td>0.050</td>\n",
              "      <td>0.270584</td>\n",
              "      <td>81.063082</td>\n",
              "    </tr>\n",
              "    <tr>\n",
              "      <th>14</th>\n",
              "      <td>Lasso</td>\n",
              "      <td>0.2</td>\n",
              "      <td>0.010</td>\n",
              "      <td>0.567192</td>\n",
              "      <td>51.388402</td>\n",
              "    </tr>\n",
              "    <tr>\n",
              "      <th>15</th>\n",
              "      <td>Lasso</td>\n",
              "      <td>0.4</td>\n",
              "      <td>0.500</td>\n",
              "      <td>0.227524</td>\n",
              "      <td>83.959442</td>\n",
              "    </tr>\n",
              "    <tr>\n",
              "      <th>16</th>\n",
              "      <td>Lasso</td>\n",
              "      <td>0.1</td>\n",
              "      <td>0.050</td>\n",
              "      <td>0.620205</td>\n",
              "      <td>61.877874</td>\n",
              "    </tr>\n",
              "    <tr>\n",
              "      <th>17</th>\n",
              "      <td>Lasso</td>\n",
              "      <td>0.1</td>\n",
              "      <td>0.001</td>\n",
              "      <td>0.201815</td>\n",
              "      <td>65.142404</td>\n",
              "    </tr>\n",
              "    <tr>\n",
              "      <th>18</th>\n",
              "      <td>Lasso</td>\n",
              "      <td>0.2</td>\n",
              "      <td>0.005</td>\n",
              "      <td>0.510756</td>\n",
              "      <td>61.398072</td>\n",
              "    </tr>\n",
              "    <tr>\n",
              "      <th>19</th>\n",
              "      <td>Lasso</td>\n",
              "      <td>0.2</td>\n",
              "      <td>0.001</td>\n",
              "      <td>-0.311318</td>\n",
              "      <td>131.768133</td>\n",
              "    </tr>\n",
              "    <tr>\n",
              "      <th>20</th>\n",
              "      <td>Lasso</td>\n",
              "      <td>0.1</td>\n",
              "      <td>0.100</td>\n",
              "      <td>0.564804</td>\n",
              "      <td>40.906911</td>\n",
              "    </tr>\n",
              "    <tr>\n",
              "      <th>21</th>\n",
              "      <td>Lasso</td>\n",
              "      <td>0.1</td>\n",
              "      <td>0.005</td>\n",
              "      <td>0.230558</td>\n",
              "      <td>65.210544</td>\n",
              "    </tr>\n",
              "    <tr>\n",
              "      <th>22</th>\n",
              "      <td>Lasso</td>\n",
              "      <td>0.1</td>\n",
              "      <td>0.010</td>\n",
              "      <td>0.468707</td>\n",
              "      <td>63.166754</td>\n",
              "    </tr>\n",
              "    <tr>\n",
              "      <th>23</th>\n",
              "      <td>Lasso</td>\n",
              "      <td>0.1</td>\n",
              "      <td>0.500</td>\n",
              "      <td>-1.950871</td>\n",
              "      <td>236.910618</td>\n",
              "    </tr>\n",
              "    <tr>\n",
              "      <th>24</th>\n",
              "      <td>Ridge</td>\n",
              "      <td>0.1</td>\n",
              "      <td>0.050</td>\n",
              "      <td>0.506072</td>\n",
              "      <td>51.843514</td>\n",
              "    </tr>\n",
              "    <tr>\n",
              "      <th>25</th>\n",
              "      <td>Ridge</td>\n",
              "      <td>0.4</td>\n",
              "      <td>0.001</td>\n",
              "      <td>0.470056</td>\n",
              "      <td>68.359454</td>\n",
              "    </tr>\n",
              "    <tr>\n",
              "      <th>26</th>\n",
              "      <td>Ridge</td>\n",
              "      <td>0.2</td>\n",
              "      <td>0.010</td>\n",
              "      <td>0.436771</td>\n",
              "      <td>59.798426</td>\n",
              "    </tr>\n",
              "    <tr>\n",
              "      <th>27</th>\n",
              "      <td>Ridge</td>\n",
              "      <td>0.3</td>\n",
              "      <td>0.500</td>\n",
              "      <td>0.253139</td>\n",
              "      <td>73.103057</td>\n",
              "    </tr>\n",
              "    <tr>\n",
              "      <th>28</th>\n",
              "      <td>Ridge</td>\n",
              "      <td>0.4</td>\n",
              "      <td>0.010</td>\n",
              "      <td>0.470038</td>\n",
              "      <td>68.358437</td>\n",
              "    </tr>\n",
              "    <tr>\n",
              "      <th>29</th>\n",
              "      <td>Ridge</td>\n",
              "      <td>0.4</td>\n",
              "      <td>0.050</td>\n",
              "      <td>0.469960</td>\n",
              "      <td>68.353926</td>\n",
              "    </tr>\n",
              "    <tr>\n",
              "      <th>30</th>\n",
              "      <td>Ridge</td>\n",
              "      <td>0.1</td>\n",
              "      <td>0.005</td>\n",
              "      <td>0.506170</td>\n",
              "      <td>51.842340</td>\n",
              "    </tr>\n",
              "    <tr>\n",
              "      <th>31</th>\n",
              "      <td>Ridge</td>\n",
              "      <td>0.4</td>\n",
              "      <td>0.100</td>\n",
              "      <td>0.469861</td>\n",
              "      <td>68.348310</td>\n",
              "    </tr>\n",
              "    <tr>\n",
              "      <th>32</th>\n",
              "      <td>Ridge</td>\n",
              "      <td>0.4</td>\n",
              "      <td>0.005</td>\n",
              "      <td>0.470048</td>\n",
              "      <td>68.359002</td>\n",
              "    </tr>\n",
              "    <tr>\n",
              "      <th>33</th>\n",
              "      <td>Ridge</td>\n",
              "      <td>0.1</td>\n",
              "      <td>0.010</td>\n",
              "      <td>0.506159</td>\n",
              "      <td>51.842471</td>\n",
              "    </tr>\n",
              "    <tr>\n",
              "      <th>34</th>\n",
              "      <td>Ridge</td>\n",
              "      <td>0.1</td>\n",
              "      <td>0.100</td>\n",
              "      <td>0.505962</td>\n",
              "      <td>51.844819</td>\n",
              "    </tr>\n",
              "    <tr>\n",
              "      <th>35</th>\n",
              "      <td>Ridge</td>\n",
              "      <td>0.3</td>\n",
              "      <td>0.050</td>\n",
              "      <td>0.254341</td>\n",
              "      <td>73.106417</td>\n",
              "    </tr>\n",
              "    <tr>\n",
              "      <th>36</th>\n",
              "      <td>Ridge</td>\n",
              "      <td>0.3</td>\n",
              "      <td>0.010</td>\n",
              "      <td>0.254448</td>\n",
              "      <td>73.106746</td>\n",
              "    </tr>\n",
              "    <tr>\n",
              "      <th>37</th>\n",
              "      <td>Ridge</td>\n",
              "      <td>0.1</td>\n",
              "      <td>0.500</td>\n",
              "      <td>0.505090</td>\n",
              "      <td>51.855239</td>\n",
              "    </tr>\n",
              "    <tr>\n",
              "      <th>38</th>\n",
              "      <td>Ridge</td>\n",
              "      <td>0.3</td>\n",
              "      <td>0.005</td>\n",
              "      <td>0.254461</td>\n",
              "      <td>73.106787</td>\n",
              "    </tr>\n",
              "    <tr>\n",
              "      <th>39</th>\n",
              "      <td>Ridge</td>\n",
              "      <td>0.3</td>\n",
              "      <td>0.001</td>\n",
              "      <td>0.254472</td>\n",
              "      <td>73.106821</td>\n",
              "    </tr>\n",
              "    <tr>\n",
              "      <th>40</th>\n",
              "      <td>Ridge</td>\n",
              "      <td>0.4</td>\n",
              "      <td>0.500</td>\n",
              "      <td>0.469073</td>\n",
              "      <td>68.304266</td>\n",
              "    </tr>\n",
              "    <tr>\n",
              "      <th>41</th>\n",
              "      <td>Ridge</td>\n",
              "      <td>0.2</td>\n",
              "      <td>0.500</td>\n",
              "      <td>0.435647</td>\n",
              "      <td>59.809483</td>\n",
              "    </tr>\n",
              "    <tr>\n",
              "      <th>42</th>\n",
              "      <td>Ridge</td>\n",
              "      <td>0.2</td>\n",
              "      <td>0.001</td>\n",
              "      <td>0.436792</td>\n",
              "      <td>59.798228</td>\n",
              "    </tr>\n",
              "    <tr>\n",
              "      <th>43</th>\n",
              "      <td>Ridge</td>\n",
              "      <td>0.2</td>\n",
              "      <td>0.100</td>\n",
              "      <td>0.436565</td>\n",
              "      <td>59.800418</td>\n",
              "    </tr>\n",
              "    <tr>\n",
              "      <th>44</th>\n",
              "      <td>Ridge</td>\n",
              "      <td>0.2</td>\n",
              "      <td>0.050</td>\n",
              "      <td>0.436679</td>\n",
              "      <td>59.799309</td>\n",
              "    </tr>\n",
              "    <tr>\n",
              "      <th>45</th>\n",
              "      <td>Ridge</td>\n",
              "      <td>0.2</td>\n",
              "      <td>0.005</td>\n",
              "      <td>0.436783</td>\n",
              "      <td>59.798316</td>\n",
              "    </tr>\n",
              "    <tr>\n",
              "      <th>46</th>\n",
              "      <td>Ridge</td>\n",
              "      <td>0.3</td>\n",
              "      <td>0.100</td>\n",
              "      <td>0.254207</td>\n",
              "      <td>73.106013</td>\n",
              "    </tr>\n",
              "    <tr>\n",
              "      <th>47</th>\n",
              "      <td>Ridge</td>\n",
              "      <td>0.1</td>\n",
              "      <td>0.001</td>\n",
              "      <td>0.506179</td>\n",
              "      <td>51.842236</td>\n",
              "    </tr>\n",
              "  </tbody>\n",
              "</table>\n",
              "</div>"
            ],
            "text/plain": [
              "   Regularisation Model  Test Split  ...  R2 value for test  MSE for test data\n",
              "0                 Lasso         0.2  ...           0.540419          56.029473\n",
              "1                 Lasso         0.4  ...           0.243640          82.665163\n",
              "2                 Lasso         0.4  ...           0.346431          70.755300\n",
              "3                 Lasso         0.4  ...           0.323550          67.564802\n",
              "4                 Lasso         0.4  ...           0.312112          57.577544\n",
              "5                 Lasso         0.4  ...           0.480142          66.782670\n",
              "6                 Lasso         0.3  ...          -0.170626         116.788497\n",
              "7                 Lasso         0.3  ...           0.163865          75.685929\n",
              "8                 Lasso         0.3  ...           0.272467          73.452881\n",
              "9                 Lasso         0.3  ...           0.407425          65.441280\n",
              "10                Lasso         0.3  ...          -0.123024         102.340918\n",
              "11                Lasso         0.3  ...           0.025979         124.612195\n",
              "12                Lasso         0.2  ...           0.254742          93.069083\n",
              "13                Lasso         0.2  ...           0.270584          81.063082\n",
              "14                Lasso         0.2  ...           0.567192          51.388402\n",
              "15                Lasso         0.4  ...           0.227524          83.959442\n",
              "16                Lasso         0.1  ...           0.620205          61.877874\n",
              "17                Lasso         0.1  ...           0.201815          65.142404\n",
              "18                Lasso         0.2  ...           0.510756          61.398072\n",
              "19                Lasso         0.2  ...          -0.311318         131.768133\n",
              "20                Lasso         0.1  ...           0.564804          40.906911\n",
              "21                Lasso         0.1  ...           0.230558          65.210544\n",
              "22                Lasso         0.1  ...           0.468707          63.166754\n",
              "23                Lasso         0.1  ...          -1.950871         236.910618\n",
              "24                Ridge         0.1  ...           0.506072          51.843514\n",
              "25                Ridge         0.4  ...           0.470056          68.359454\n",
              "26                Ridge         0.2  ...           0.436771          59.798426\n",
              "27                Ridge         0.3  ...           0.253139          73.103057\n",
              "28                Ridge         0.4  ...           0.470038          68.358437\n",
              "29                Ridge         0.4  ...           0.469960          68.353926\n",
              "30                Ridge         0.1  ...           0.506170          51.842340\n",
              "31                Ridge         0.4  ...           0.469861          68.348310\n",
              "32                Ridge         0.4  ...           0.470048          68.359002\n",
              "33                Ridge         0.1  ...           0.506159          51.842471\n",
              "34                Ridge         0.1  ...           0.505962          51.844819\n",
              "35                Ridge         0.3  ...           0.254341          73.106417\n",
              "36                Ridge         0.3  ...           0.254448          73.106746\n",
              "37                Ridge         0.1  ...           0.505090          51.855239\n",
              "38                Ridge         0.3  ...           0.254461          73.106787\n",
              "39                Ridge         0.3  ...           0.254472          73.106821\n",
              "40                Ridge         0.4  ...           0.469073          68.304266\n",
              "41                Ridge         0.2  ...           0.435647          59.809483\n",
              "42                Ridge         0.2  ...           0.436792          59.798228\n",
              "43                Ridge         0.2  ...           0.436565          59.800418\n",
              "44                Ridge         0.2  ...           0.436679          59.799309\n",
              "45                Ridge         0.2  ...           0.436783          59.798316\n",
              "46                Ridge         0.3  ...           0.254207          73.106013\n",
              "47                Ridge         0.1  ...           0.506179          51.842236\n",
              "\n",
              "[48 rows x 5 columns]"
            ]
          },
          "metadata": {},
          "execution_count": 304
        }
      ]
    },
    {
      "cell_type": "markdown",
      "metadata": {
        "id": "qANd5vzlFM0Q"
      },
      "source": [
        "#Question 2"
      ]
    },
    {
      "cell_type": "code",
      "metadata": {
        "id": "w1DkmZdzNeQI"
      },
      "source": [
        "from sklearn.preprocessing import StandardScaler\n",
        "from sklearn.model_selection import train_test_split\n",
        "from sklearn.linear_model import LogisticRegression"
      ],
      "execution_count": null,
      "outputs": []
    },
    {
      "cell_type": "code",
      "metadata": {
        "id": "EcxgKPmBLjva"
      },
      "source": [
        "df2=pd.read_csv(\"haberman.data\")"
      ],
      "execution_count": null,
      "outputs": []
    },
    {
      "cell_type": "code",
      "metadata": {
        "colab": {
          "base_uri": "https://localhost:8080/",
          "height": 203
        },
        "id": "mqPhqnosLjts",
        "outputId": "d9e3d139-8e5e-4426-be13-9cad1f1bc3b7"
      },
      "source": [
        "df2.head()\n",
        "#first entry is seen as a header, so we have to change that"
      ],
      "execution_count": null,
      "outputs": [
        {
          "output_type": "execute_result",
          "data": {
            "text/html": [
              "<div>\n",
              "<style scoped>\n",
              "    .dataframe tbody tr th:only-of-type {\n",
              "        vertical-align: middle;\n",
              "    }\n",
              "\n",
              "    .dataframe tbody tr th {\n",
              "        vertical-align: top;\n",
              "    }\n",
              "\n",
              "    .dataframe thead th {\n",
              "        text-align: right;\n",
              "    }\n",
              "</style>\n",
              "<table border=\"1\" class=\"dataframe\">\n",
              "  <thead>\n",
              "    <tr style=\"text-align: right;\">\n",
              "      <th></th>\n",
              "      <th>30</th>\n",
              "      <th>64</th>\n",
              "      <th>1</th>\n",
              "      <th>1.1</th>\n",
              "    </tr>\n",
              "  </thead>\n",
              "  <tbody>\n",
              "    <tr>\n",
              "      <th>0</th>\n",
              "      <td>30</td>\n",
              "      <td>62</td>\n",
              "      <td>3</td>\n",
              "      <td>1</td>\n",
              "    </tr>\n",
              "    <tr>\n",
              "      <th>1</th>\n",
              "      <td>30</td>\n",
              "      <td>65</td>\n",
              "      <td>0</td>\n",
              "      <td>1</td>\n",
              "    </tr>\n",
              "    <tr>\n",
              "      <th>2</th>\n",
              "      <td>31</td>\n",
              "      <td>59</td>\n",
              "      <td>2</td>\n",
              "      <td>1</td>\n",
              "    </tr>\n",
              "    <tr>\n",
              "      <th>3</th>\n",
              "      <td>31</td>\n",
              "      <td>65</td>\n",
              "      <td>4</td>\n",
              "      <td>1</td>\n",
              "    </tr>\n",
              "    <tr>\n",
              "      <th>4</th>\n",
              "      <td>33</td>\n",
              "      <td>58</td>\n",
              "      <td>10</td>\n",
              "      <td>1</td>\n",
              "    </tr>\n",
              "  </tbody>\n",
              "</table>\n",
              "</div>"
            ],
            "text/plain": [
              "   30  64   1  1.1\n",
              "0  30  62   3    1\n",
              "1  30  65   0    1\n",
              "2  31  59   2    1\n",
              "3  31  65   4    1\n",
              "4  33  58  10    1"
            ]
          },
          "metadata": {},
          "execution_count": 307
        }
      ]
    },
    {
      "cell_type": "code",
      "metadata": {
        "colab": {
          "base_uri": "https://localhost:8080/",
          "height": 203
        },
        "id": "t9AuCyP2Ljr6",
        "outputId": "8f654f34-7f14-4ff4-c9b6-12fe2795759e"
      },
      "source": [
        "df2.columns=['age', 'yr', 'pos_nodes', 'status']\n",
        "df2.head()\n",
        "#statuses are 1 if average lifespan after surgery is more than 5 years\n",
        "#else, status is 2 "
      ],
      "execution_count": null,
      "outputs": [
        {
          "output_type": "execute_result",
          "data": {
            "text/html": [
              "<div>\n",
              "<style scoped>\n",
              "    .dataframe tbody tr th:only-of-type {\n",
              "        vertical-align: middle;\n",
              "    }\n",
              "\n",
              "    .dataframe tbody tr th {\n",
              "        vertical-align: top;\n",
              "    }\n",
              "\n",
              "    .dataframe thead th {\n",
              "        text-align: right;\n",
              "    }\n",
              "</style>\n",
              "<table border=\"1\" class=\"dataframe\">\n",
              "  <thead>\n",
              "    <tr style=\"text-align: right;\">\n",
              "      <th></th>\n",
              "      <th>age</th>\n",
              "      <th>yr</th>\n",
              "      <th>pos_nodes</th>\n",
              "      <th>status</th>\n",
              "    </tr>\n",
              "  </thead>\n",
              "  <tbody>\n",
              "    <tr>\n",
              "      <th>0</th>\n",
              "      <td>30</td>\n",
              "      <td>62</td>\n",
              "      <td>3</td>\n",
              "      <td>1</td>\n",
              "    </tr>\n",
              "    <tr>\n",
              "      <th>1</th>\n",
              "      <td>30</td>\n",
              "      <td>65</td>\n",
              "      <td>0</td>\n",
              "      <td>1</td>\n",
              "    </tr>\n",
              "    <tr>\n",
              "      <th>2</th>\n",
              "      <td>31</td>\n",
              "      <td>59</td>\n",
              "      <td>2</td>\n",
              "      <td>1</td>\n",
              "    </tr>\n",
              "    <tr>\n",
              "      <th>3</th>\n",
              "      <td>31</td>\n",
              "      <td>65</td>\n",
              "      <td>4</td>\n",
              "      <td>1</td>\n",
              "    </tr>\n",
              "    <tr>\n",
              "      <th>4</th>\n",
              "      <td>33</td>\n",
              "      <td>58</td>\n",
              "      <td>10</td>\n",
              "      <td>1</td>\n",
              "    </tr>\n",
              "  </tbody>\n",
              "</table>\n",
              "</div>"
            ],
            "text/plain": [
              "   age  yr  pos_nodes  status\n",
              "0   30  62          3       1\n",
              "1   30  65          0       1\n",
              "2   31  59          2       1\n",
              "3   31  65          4       1\n",
              "4   33  58         10       1"
            ]
          },
          "metadata": {},
          "execution_count": 308
        }
      ]
    },
    {
      "cell_type": "code",
      "metadata": {
        "colab": {
          "base_uri": "https://localhost:8080/"
        },
        "id": "nKzBj9ZCLjqN",
        "outputId": "b4177fde-000b-400e-fb5f-2bf82fd8953b"
      },
      "source": [
        "print(f\"Total number of records is: {df2.shape[0]}\")\n",
        "x=df2.shape[1]"
      ],
      "execution_count": null,
      "outputs": [
        {
          "output_type": "stream",
          "name": "stdout",
          "text": [
            "Total number of records is: 305\n"
          ]
        }
      ]
    },
    {
      "cell_type": "code",
      "metadata": {
        "id": "iWeY3oYVLjog"
      },
      "source": [
        "no_surv=len(df2[df2['status']==1])\n",
        "no_notsurv=len(df2[df2['status']==2])"
      ],
      "execution_count": null,
      "outputs": []
    },
    {
      "cell_type": "code",
      "metadata": {
        "colab": {
          "base_uri": "https://localhost:8080/",
          "height": 404
        },
        "id": "L3hNTNdFxiAL",
        "outputId": "425332ca-b30a-4fbc-c1ce-2356376979b6"
      },
      "source": [
        "fig=plt.figure(figsize=(5, 10))\n",
        "fig=sns.FacetGrid(df2, hue=\"status\",size=5).map(sns.distplot,\"yr\").add_legend()\n",
        "plt.title(\"Demographics of Haberman Data\", fontsize=15, weight='bold')\n",
        "plt.show()\n",
        "#plotting the density graphs alongwith the frequency bars\n"
      ],
      "execution_count": null,
      "outputs": [
        {
          "output_type": "display_data",
          "data": {
            "text/plain": [
              "<Figure size 360x720 with 0 Axes>"
            ]
          },
          "metadata": {}
        },
        {
          "output_type": "display_data",
          "data": {
            "image/png": "[encoded data removed]",
            "text/plain": [
              "<Figure size 402.375x360 with 1 Axes>"
            ]
          },
          "metadata": {
            "needs_background": "light"
          }
        }
      ]
    },
    {
      "cell_type": "code",
      "metadata": {
        "colab": {
          "base_uri": "https://localhost:8080/",
          "height": 296
        },
        "id": "4QTY8xp0Ljmd",
        "outputId": "1dba8056-6f46-4717-ccf0-0e1434382269"
      },
      "source": [
        "sns.boxplot(x='status',y='age', data=df2, )\n",
        "#displaying the demographics of data - preprocessing"
      ],
      "execution_count": null,
      "outputs": [
        {
          "output_type": "execute_result",
          "data": {
            "text/plain": [
              "<matplotlib.axes._subplots.AxesSubplot at 0x7f65f0178ed0>"
            ]
          },
          "metadata": {},
          "execution_count": 312
        },
        {
          "output_type": "display_data",
          "data": {
            "image/png": "[encoded data removed]",
            "text/plain": [
              "<Figure size 432x288 with 1 Axes>"
            ]
          },
          "metadata": {
            "needs_background": "light"
          }
        }
      ]
    },
    {
      "cell_type": "code",
      "metadata": {
        "colab": {
          "base_uri": "https://localhost:8080/",
          "height": 969
        },
        "id": "3iMVGGJNLjkz",
        "outputId": "887e66f1-13be-429b-834b-a16b0641d0a9"
      },
      "source": [
        "fig=plt.figure(figsize=(5, 7))\n",
        "columns2=['age', 'yr', 'pos_nodes']\n",
        "for i in columns2:\n",
        "    sns.violinplot(x='status', y=i, data=df2, split=True)\n",
        "    plt.show()\n",
        "\n",
        "#the violin plots show the distribution of patients across variuos parameters"
      ],
      "execution_count": null,
      "outputs": [
        {
          "output_type": "display_data",
          "data": {
            "image/png": "[encoded data removed]",
            "text/plain": [
              "<Figure size 360x504 with 1 Axes>"
            ]
          },
          "metadata": {
            "needs_background": "light"
          }
        },
        {
          "output_type": "display_data",
          "data": {
            "image/png": "[encoded data removed]",
            "text/plain": [
              "<Figure size 432x288 with 1 Axes>"
            ]
          },
          "metadata": {
            "needs_background": "light"
          }
        },
        {
          "output_type": "display_data",
          "data": {
            "image/png": "[encoded data removed]",
            "text/plain": [
              "<Figure size 432x288 with 1 Axes>"
            ]
          },
          "metadata": {
            "needs_background": "light"
          }
        }
      ]
    },
    {
      "cell_type": "code",
      "metadata": {
        "colab": {
          "base_uri": "https://localhost:8080/"
        },
        "id": "i_Sj-wKMLjjj",
        "outputId": "f9fbf3df-0f7c-4e88-acec-c42aedcd2c43"
      },
      "source": [
        "x=df2.drop(['status'], axis=1)\n",
        "y=df2[['status']]\n",
        "x_train,x_test,y_train,y_test = train_test_split(StandardScaler().fit_transform(x),y,test_size=0.2, )\n",
        "lrmodel=LogisticRegression()\n",
        "lrmodel.fit(x_train, y_train)\n"
      ],
      "execution_count": null,
      "outputs": [
        {
          "output_type": "execute_result",
          "data": {
            "text/plain": [
              "LogisticRegression(C=1.0, class_weight=None, dual=False, fit_intercept=True,\n",
              "                   intercept_scaling=1, l1_ratio=None, max_iter=100,\n",
              "                   multi_class='auto', n_jobs=None, penalty='l2',\n",
              "                   random_state=None, solver='lbfgs', tol=0.0001, verbose=0,\n",
              "                   warm_start=False)"
            ]
          },
          "metadata": {},
          "execution_count": 314
        }
      ]
    },
    {
      "cell_type": "code",
      "metadata": {
        "colab": {
          "base_uri": "https://localhost:8080/"
        },
        "id": "e2XqbLGTLjgY",
        "outputId": "6eb0bc63-5595-42c6-b7b7-3959b8a00bb7"
      },
      "source": [
        "print(f\"Coefficients of the model are( in order of coefficients of the LR ):{lrmodel.coef_[0]}\")\n",
        "print(f\"Intercept of the model is : {lrmodel.intercept_[0]}\")"
      ],
      "execution_count": null,
      "outputs": [
        {
          "output_type": "stream",
          "name": "stdout",
          "text": [
            "Coefficients of the model are( in order of coefficients of the LR ):[0.23799613 0.07945417 0.57359076]\n",
            "Intercept of the model is : -1.0650458919989563\n"
          ]
        }
      ]
    },
    {
      "cell_type": "code",
      "metadata": {
        "colab": {
          "base_uri": "https://localhost:8080/"
        },
        "id": "bqIevQ3L1W5E",
        "outputId": "1e98cad5-6e0d-4a11-978e-ed687c61289c"
      },
      "source": [
        "y_pred=lrmodel.predict(x_test)\n",
        "count=0\n",
        "for i in range(len(y_pred)):\n",
        "  if y_pred[i]!=y_test.iloc[i,0]:\n",
        "    count=count+1\n",
        "# checking the equality is essentially the error classification problem given \n",
        "classification_error=count/(len(y_test))\n",
        "print(f\"Test Accuracy is : {1-classification_error}\")\n",
        "print(f\"Classification Error is : {classification_error}\")"
      ],
      "execution_count": null,
      "outputs": [
        {
          "output_type": "stream",
          "name": "stdout",
          "text": [
            "Test Accuracy is : 0.7704918032786885\n",
            "Classification Error is : 0.22950819672131148\n"
          ]
        }
      ]
    },
    {
      "cell_type": "code",
      "metadata": {
        "colab": {
          "base_uri": "https://localhost:8080/"
        },
        "id": "8p8Afb0j6mpN",
        "outputId": "edbf0827-a9d1-44f5-9ef1-a5235f858231"
      },
      "source": [
        "print(\"The actual values of the test list are :\", end=' ')\n",
        "y_testlist=[]\n",
        "for i in range(len(y_test)):\n",
        "  y_testlist.append(y_test.iloc[i, 0])\n",
        "print(y_testlist)\n",
        "\n",
        "print(\"The predicted values from the model are:\", end=' ')\n",
        "y_predlist=[]\n",
        "for i in range(len(y_test)):\n",
        "  y_predlist.append(y_pred[i])\n",
        "print(y_predlist)\n",
        "\n",
        "print()\n",
        "\n",
        "cm = metrics.confusion_matrix(y_test, y_pred)\n",
        "print(cm)\n",
        "print(\"This is the confusion matrix for the above test.\")\n",
        "#printing the confusion matrix for actual and predicted values"
      ],
      "execution_count": null,
      "outputs": [
        {
          "output_type": "stream",
          "name": "stdout",
          "text": [
            "The actual values of the test list are : [1, 1, 2, 2, 1, 1, 1, 2, 2, 1, 1, 1, 2, 1, 1, 1, 1, 1, 1, 2, 1, 2, 1, 1, 1, 1, 1, 1, 1, 1, 1, 1, 1, 2, 2, 2, 2, 1, 1, 2, 1, 1, 1, 1, 1, 1, 1, 1, 2, 1, 1, 2, 2, 1, 1, 2, 1, 1, 1, 1, 1]\n",
            "The predicted values from the model are: [1, 1, 1, 1, 1, 1, 1, 1, 1, 1, 1, 1, 1, 1, 1, 1, 1, 1, 1, 1, 1, 1, 1, 1, 1, 1, 1, 1, 1, 1, 2, 1, 1, 1, 2, 1, 2, 1, 1, 1, 1, 1, 1, 1, 1, 1, 1, 1, 2, 1, 1, 1, 1, 1, 1, 2, 1, 2, 1, 1, 1]\n",
            "\n",
            "[[43  2]\n",
            " [12  4]]\n",
            "This is the confusion matrix for the above test.\n"
          ]
        }
      ]
    },
    {
      "cell_type": "code",
      "metadata": {
        "id": "6a95uuZL9hIQ"
      },
      "source": [
        "compare = pd.DataFrame(columns=['Test_Split', 'Accuracy', 'Classification_error']) # creating a dataframe for storing the results of each model\n",
        "compare=compare.append({'Test_Split':0.2, 'Accuracy': 1 - classification_error, \n",
        "                        'Classification_error':classification_error}, ignore_index=True )"
      ],
      "execution_count": null,
      "outputs": []
    },
    {
      "cell_type": "code",
      "metadata": {
        "colab": {
          "base_uri": "https://localhost:8080/"
        },
        "id": "I9SOz60x5qES",
        "outputId": "c40cd39d-1181-4f3f-b807-c76510110004"
      },
      "source": [
        "x=df2.drop(['status'], axis=1)\n",
        "y=df2[['status']]\n",
        "x_train,x_test,y_train,y_test = train_test_split(StandardScaler().fit_transform(x),y,test_size=0.4, )\n",
        "lrmodel=LogisticRegression()\n",
        "lrmodel.fit(x_train, y_train)\n",
        "\n",
        "print(f\"Coefficients of the model are(in order of coefficients of the LR): {lrmodel.coef_[0]}\")\n",
        "print(f\"Intercept of the model is : {lrmodel.intercept_[0]}\")\n",
        "\n",
        "print()\n",
        "\n",
        "y_pred=lrmodel.predict(x_test)\n",
        "count=0\n",
        "for i in range(len(y_pred)):\n",
        "  if y_pred[i]!=y_test.iloc[i,0]:\n",
        "    count=count+1\n",
        "# checking the equality is essentially the error classification problem given \n",
        "classification_error=count/(len(y_test))\n",
        "print(f\"Test Accuracy is : {1-classification_error}\")\n",
        "print(f\"Classification Error is : {classification_error}\")\n",
        "\n",
        "print()\n",
        "\n",
        "print(\"The actual values of the test list are :\", end=' ')\n",
        "y_testlist=[]\n",
        "for i in range(len(y_test)):\n",
        "  y_testlist.append(y_test.iloc[i, 0])\n",
        "print(y_testlist)\n",
        "\n",
        "print(\"The predicted values from the model are:\", end=' ')\n",
        "y_predlist=[]\n",
        "for i in range(len(y_test)):\n",
        "  y_predlist.append(y_pred[i])\n",
        "print(y_predlist)\n",
        "\n",
        "print()\n",
        "\n",
        "cm = metrics.confusion_matrix(y_test, y_pred)\n",
        "print(cm)\n",
        "print(\"This is the confusion matrix for the above test.\")\n",
        "\n",
        "\n",
        "compare=compare.append({'Test_Split':0.4, 'Accuracy': 1 - classification_error, \n",
        "                        'Classification_error':classification_error}, ignore_index=True )"
      ],
      "execution_count": null,
      "outputs": [
        {
          "output_type": "stream",
          "name": "stdout",
          "text": [
            "Coefficients of the model are(in order of coefficients of the LR): [ 0.21683209 -0.00354039  0.42867313]\n",
            "Intercept of the model is : -1.0669157419500424\n",
            "\n",
            "Test Accuracy is : 0.7459016393442623\n",
            "Classification Error is : 0.2540983606557377\n",
            "\n",
            "The actual values of the test list are : [2, 1, 1, 2, 1, 1, 1, 1, 2, 1, 1, 2, 1, 1, 1, 1, 2, 1, 1, 1, 2, 1, 2, 2, 2, 1, 1, 1, 1, 1, 1, 2, 1, 1, 2, 1, 1, 2, 2, 2, 1, 2, 2, 1, 1, 1, 1, 2, 1, 1, 1, 1, 1, 2, 1, 2, 1, 1, 1, 1, 1, 1, 1, 1, 2, 1, 2, 1, 1, 2, 1, 1, 1, 1, 1, 1, 1, 2, 1, 1, 1, 1, 1, 1, 2, 2, 1, 1, 1, 1, 2, 1, 2, 2, 1, 1, 2, 1, 1, 1, 1, 1, 1, 1, 1, 1, 1, 1, 1, 1, 2, 1, 1, 1, 1, 1, 2, 1, 1, 2, 1, 1]\n",
            "The predicted values from the model are: [1, 1, 1, 1, 1, 1, 1, 1, 1, 1, 1, 1, 1, 1, 1, 1, 1, 1, 1, 1, 1, 1, 1, 1, 2, 1, 1, 1, 1, 1, 1, 1, 1, 1, 1, 1, 1, 1, 1, 1, 1, 1, 1, 1, 1, 1, 1, 1, 1, 1, 1, 1, 1, 1, 1, 1, 1, 1, 1, 1, 1, 1, 1, 1, 1, 1, 1, 1, 1, 1, 1, 2, 1, 1, 1, 1, 1, 1, 1, 1, 1, 1, 1, 1, 1, 1, 1, 1, 1, 1, 1, 1, 1, 1, 1, 1, 1, 1, 1, 1, 1, 1, 1, 1, 1, 1, 1, 1, 1, 1, 1, 1, 1, 1, 1, 1, 2, 1, 1, 1, 1, 1]\n",
            "\n",
            "[[89  1]\n",
            " [30  2]]\n",
            "This is the confusion matrix for the above test.\n"
          ]
        }
      ]
    },
    {
      "cell_type": "code",
      "metadata": {
        "colab": {
          "base_uri": "https://localhost:8080/"
        },
        "id": "0tOVnY9u89Zt",
        "outputId": "74ad5de0-b061-444c-d471-f152c33fd3bc"
      },
      "source": [
        "x=df2.drop(['status'], axis=1)\n",
        "y=df2[['status']]\n",
        "x_train,x_test,y_train,y_test = train_test_split(StandardScaler().fit_transform(x),y,test_size=0.3)\n",
        "lrmodel=LogisticRegression()\n",
        "lrmodel.fit(x_train, y_train)\n",
        "\n",
        "print(f\"Coefficients of the model are(in order of coefficients of the LR): {lrmodel.coef_[0]}\")\n",
        "print(f\"Intercept of the model is : {lrmodel.intercept_[0]}\")\n",
        "\n",
        "print()\n",
        "\n",
        "y_pred=lrmodel.predict(x_test)\n",
        "count=0\n",
        "for i in range(len(y_pred)):\n",
        "  if y_pred[i]!=y_test.iloc[i,0]:\n",
        "    count=count+1\n",
        "# checking the equality is essentially the error classification problem given \n",
        "classification_error=count/(len(y_test))\n",
        "print(f\"Test Accuracy is : {1-classification_error}\")\n",
        "print(f\"Classification Error is : {classification_error}\")\n",
        "\n",
        "print()\n",
        "\n",
        "print(\"The actual values of the test list are :\", end=' ')\n",
        "y_testlist=[]\n",
        "for i in range(len(y_test)):\n",
        "  y_testlist.append(y_test.iloc[i, 0])\n",
        "print(y_testlist)\n",
        "\n",
        "print(\"The predicted values from the model are:\", end=' ')\n",
        "y_predlist=[]\n",
        "for i in range(len(y_test)):\n",
        "  y_predlist.append(y_pred[i])\n",
        "print(y_predlist)\n",
        "\n",
        "print()\n",
        "\n",
        "cm = metrics.confusion_matrix(y_test, y_pred)\n",
        "print(cm)\n",
        "print(\"This is the confusion matrix for the above test.\")\n",
        "\n",
        "\n",
        "compare=compare.append({'Test_Split':0.3, 'Accuracy': 1 - classification_error, \n",
        "                        'Classification_error':classification_error}, ignore_index=True )"
      ],
      "execution_count": null,
      "outputs": [
        {
          "output_type": "stream",
          "name": "stdout",
          "text": [
            "Coefficients of the model are(in order of coefficients of the LR): [ 0.28552599 -0.04786809  0.44629869]\n",
            "Intercept of the model is : -1.0683805329093317\n",
            "\n",
            "Test Accuracy is : 0.75\n",
            "Classification Error is : 0.25\n",
            "\n",
            "The actual values of the test list are : [1, 1, 1, 1, 2, 2, 2, 2, 1, 1, 1, 1, 1, 2, 1, 2, 1, 1, 1, 1, 1, 1, 1, 1, 1, 1, 1, 1, 1, 1, 2, 1, 1, 1, 1, 1, 2, 2, 1, 1, 1, 2, 2, 1, 2, 1, 1, 2, 1, 1, 1, 1, 2, 1, 1, 2, 2, 1, 1, 2, 1, 1, 1, 1, 1, 1, 1, 1, 1, 1, 2, 1, 2, 1, 2, 2, 2, 1, 1, 1, 1, 1, 1, 1, 2, 1, 1, 1, 2, 1, 1, 1]\n",
            "The predicted values from the model are: [1, 1, 1, 1, 1, 1, 1, 1, 1, 1, 1, 1, 1, 1, 1, 1, 1, 1, 1, 1, 1, 1, 1, 1, 1, 1, 1, 1, 1, 1, 1, 1, 1, 1, 1, 1, 1, 1, 1, 1, 1, 1, 1, 1, 1, 1, 1, 1, 1, 1, 1, 2, 1, 1, 1, 1, 1, 1, 1, 1, 1, 1, 1, 1, 1, 1, 1, 1, 1, 1, 2, 1, 1, 1, 1, 1, 1, 1, 1, 1, 1, 1, 1, 1, 2, 1, 1, 1, 1, 1, 1, 1]\n",
            "\n",
            "[[67  1]\n",
            " [22  2]]\n",
            "This is the confusion matrix for the above test.\n"
          ]
        }
      ]
    },
    {
      "cell_type": "code",
      "metadata": {
        "colab": {
          "base_uri": "https://localhost:8080/"
        },
        "id": "Mw7863_p9cP5",
        "outputId": "71cccdff-77b3-41d5-852b-971982a03213"
      },
      "source": [
        "x=df2.drop(['status'], axis=1)\n",
        "y=df2[['status']]\n",
        "x_train,x_test,y_train,y_test = train_test_split(StandardScaler().fit_transform(x),y,test_size=0.1)\n",
        "lrmodel=LogisticRegression()\n",
        "lrmodel.fit(x_train, y_train)\n",
        "\n",
        "print(f\"Coefficients of the model are(in order of coefficients of the LR): {lrmodel.coef_[0]}\")\n",
        "print(f\"Intercept of the model is : {lrmodel.intercept_[0]}\")\n",
        "\n",
        "print()\n",
        "\n",
        "y_pred=lrmodel.predict(x_test)\n",
        "count=0\n",
        "for i in range(len(y_pred)):\n",
        "  if y_pred[i]!=y_test.iloc[i,0]:\n",
        "    count=count+1\n",
        "# checking the equality is essentially the error classification problem given \n",
        "classification_error=count/(len(y_test))\n",
        "print(f\"Test Accuracy is : {1-classification_error}\")\n",
        "print(f\"Classification Error is : {classification_error}\")\n",
        "\n",
        "print()\n",
        "\n",
        "print(\"The actual values of the test list are :\", end=' ')\n",
        "y_testlist=[]\n",
        "for i in range(len(y_test)):\n",
        "  y_testlist.append(y_test.iloc[i, 0])\n",
        "print(y_testlist)\n",
        "\n",
        "print(\"The predicted values from the model are:\", end=' ')\n",
        "y_predlist=[]\n",
        "for i in range(len(y_test)):\n",
        "  y_predlist.append(y_pred[i])\n",
        "print(y_predlist)\n",
        "\n",
        "print()\n",
        "\n",
        "cm = metrics.confusion_matrix(y_test, y_pred)\n",
        "print(cm)\n",
        "print(\"This is the confusion matrix for the above test.\")\n",
        "\n",
        "\n",
        "compare=compare.append({'Test_Split':0.1, 'Accuracy': 1 - classification_error, \n",
        "                        'Classification_error':classification_error}, ignore_index=True )"
      ],
      "execution_count": null,
      "outputs": [
        {
          "output_type": "stream",
          "name": "stdout",
          "text": [
            "Coefficients of the model are(in order of coefficients of the LR): [ 0.26085475 -0.07118273  0.59862103]\n",
            "Intercept of the model is : -1.099745053596528\n",
            "\n",
            "Test Accuracy is : 0.6774193548387097\n",
            "Classification Error is : 0.3225806451612903\n",
            "\n",
            "The actual values of the test list are : [1, 1, 1, 1, 1, 1, 1, 1, 1, 1, 2, 1, 1, 2, 1, 1, 2, 1, 1, 2, 1, 2, 1, 1, 1, 2, 2, 2, 2, 1, 2]\n",
            "The predicted values from the model are: [1, 1, 1, 1, 1, 1, 1, 1, 1, 1, 1, 1, 2, 2, 1, 1, 1, 1, 1, 1, 1, 1, 1, 1, 1, 1, 1, 1, 2, 2, 1]\n",
            "\n",
            "[[19  2]\n",
            " [ 8  2]]\n",
            "This is the confusion matrix for the above test.\n"
          ]
        }
      ]
    },
    {
      "cell_type": "code",
      "metadata": {
        "colab": {
          "base_uri": "https://localhost:8080/",
          "height": 172
        },
        "id": "Afk7dWEF9eY9",
        "outputId": "e2d0e87a-8733-4f8f-b88f-a95d3bed26b7"
      },
      "source": [
        "compare"
      ],
      "execution_count": null,
      "outputs": [
        {
          "output_type": "execute_result",
          "data": {
            "text/html": [
              "<div>\n",
              "<style scoped>\n",
              "    .dataframe tbody tr th:only-of-type {\n",
              "        vertical-align: middle;\n",
              "    }\n",
              "\n",
              "    .dataframe tbody tr th {\n",
              "        vertical-align: top;\n",
              "    }\n",
              "\n",
              "    .dataframe thead th {\n",
              "        text-align: right;\n",
              "    }\n",
              "</style>\n",
              "<table border=\"1\" class=\"dataframe\">\n",
              "  <thead>\n",
              "    <tr style=\"text-align: right;\">\n",
              "      <th></th>\n",
              "      <th>Test_Split</th>\n",
              "      <th>Accuracy</th>\n",
              "      <th>Classification_error</th>\n",
              "    </tr>\n",
              "  </thead>\n",
              "  <tbody>\n",
              "    <tr>\n",
              "      <th>0</th>\n",
              "      <td>0.2</td>\n",
              "      <td>0.770492</td>\n",
              "      <td>0.229508</td>\n",
              "    </tr>\n",
              "    <tr>\n",
              "      <th>1</th>\n",
              "      <td>0.4</td>\n",
              "      <td>0.745902</td>\n",
              "      <td>0.254098</td>\n",
              "    </tr>\n",
              "    <tr>\n",
              "      <th>2</th>\n",
              "      <td>0.3</td>\n",
              "      <td>0.750000</td>\n",
              "      <td>0.250000</td>\n",
              "    </tr>\n",
              "    <tr>\n",
              "      <th>3</th>\n",
              "      <td>0.1</td>\n",
              "      <td>0.677419</td>\n",
              "      <td>0.322581</td>\n",
              "    </tr>\n",
              "  </tbody>\n",
              "</table>\n",
              "</div>"
            ],
            "text/plain": [
              "   Test_Split  Accuracy  Classification_error\n",
              "0         0.2  0.770492              0.229508\n",
              "1         0.4  0.745902              0.254098\n",
              "2         0.3  0.750000              0.250000\n",
              "3         0.1  0.677419              0.322581"
            ]
          },
          "metadata": {},
          "execution_count": 322
        }
      ]
    },
    {
      "cell_type": "code",
      "metadata": {
        "colab": {
          "base_uri": "https://localhost:8080/",
          "height": 172
        },
        "id": "jxb8I9il_H-H",
        "outputId": "911eb707-11cb-46b6-88c8-e9533c06e318"
      },
      "source": [
        "compare.sort_values(by='Test_Split', ascending=True, ignore_index=True)"
      ],
      "execution_count": null,
      "outputs": [
        {
          "output_type": "execute_result",
          "data": {
            "text/html": [
              "<div>\n",
              "<style scoped>\n",
              "    .dataframe tbody tr th:only-of-type {\n",
              "        vertical-align: middle;\n",
              "    }\n",
              "\n",
              "    .dataframe tbody tr th {\n",
              "        vertical-align: top;\n",
              "    }\n",
              "\n",
              "    .dataframe thead th {\n",
              "        text-align: right;\n",
              "    }\n",
              "</style>\n",
              "<table border=\"1\" class=\"dataframe\">\n",
              "  <thead>\n",
              "    <tr style=\"text-align: right;\">\n",
              "      <th></th>\n",
              "      <th>Test_Split</th>\n",
              "      <th>Accuracy</th>\n",
              "      <th>Classification_error</th>\n",
              "    </tr>\n",
              "  </thead>\n",
              "  <tbody>\n",
              "    <tr>\n",
              "      <th>0</th>\n",
              "      <td>0.1</td>\n",
              "      <td>0.677419</td>\n",
              "      <td>0.322581</td>\n",
              "    </tr>\n",
              "    <tr>\n",
              "      <th>1</th>\n",
              "      <td>0.2</td>\n",
              "      <td>0.770492</td>\n",
              "      <td>0.229508</td>\n",
              "    </tr>\n",
              "    <tr>\n",
              "      <th>2</th>\n",
              "      <td>0.3</td>\n",
              "      <td>0.750000</td>\n",
              "      <td>0.250000</td>\n",
              "    </tr>\n",
              "    <tr>\n",
              "      <th>3</th>\n",
              "      <td>0.4</td>\n",
              "      <td>0.745902</td>\n",
              "      <td>0.254098</td>\n",
              "    </tr>\n",
              "  </tbody>\n",
              "</table>\n",
              "</div>"
            ],
            "text/plain": [
              "   Test_Split  Accuracy  Classification_error\n",
              "0         0.1  0.677419              0.322581\n",
              "1         0.2  0.770492              0.229508\n",
              "2         0.3  0.750000              0.250000\n",
              "3         0.4  0.745902              0.254098"
            ]
          },
          "metadata": {},
          "execution_count": 323
        }
      ]
    },
    {
      "cell_type": "code",
      "metadata": {
        "colab": {
          "base_uri": "https://localhost:8080/",
          "height": 353
        },
        "id": "rdKyqnPpAM3w",
        "outputId": "b67c099f-98fd-467b-8cb7-d20997080249"
      },
      "source": [
        "fig=plt.figure(figsize=(5, 5))\n",
        "sns.barplot(x='Test_Split', y='Accuracy', data=compare)\n",
        "plt.title(\"Accuracy of Model vs Test Split\", fontsize=15, weight='bold')\n",
        "plt.ylim(.65, .85)\n",
        "plt.show()\n",
        "#plotting the accuracy of model vs test split"
      ],
      "execution_count": null,
      "outputs": [
        {
          "output_type": "display_data",
          "data": {
            "image/png": "[encoded data removed]",
            "text/plain": [
              "<Figure size 360x360 with 1 Axes>"
            ]
          },
          "metadata": {
            "needs_background": "light"
          }
        }
      ]
    },
    {
      "cell_type": "markdown",
      "metadata": {
        "id": "7da-LNyvgQU2"
      },
      "source": [
        "We get highly distorted values of accuracies due to randomness and small set of data."
      ]
    }
  ]
}