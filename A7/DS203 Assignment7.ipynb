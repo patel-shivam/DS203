{
  "nbformat": 4,
  "nbformat_minor": 0,
  "metadata": {
    "colab": {
      "provenance": [],
      "collapsed_sections": [
        "fAhiV6iZY4cd",
        "E1yTHAqeY4XR"
      ]
    },
    "kernelspec": {
      "name": "python3",
      "display_name": "Python 3"
    },
    "language_info": {
      "name": "python"
    },
    "accelerator": "GPU"
  },
  "cells": [
    {
      "cell_type": "code",
      "metadata": {
        "id": "oWIM5rfAYFLz"
      },
      "source": [
        "import numpy as np\n",
        "import pandas as pd\n",
        "import matplotlib.pyplot as plt\n",
        "import seaborn as sns\n",
        "from sklearn.model_selection import train_test_split\n",
        "from sklearn.metrics import mean_squared_error, mean_absolute_error, r2_score\n",
        "from sklearn.model_selection import GridSearchCV\n",
        "from sklearn.linear_model import ElasticNet\n",
        "\n",
        "import statsmodels\n",
        "import statsmodels.api as sm\n",
        "import statsmodels.stats.api as sms\n",
        "from statsmodels.tools.eval_measures import rmse\n",
        "from sklearn.metrics import r2_score,mean_squared_error\n",
        "from statsmodels.compat import lzip\n",
        "from statsmodels.graphics.gofplots import ProbPlot\n",
        "\n",
        "from scipy.stats import f_oneway\n",
        "from scipy.stats import jarque_bera\n",
        "from scipy import stats"
      ],
      "execution_count": null,
      "outputs": []
    },
    {
      "cell_type": "markdown",
      "metadata": {
        "id": "fAhiV6iZY4cd"
      },
      "source": [
        "#Question 1"
      ]
    },
    {
      "cell_type": "markdown",
      "metadata": {
        "id": "Ki2D04VQY4Z8"
      },
      "source": [
        "(a) Summarising grades of 50 courses of student using 5 numbers - ***Dimension Reduction***(inputs- dataset and number of pca reduced dimensions, outputs-data with reduced number of dimensions)<Br>\n",
        "(b) Dividing students in personality groups - ***Clustering***(inputs- scholastic and extracurricular data, hyperparameters, output- clustering(no output variable))<br>\n",
        "(c) Predicting salary of student - ***Regression***(input- courses and grades, extracurriculars data, hyperparameters to the model, output - Predicted salary) <br>\n",
        "(d) Predicting best type of job based on performance -***Classification***(input-hyperparameters, hobbies, skills, grades in courses etc. and output - best job profile)\n"
      ]
    },
    {
      "cell_type": "markdown",
      "metadata": {
        "id": "E1yTHAqeY4XR"
      },
      "source": [
        "#Question 3"
      ]
    },
    {
      "cell_type": "code",
      "metadata": {
        "id": "nXDBDWqgYMs4"
      },
      "source": [
        "df=pd.read_csv(\"/content/SeoulBikeData.csv\", encoding='iso-8859-1')"
      ],
      "execution_count": null,
      "outputs": []
    },
    {
      "cell_type": "code",
      "metadata": {
        "id": "6COrDVZSyzb6",
        "colab": {
          "base_uri": "https://localhost:8080/",
          "height": 638
        },
        "outputId": "b0557dc9-3cb4-4b50-c4ad-ecaa5495de4c"
      },
      "source": [
        "display(df)"
      ],
      "execution_count": null,
      "outputs": [
        {
          "output_type": "display_data",
          "data": {
            "text/html": [
              "<div>\n",
              "<style scoped>\n",
              "    .dataframe tbody tr th:only-of-type {\n",
              "        vertical-align: middle;\n",
              "    }\n",
              "\n",
              "    .dataframe tbody tr th {\n",
              "        vertical-align: top;\n",
              "    }\n",
              "\n",
              "    .dataframe thead th {\n",
              "        text-align: right;\n",
              "    }\n",
              "</style>\n",
              "<table border=\"1\" class=\"dataframe\">\n",
              "  <thead>\n",
              "    <tr style=\"text-align: right;\">\n",
              "      <th></th>\n",
              "      <th>Date</th>\n",
              "      <th>Rented Bike Count</th>\n",
              "      <th>Hour</th>\n",
              "      <th>Temperature(°C)</th>\n",
              "      <th>Humidity(%)</th>\n",
              "      <th>Wind speed (m/s)</th>\n",
              "      <th>Visibility (10m)</th>\n",
              "      <th>Dew point temperature(°C)</th>\n",
              "      <th>Solar Radiation (MJ/m2)</th>\n",
              "      <th>Rainfall(mm)</th>\n",
              "      <th>Snowfall (cm)</th>\n",
              "      <th>Seasons</th>\n",
              "      <th>Holiday</th>\n",
              "      <th>Functioning Day</th>\n",
              "    </tr>\n",
              "  </thead>\n",
              "  <tbody>\n",
              "    <tr>\n",
              "      <th>0</th>\n",
              "      <td>01/12/2017</td>\n",
              "      <td>254</td>\n",
              "      <td>0</td>\n",
              "      <td>-5.2</td>\n",
              "      <td>37</td>\n",
              "      <td>2.2</td>\n",
              "      <td>2000</td>\n",
              "      <td>-17.6</td>\n",
              "      <td>0.0</td>\n",
              "      <td>0.0</td>\n",
              "      <td>0.0</td>\n",
              "      <td>Winter</td>\n",
              "      <td>No Holiday</td>\n",
              "      <td>Yes</td>\n",
              "    </tr>\n",
              "    <tr>\n",
              "      <th>1</th>\n",
              "      <td>01/12/2017</td>\n",
              "      <td>204</td>\n",
              "      <td>1</td>\n",
              "      <td>-5.5</td>\n",
              "      <td>38</td>\n",
              "      <td>0.8</td>\n",
              "      <td>2000</td>\n",
              "      <td>-17.6</td>\n",
              "      <td>0.0</td>\n",
              "      <td>0.0</td>\n",
              "      <td>0.0</td>\n",
              "      <td>Winter</td>\n",
              "      <td>No Holiday</td>\n",
              "      <td>Yes</td>\n",
              "    </tr>\n",
              "    <tr>\n",
              "      <th>2</th>\n",
              "      <td>01/12/2017</td>\n",
              "      <td>173</td>\n",
              "      <td>2</td>\n",
              "      <td>-6.0</td>\n",
              "      <td>39</td>\n",
              "      <td>1.0</td>\n",
              "      <td>2000</td>\n",
              "      <td>-17.7</td>\n",
              "      <td>0.0</td>\n",
              "      <td>0.0</td>\n",
              "      <td>0.0</td>\n",
              "      <td>Winter</td>\n",
              "      <td>No Holiday</td>\n",
              "      <td>Yes</td>\n",
              "    </tr>\n",
              "    <tr>\n",
              "      <th>3</th>\n",
              "      <td>01/12/2017</td>\n",
              "      <td>107</td>\n",
              "      <td>3</td>\n",
              "      <td>-6.2</td>\n",
              "      <td>40</td>\n",
              "      <td>0.9</td>\n",
              "      <td>2000</td>\n",
              "      <td>-17.6</td>\n",
              "      <td>0.0</td>\n",
              "      <td>0.0</td>\n",
              "      <td>0.0</td>\n",
              "      <td>Winter</td>\n",
              "      <td>No Holiday</td>\n",
              "      <td>Yes</td>\n",
              "    </tr>\n",
              "    <tr>\n",
              "      <th>4</th>\n",
              "      <td>01/12/2017</td>\n",
              "      <td>78</td>\n",
              "      <td>4</td>\n",
              "      <td>-6.0</td>\n",
              "      <td>36</td>\n",
              "      <td>2.3</td>\n",
              "      <td>2000</td>\n",
              "      <td>-18.6</td>\n",
              "      <td>0.0</td>\n",
              "      <td>0.0</td>\n",
              "      <td>0.0</td>\n",
              "      <td>Winter</td>\n",
              "      <td>No Holiday</td>\n",
              "      <td>Yes</td>\n",
              "    </tr>\n",
              "    <tr>\n",
              "      <th>...</th>\n",
              "      <td>...</td>\n",
              "      <td>...</td>\n",
              "      <td>...</td>\n",
              "      <td>...</td>\n",
              "      <td>...</td>\n",
              "      <td>...</td>\n",
              "      <td>...</td>\n",
              "      <td>...</td>\n",
              "      <td>...</td>\n",
              "      <td>...</td>\n",
              "      <td>...</td>\n",
              "      <td>...</td>\n",
              "      <td>...</td>\n",
              "      <td>...</td>\n",
              "    </tr>\n",
              "    <tr>\n",
              "      <th>8755</th>\n",
              "      <td>30/11/2018</td>\n",
              "      <td>1003</td>\n",
              "      <td>19</td>\n",
              "      <td>4.2</td>\n",
              "      <td>34</td>\n",
              "      <td>2.6</td>\n",
              "      <td>1894</td>\n",
              "      <td>-10.3</td>\n",
              "      <td>0.0</td>\n",
              "      <td>0.0</td>\n",
              "      <td>0.0</td>\n",
              "      <td>Autumn</td>\n",
              "      <td>No Holiday</td>\n",
              "      <td>Yes</td>\n",
              "    </tr>\n",
              "    <tr>\n",
              "      <th>8756</th>\n",
              "      <td>30/11/2018</td>\n",
              "      <td>764</td>\n",
              "      <td>20</td>\n",
              "      <td>3.4</td>\n",
              "      <td>37</td>\n",
              "      <td>2.3</td>\n",
              "      <td>2000</td>\n",
              "      <td>-9.9</td>\n",
              "      <td>0.0</td>\n",
              "      <td>0.0</td>\n",
              "      <td>0.0</td>\n",
              "      <td>Autumn</td>\n",
              "      <td>No Holiday</td>\n",
              "      <td>Yes</td>\n",
              "    </tr>\n",
              "    <tr>\n",
              "      <th>8757</th>\n",
              "      <td>30/11/2018</td>\n",
              "      <td>694</td>\n",
              "      <td>21</td>\n",
              "      <td>2.6</td>\n",
              "      <td>39</td>\n",
              "      <td>0.3</td>\n",
              "      <td>1968</td>\n",
              "      <td>-9.9</td>\n",
              "      <td>0.0</td>\n",
              "      <td>0.0</td>\n",
              "      <td>0.0</td>\n",
              "      <td>Autumn</td>\n",
              "      <td>No Holiday</td>\n",
              "      <td>Yes</td>\n",
              "    </tr>\n",
              "    <tr>\n",
              "      <th>8758</th>\n",
              "      <td>30/11/2018</td>\n",
              "      <td>712</td>\n",
              "      <td>22</td>\n",
              "      <td>2.1</td>\n",
              "      <td>41</td>\n",
              "      <td>1.0</td>\n",
              "      <td>1859</td>\n",
              "      <td>-9.8</td>\n",
              "      <td>0.0</td>\n",
              "      <td>0.0</td>\n",
              "      <td>0.0</td>\n",
              "      <td>Autumn</td>\n",
              "      <td>No Holiday</td>\n",
              "      <td>Yes</td>\n",
              "    </tr>\n",
              "    <tr>\n",
              "      <th>8759</th>\n",
              "      <td>30/11/2018</td>\n",
              "      <td>584</td>\n",
              "      <td>23</td>\n",
              "      <td>1.9</td>\n",
              "      <td>43</td>\n",
              "      <td>1.3</td>\n",
              "      <td>1909</td>\n",
              "      <td>-9.3</td>\n",
              "      <td>0.0</td>\n",
              "      <td>0.0</td>\n",
              "      <td>0.0</td>\n",
              "      <td>Autumn</td>\n",
              "      <td>No Holiday</td>\n",
              "      <td>Yes</td>\n",
              "    </tr>\n",
              "  </tbody>\n",
              "</table>\n",
              "<p>8760 rows × 14 columns</p>\n",
              "</div>"
            ],
            "text/plain": [
              "            Date  Rented Bike Count  Hour  ...  Seasons     Holiday  Functioning Day\n",
              "0     01/12/2017                254     0  ...   Winter  No Holiday              Yes\n",
              "1     01/12/2017                204     1  ...   Winter  No Holiday              Yes\n",
              "2     01/12/2017                173     2  ...   Winter  No Holiday              Yes\n",
              "3     01/12/2017                107     3  ...   Winter  No Holiday              Yes\n",
              "4     01/12/2017                 78     4  ...   Winter  No Holiday              Yes\n",
              "...          ...                ...   ...  ...      ...         ...              ...\n",
              "8755  30/11/2018               1003    19  ...   Autumn  No Holiday              Yes\n",
              "8756  30/11/2018                764    20  ...   Autumn  No Holiday              Yes\n",
              "8757  30/11/2018                694    21  ...   Autumn  No Holiday              Yes\n",
              "8758  30/11/2018                712    22  ...   Autumn  No Holiday              Yes\n",
              "8759  30/11/2018                584    23  ...   Autumn  No Holiday              Yes\n",
              "\n",
              "[8760 rows x 14 columns]"
            ]
          },
          "metadata": {}
        }
      ]
    },
    {
      "cell_type": "code",
      "metadata": {
        "id": "w6HkdQiS3BmR",
        "colab": {
          "base_uri": "https://localhost:8080/"
        },
        "outputId": "998ddb64-292f-4c5a-fc95-c90e1918a99f"
      },
      "source": [
        "df.dtypes"
      ],
      "execution_count": null,
      "outputs": [
        {
          "output_type": "execute_result",
          "data": {
            "text/plain": [
              "Date                          object\n",
              "Rented Bike Count              int64\n",
              "Hour                           int64\n",
              "Temperature(°C)              float64\n",
              "Humidity(%)                    int64\n",
              "Wind speed (m/s)             float64\n",
              "Visibility (10m)               int64\n",
              "Dew point temperature(°C)    float64\n",
              "Solar Radiation (MJ/m2)      float64\n",
              "Rainfall(mm)                 float64\n",
              "Snowfall (cm)                float64\n",
              "Seasons                       object\n",
              "Holiday                       object\n",
              "Functioning Day               object\n",
              "dtype: object"
            ]
          },
          "metadata": {},
          "execution_count": 63
        }
      ]
    },
    {
      "cell_type": "markdown",
      "metadata": {
        "id": "n5R8eRm8zcgw"
      },
      "source": [
        "The variable to be predicted(target variable) is rented bikes, which is a discrete integral quantity. Also, it's a supervised learning problem. "
      ]
    },
    {
      "cell_type": "markdown",
      "metadata": {
        "id": "9ZpfS5D008hO"
      },
      "source": [
        "RMSE and R2 score will be used here, as they are the most popular measures of performance for Regression models in ML. Other types of measures of performances such as ROC curve(clustering), F1 Score(binary classification), Daves Boulding criteria(clustering), reconstruction error(PCA- dimension reduction) are not used for regression.\n",
        "\n",
        "\n",
        "\n"
      ]
    },
    {
      "cell_type": "code",
      "metadata": {
        "id": "KY6mspADzPTO",
        "colab": {
          "base_uri": "https://localhost:8080/"
        },
        "outputId": "1a34387f-c5e9-4f7a-c8b1-9602294b21a3"
      },
      "source": [
        "for cols in df:\n",
        "  print(f\"Number of unique values in column(/variable) {df[cols].name} are - {len(df[cols].unique())}\")\n",
        "#printing number of unique values in each column"
      ],
      "execution_count": null,
      "outputs": [
        {
          "output_type": "stream",
          "name": "stdout",
          "text": [
            "Number of unique values in column(/variable) Date are - 365\n",
            "Number of unique values in column(/variable) Rented Bike Count are - 2166\n",
            "Number of unique values in column(/variable) Hour are - 24\n",
            "Number of unique values in column(/variable) Temperature(°C) are - 546\n",
            "Number of unique values in column(/variable) Humidity(%) are - 90\n",
            "Number of unique values in column(/variable) Wind speed (m/s) are - 65\n",
            "Number of unique values in column(/variable) Visibility (10m) are - 1789\n",
            "Number of unique values in column(/variable) Dew point temperature(°C) are - 556\n",
            "Number of unique values in column(/variable) Solar Radiation (MJ/m2) are - 345\n",
            "Number of unique values in column(/variable) Rainfall(mm) are - 61\n",
            "Number of unique values in column(/variable) Snowfall (cm) are - 51\n",
            "Number of unique values in column(/variable) Seasons are - 4\n",
            "Number of unique values in column(/variable) Holiday are - 2\n",
            "Number of unique values in column(/variable) Functioning Day are - 2\n"
          ]
        }
      ]
    },
    {
      "cell_type": "code",
      "metadata": {
        "id": "zjjjecU_2BR1",
        "colab": {
          "base_uri": "https://localhost:8080/"
        },
        "outputId": "95ea1b6e-4480-427f-e59b-256ff52a9f11"
      },
      "source": [
        "for col in df:\n",
        "  print(f\"{df[col].name} has {df[col].isnull().sum()} missing entries\")\n",
        "#loop for printing number of missing variable values"
      ],
      "execution_count": null,
      "outputs": [
        {
          "output_type": "stream",
          "name": "stdout",
          "text": [
            "Date has 0 missing entries\n",
            "Rented Bike Count has 0 missing entries\n",
            "Hour has 0 missing entries\n",
            "Temperature(°C) has 0 missing entries\n",
            "Humidity(%) has 0 missing entries\n",
            "Wind speed (m/s) has 0 missing entries\n",
            "Visibility (10m) has 0 missing entries\n",
            "Dew point temperature(°C) has 0 missing entries\n",
            "Solar Radiation (MJ/m2) has 0 missing entries\n",
            "Rainfall(mm) has 0 missing entries\n",
            "Snowfall (cm) has 0 missing entries\n",
            "Seasons has 0 missing entries\n",
            "Holiday has 0 missing entries\n",
            "Functioning Day has 0 missing entries\n"
          ]
        }
      ]
    },
    {
      "cell_type": "code",
      "metadata": {
        "id": "Fi4QHJCz2GW2",
        "colab": {
          "base_uri": "https://localhost:8080/",
          "height": 630
        },
        "outputId": "1420d498-2c3f-44e5-9730-3737fddc4677"
      },
      "source": [
        "fig=plt.figure(figsize=(10,8))\n",
        "sns.heatmap(df.corr(), cmap='YlGnBu',annot=True)\n",
        "plt.title('Correlation matrix for continuous variables', weight='bold', fontsize=20)\n",
        "#plt.xticks(rotation=45)\n",
        "plt.show()"
      ],
      "execution_count": null,
      "outputs": [
        {
          "output_type": "display_data",
          "data": {
            "image/png": "[encoded data removed]",
            "text/plain": [
              "<Figure size 720x576 with 2 Axes>"
            ]
          },
          "metadata": {
            "needs_background": "light"
          }
        }
      ]
    },
    {
      "cell_type": "code",
      "metadata": {
        "id": "j_R76vY73RVy",
        "colab": {
          "base_uri": "https://localhost:8080/",
          "height": 1000
        },
        "outputId": "d2a7e3b0-a9d4-43ba-ee2a-82560fb5803f"
      },
      "source": [
        "listcont=['Hour', 'Temperature(°C)', 'Humidity(%)', 'Wind speed (m/s)', 'Visibility (10m)', 'Dew point temperature(°C)',\n",
        "          'Solar Radiation (MJ/m2)', 'Rainfall(mm)', 'Snowfall (cm)' ]\n",
        "\n",
        "\n",
        "for cols in listcont:\n",
        "   sns.regplot(x=cols, y='Rented Bike Count', data=df, marker='.', line_kws={\"color\": \"red\"});\n",
        "   plt.xlabel(cols)\n",
        "   plt.gca().set_ylim(bottom=-10)\n",
        "   plt.show()"
      ],
      "execution_count": null,
      "outputs": [
        {
          "output_type": "display_data",
          "data": {
            "image/png": "[encoded data removed]",
            "text/plain": [
              "<Figure size 432x288 with 1 Axes>"
            ]
          },
          "metadata": {
            "needs_background": "light"
          }
        },
        {
          "output_type": "display_data",
          "data": {
            "image/png": "[encoded data removed]",
            "text/plain": [
              "<Figure size 432x288 with 1 Axes>"
            ]
          },
          "metadata": {
            "needs_background": "light"
          }
        },
        {
          "output_type": "display_data",
          "data": {
            "image/png": "[encoded data removed]",
            "text/plain": [
              "<Figure size 432x288 with 1 Axes>"
            ]
          },
          "metadata": {
            "needs_background": "light"
          }
        },
        {
          "output_type": "display_data",
          "data": {
            "image/png": "[encoded data removed]",
            "text/plain": [
              "<Figure size 432x288 with 1 Axes>"
            ]
          },
          "metadata": {
            "needs_background": "light"
          }
        },
        {
          "output_type": "display_data",
          "data": {
            "image/png": "[encoded data removed]",
            "text/plain": [
              "<Figure size 432x288 with 1 Axes>"
            ]
          },
          "metadata": {
            "needs_background": "light"
          }
        },
        {
          "output_type": "display_data",
          "data": {
            "image/png": "[encoded data removed]",
            "text/plain": [
              "<Figure size 432x288 with 1 Axes>"
            ]
          },
          "metadata": {
            "needs_background": "light"
          }
        },
        {
          "output_type": "display_data",
          "data": {
            "image/png": "[encoded data removed]",
            "text/plain": [
              "<Figure size 432x288 with 1 Axes>"
            ]
          },
          "metadata": {
            "needs_background": "light"
          }
        },
        {
          "output_type": "display_data",
          "data": {
            "image/png": "[encoded data removed]",
            "text/plain": [
              "<Figure size 432x288 with 1 Axes>"
            ]
          },
          "metadata": {
            "needs_background": "light"
          }
        },
        {
          "output_type": "display_data",
          "data": {
            "image/png": "[encoded data removed]",
            "text/plain": [
              "<Figure size 432x288 with 1 Axes>"
            ]
          },
          "metadata": {
            "needs_background": "light"
          }
        }
      ]
    },
    {
      "cell_type": "code",
      "metadata": {
        "id": "9T0r4uK_7Sqq",
        "colab": {
          "base_uri": "https://localhost:8080/",
          "height": 341
        },
        "outputId": "fb66b520-87bc-40f6-c0e3-b62b76df1f3c"
      },
      "source": [
        "\n",
        "df=df.drop(['Date','Dew point temperature(°C)', 'Functioning Day'], axis=1)\n",
        "df2=df.drop(['Seasons','Holiday'], axis=1)\n",
        "colz=pd.get_dummies(df['Seasons'])#converting to one hot bit\n",
        "df=df.join(colz).drop('Seasons', axis=1)\n",
        "\n",
        "#Standardising the continous variables\n",
        "\n",
        "for col in df2.columns.values:\n",
        "  a=df[col].mean()\n",
        "  b=df[col].std()\n",
        "  df[col] = (df[col] - a)/b\n",
        "df.head()\n",
        "#df is now standard normalised, could also have been done by Standard_Scaler function in statsmodel\n",
        "#But this is the easiest way to standard normalise"
      ],
      "execution_count": null,
      "outputs": [
        {
          "output_type": "execute_result",
          "data": {
            "text/html": [
              "<div>\n",
              "<style scoped>\n",
              "    .dataframe tbody tr th:only-of-type {\n",
              "        vertical-align: middle;\n",
              "    }\n",
              "\n",
              "    .dataframe tbody tr th {\n",
              "        vertical-align: top;\n",
              "    }\n",
              "\n",
              "    .dataframe thead th {\n",
              "        text-align: right;\n",
              "    }\n",
              "</style>\n",
              "<table border=\"1\" class=\"dataframe\">\n",
              "  <thead>\n",
              "    <tr style=\"text-align: right;\">\n",
              "      <th></th>\n",
              "      <th>Rented Bike Count</th>\n",
              "      <th>Hour</th>\n",
              "      <th>Temperature(°C)</th>\n",
              "      <th>Humidity(%)</th>\n",
              "      <th>Wind speed (m/s)</th>\n",
              "      <th>Visibility (10m)</th>\n",
              "      <th>Solar Radiation (MJ/m2)</th>\n",
              "      <th>Rainfall(mm)</th>\n",
              "      <th>Snowfall (cm)</th>\n",
              "      <th>Holiday</th>\n",
              "      <th>Autumn</th>\n",
              "      <th>Spring</th>\n",
              "      <th>Summer</th>\n",
              "      <th>Winter</th>\n",
              "    </tr>\n",
              "  </thead>\n",
              "  <tbody>\n",
              "    <tr>\n",
              "      <th>0</th>\n",
              "      <td>-0.698611</td>\n",
              "      <td>-1.661230</td>\n",
              "      <td>-1.513871</td>\n",
              "      <td>-1.042423</td>\n",
              "      <td>0.458450</td>\n",
              "      <td>0.925818</td>\n",
              "      <td>-0.655094</td>\n",
              "      <td>-0.131792</td>\n",
              "      <td>-0.171881</td>\n",
              "      <td>No Holiday</td>\n",
              "      <td>0</td>\n",
              "      <td>0</td>\n",
              "      <td>0</td>\n",
              "      <td>1</td>\n",
              "    </tr>\n",
              "    <tr>\n",
              "      <th>1</th>\n",
              "      <td>-0.776130</td>\n",
              "      <td>-1.516775</td>\n",
              "      <td>-1.538986</td>\n",
              "      <td>-0.993313</td>\n",
              "      <td>-0.892511</td>\n",
              "      <td>0.925818</td>\n",
              "      <td>-0.655094</td>\n",
              "      <td>-0.131792</td>\n",
              "      <td>-0.171881</td>\n",
              "      <td>No Holiday</td>\n",
              "      <td>0</td>\n",
              "      <td>0</td>\n",
              "      <td>0</td>\n",
              "      <td>1</td>\n",
              "    </tr>\n",
              "    <tr>\n",
              "      <th>2</th>\n",
              "      <td>-0.824192</td>\n",
              "      <td>-1.372320</td>\n",
              "      <td>-1.580845</td>\n",
              "      <td>-0.944203</td>\n",
              "      <td>-0.699516</td>\n",
              "      <td>0.925818</td>\n",
              "      <td>-0.655094</td>\n",
              "      <td>-0.131792</td>\n",
              "      <td>-0.171881</td>\n",
              "      <td>No Holiday</td>\n",
              "      <td>0</td>\n",
              "      <td>0</td>\n",
              "      <td>0</td>\n",
              "      <td>1</td>\n",
              "    </tr>\n",
              "    <tr>\n",
              "      <th>3</th>\n",
              "      <td>-0.926518</td>\n",
              "      <td>-1.227866</td>\n",
              "      <td>-1.597589</td>\n",
              "      <td>-0.895093</td>\n",
              "      <td>-0.796013</td>\n",
              "      <td>0.925818</td>\n",
              "      <td>-0.655094</td>\n",
              "      <td>-0.131792</td>\n",
              "      <td>-0.171881</td>\n",
              "      <td>No Holiday</td>\n",
              "      <td>0</td>\n",
              "      <td>0</td>\n",
              "      <td>0</td>\n",
              "      <td>1</td>\n",
              "    </tr>\n",
              "    <tr>\n",
              "      <th>4</th>\n",
              "      <td>-0.971480</td>\n",
              "      <td>-1.083411</td>\n",
              "      <td>-1.580845</td>\n",
              "      <td>-1.091533</td>\n",
              "      <td>0.554947</td>\n",
              "      <td>0.925818</td>\n",
              "      <td>-0.655094</td>\n",
              "      <td>-0.131792</td>\n",
              "      <td>-0.171881</td>\n",
              "      <td>No Holiday</td>\n",
              "      <td>0</td>\n",
              "      <td>0</td>\n",
              "      <td>0</td>\n",
              "      <td>1</td>\n",
              "    </tr>\n",
              "  </tbody>\n",
              "</table>\n",
              "</div>"
            ],
            "text/plain": [
              "   Rented Bike Count      Hour  Temperature(°C)  ...  Spring  Summer  Winter\n",
              "0          -0.698611 -1.661230        -1.513871  ...       0       0       1\n",
              "1          -0.776130 -1.516775        -1.538986  ...       0       0       1\n",
              "2          -0.824192 -1.372320        -1.580845  ...       0       0       1\n",
              "3          -0.926518 -1.227866        -1.597589  ...       0       0       1\n",
              "4          -0.971480 -1.083411        -1.580845  ...       0       0       1\n",
              "\n",
              "[5 rows x 14 columns]"
            ]
          },
          "metadata": {},
          "execution_count": 68
        }
      ]
    },
    {
      "cell_type": "markdown",
      "metadata": {
        "id": "309n8hJBrI_B"
      },
      "source": [
        "Holiday is an object type feature, and we should convert it to one hot bit variable, where one represents holiday and zero represents a working day"
      ]
    },
    {
      "cell_type": "code",
      "metadata": {
        "id": "fK6UqPy1nZWB"
      },
      "source": [
        "for i in range(len(df['Holiday'])):\n",
        "  if df.at[i,'Holiday']=='No Holiday':\n",
        "    df.at[i,'Holiday']=0\n",
        "  else:\n",
        "    df.at[i,'Holiday']=1\n"
      ],
      "execution_count": null,
      "outputs": []
    },
    {
      "cell_type": "code",
      "metadata": {
        "id": "Li982hWer4V-",
        "colab": {
          "base_uri": "https://localhost:8080/",
          "height": 257
        },
        "outputId": "9b3ef205-b01e-4d03-d969-8b10e1a7c482"
      },
      "source": [
        "df.head()"
      ],
      "execution_count": null,
      "outputs": [
        {
          "output_type": "execute_result",
          "data": {
            "text/html": [
              "<div>\n",
              "<style scoped>\n",
              "    .dataframe tbody tr th:only-of-type {\n",
              "        vertical-align: middle;\n",
              "    }\n",
              "\n",
              "    .dataframe tbody tr th {\n",
              "        vertical-align: top;\n",
              "    }\n",
              "\n",
              "    .dataframe thead th {\n",
              "        text-align: right;\n",
              "    }\n",
              "</style>\n",
              "<table border=\"1\" class=\"dataframe\">\n",
              "  <thead>\n",
              "    <tr style=\"text-align: right;\">\n",
              "      <th></th>\n",
              "      <th>Rented Bike Count</th>\n",
              "      <th>Hour</th>\n",
              "      <th>Temperature(°C)</th>\n",
              "      <th>Humidity(%)</th>\n",
              "      <th>Wind speed (m/s)</th>\n",
              "      <th>Visibility (10m)</th>\n",
              "      <th>Solar Radiation (MJ/m2)</th>\n",
              "      <th>Rainfall(mm)</th>\n",
              "      <th>Snowfall (cm)</th>\n",
              "      <th>Holiday</th>\n",
              "      <th>Autumn</th>\n",
              "      <th>Spring</th>\n",
              "      <th>Summer</th>\n",
              "      <th>Winter</th>\n",
              "    </tr>\n",
              "  </thead>\n",
              "  <tbody>\n",
              "    <tr>\n",
              "      <th>0</th>\n",
              "      <td>-0.698611</td>\n",
              "      <td>-1.661230</td>\n",
              "      <td>-1.513871</td>\n",
              "      <td>-1.042423</td>\n",
              "      <td>0.458450</td>\n",
              "      <td>0.925818</td>\n",
              "      <td>-0.655094</td>\n",
              "      <td>-0.131792</td>\n",
              "      <td>-0.171881</td>\n",
              "      <td>0</td>\n",
              "      <td>0</td>\n",
              "      <td>0</td>\n",
              "      <td>0</td>\n",
              "      <td>1</td>\n",
              "    </tr>\n",
              "    <tr>\n",
              "      <th>1</th>\n",
              "      <td>-0.776130</td>\n",
              "      <td>-1.516775</td>\n",
              "      <td>-1.538986</td>\n",
              "      <td>-0.993313</td>\n",
              "      <td>-0.892511</td>\n",
              "      <td>0.925818</td>\n",
              "      <td>-0.655094</td>\n",
              "      <td>-0.131792</td>\n",
              "      <td>-0.171881</td>\n",
              "      <td>0</td>\n",
              "      <td>0</td>\n",
              "      <td>0</td>\n",
              "      <td>0</td>\n",
              "      <td>1</td>\n",
              "    </tr>\n",
              "    <tr>\n",
              "      <th>2</th>\n",
              "      <td>-0.824192</td>\n",
              "      <td>-1.372320</td>\n",
              "      <td>-1.580845</td>\n",
              "      <td>-0.944203</td>\n",
              "      <td>-0.699516</td>\n",
              "      <td>0.925818</td>\n",
              "      <td>-0.655094</td>\n",
              "      <td>-0.131792</td>\n",
              "      <td>-0.171881</td>\n",
              "      <td>0</td>\n",
              "      <td>0</td>\n",
              "      <td>0</td>\n",
              "      <td>0</td>\n",
              "      <td>1</td>\n",
              "    </tr>\n",
              "    <tr>\n",
              "      <th>3</th>\n",
              "      <td>-0.926518</td>\n",
              "      <td>-1.227866</td>\n",
              "      <td>-1.597589</td>\n",
              "      <td>-0.895093</td>\n",
              "      <td>-0.796013</td>\n",
              "      <td>0.925818</td>\n",
              "      <td>-0.655094</td>\n",
              "      <td>-0.131792</td>\n",
              "      <td>-0.171881</td>\n",
              "      <td>0</td>\n",
              "      <td>0</td>\n",
              "      <td>0</td>\n",
              "      <td>0</td>\n",
              "      <td>1</td>\n",
              "    </tr>\n",
              "    <tr>\n",
              "      <th>4</th>\n",
              "      <td>-0.971480</td>\n",
              "      <td>-1.083411</td>\n",
              "      <td>-1.580845</td>\n",
              "      <td>-1.091533</td>\n",
              "      <td>0.554947</td>\n",
              "      <td>0.925818</td>\n",
              "      <td>-0.655094</td>\n",
              "      <td>-0.131792</td>\n",
              "      <td>-0.171881</td>\n",
              "      <td>0</td>\n",
              "      <td>0</td>\n",
              "      <td>0</td>\n",
              "      <td>0</td>\n",
              "      <td>1</td>\n",
              "    </tr>\n",
              "  </tbody>\n",
              "</table>\n",
              "</div>"
            ],
            "text/plain": [
              "   Rented Bike Count      Hour  Temperature(°C)  ...  Spring  Summer  Winter\n",
              "0          -0.698611 -1.661230        -1.513871  ...       0       0       1\n",
              "1          -0.776130 -1.516775        -1.538986  ...       0       0       1\n",
              "2          -0.824192 -1.372320        -1.580845  ...       0       0       1\n",
              "3          -0.926518 -1.227866        -1.597589  ...       0       0       1\n",
              "4          -0.971480 -1.083411        -1.580845  ...       0       0       1\n",
              "\n",
              "[5 rows x 14 columns]"
            ]
          },
          "metadata": {},
          "execution_count": 70
        }
      ]
    },
    {
      "cell_type": "markdown",
      "metadata": {
        "id": "ss_UrKfksCAt"
      },
      "source": [
        "For the above case, there are not many variables, so dimension reduction isn't needed here. Also, with irrelevant/redundant parameters removed, dimension reduction might veil the actual relation of a variable to the number of bikes rented. "
      ]
    },
    {
      "cell_type": "code",
      "metadata": {
        "id": "2JJLc2C1r6w2"
      },
      "source": [
        "from sklearn.ensemble import RandomForestRegressor\n",
        "from sklearn.svm import SVR\n",
        "from sklearn.metrics import mean_squared_error, r2_score\n",
        "from sklearn.model_selection import GridSearchCV\n",
        "from sklearn.model_selection import train_test_split\n",
        "from sklearn.linear_model import Lasso\n"
      ],
      "execution_count": null,
      "outputs": []
    },
    {
      "cell_type": "code",
      "metadata": {
        "id": "GzhdZiUEysi2"
      },
      "source": [
        "y=df['Rented Bike Count']\n",
        "data=df.drop(['Rented Bike Count'], axis=1)"
      ],
      "execution_count": null,
      "outputs": []
    },
    {
      "cell_type": "code",
      "metadata": {
        "id": "ytmu2tq-F6oc"
      },
      "source": [
        "x_train, x_test, y_train, y_test = train_test_split(data, y, test_size=0.15)"
      ],
      "execution_count": null,
      "outputs": []
    },
    {
      "cell_type": "code",
      "metadata": {
        "id": "aAJfpqiGzItK"
      },
      "source": [
        "lasso_par = {'alpha' : [0.00001, 0.0001, 0.001, 0.01,0.1,1,10,100]}\n",
        "Forest_par = {'n_estimators' : [10,50,100], 'bootstrap':[True, False],'criterion':['mse'] }\n"
      ],
      "execution_count": null,
      "outputs": []
    },
    {
      "cell_type": "markdown",
      "metadata": {
        "id": "yXztrUECQKiQ"
      },
      "source": [
        "Random Forest Regressor"
      ]
    },
    {
      "cell_type": "code",
      "metadata": {
        "id": "gtCSEh4hE9Ll",
        "colab": {
          "base_uri": "https://localhost:8080/"
        },
        "outputId": "9e910528-9147-41be-9c3c-bb1f4e73a0dc"
      },
      "source": [
        "RF = GridSearchCV(RandomForestRegressor(), Forest_par, scoring='neg_mean_squared_error',cv=5) #cv here is the cross validation\n",
        "RF.fit(x_train, y_train)\n",
        "RF.best_score_"
      ],
      "execution_count": null,
      "outputs": [
        {
          "output_type": "execute_result",
          "data": {
            "text/plain": [
              "-0.21726405925277414"
            ]
          },
          "metadata": {},
          "execution_count": 75
        }
      ]
    },
    {
      "cell_type": "code",
      "metadata": {
        "colab": {
          "base_uri": "https://localhost:8080/"
        },
        "id": "y6OPIXi-QRC7",
        "outputId": "e4818cf1-39c1-4acb-d0f6-1e19af3aeff6"
      },
      "source": [
        "RF.best_params_"
      ],
      "execution_count": null,
      "outputs": [
        {
          "output_type": "execute_result",
          "data": {
            "text/plain": [
              "{'bootstrap': True, 'criterion': 'mse', 'n_estimators': 50}"
            ]
          },
          "metadata": {},
          "execution_count": 76
        }
      ]
    },
    {
      "cell_type": "code",
      "metadata": {
        "colab": {
          "base_uri": "https://localhost:8080/"
        },
        "id": "7uG_OKclQV7E",
        "outputId": "7b41a02f-075b-4d3d-9611-691c61008bf2"
      },
      "source": [
        "y_pred_rf=RF.predict(x_test)\n",
        "r2_RF=r2_score(y_pred_rf, y_test)\n",
        "r2_RF"
      ],
      "execution_count": null,
      "outputs": [
        {
          "output_type": "execute_result",
          "data": {
            "text/plain": [
              "0.7447106658201332"
            ]
          },
          "metadata": {},
          "execution_count": 77
        }
      ]
    },
    {
      "cell_type": "markdown",
      "metadata": {
        "id": "aCd-0oWWQFd4"
      },
      "source": [
        "RF Manual Hyper parameter tuning"
      ]
    },
    {
      "cell_type": "code",
      "metadata": {
        "colab": {
          "base_uri": "https://localhost:8080/"
        },
        "id": "tqiWvqkEO00m",
        "outputId": "e82c476d-74e7-4abe-8635-6fdb37e13958"
      },
      "source": [
        "rfr = RandomForestRegressor(n_estimators=50).fit(x_train,y_train)\n",
        "print(rfr.score(x_train,y_train))\n",
        "print(rfr.score(x_test, y_test))"
      ],
      "execution_count": null,
      "outputs": [
        {
          "output_type": "stream",
          "name": "stdout",
          "text": [
            "0.9695055813227853\n",
            "0.7906404665136585\n"
          ]
        }
      ]
    },
    {
      "cell_type": "code",
      "metadata": {
        "colab": {
          "base_uri": "https://localhost:8080/"
        },
        "id": "Dz7LRdGmO0yd",
        "outputId": "9e8fbe60-246d-49b6-be79-f699ba94b304"
      },
      "source": [
        "yp=rfr.predict(x_test)\n",
        "print(r2_score(y_test, yp))"
      ],
      "execution_count": null,
      "outputs": [
        {
          "output_type": "stream",
          "name": "stdout",
          "text": [
            "0.7906404665136585\n"
          ]
        }
      ]
    },
    {
      "cell_type": "markdown",
      "metadata": {
        "id": "4eZwenPxQZ2e"
      },
      "source": [
        "SVM Regression"
      ]
    },
    {
      "cell_type": "code",
      "metadata": {
        "id": "aAgF7s_UISJ_"
      },
      "source": [
        "parameters = {'kernel': ['rbf'], 'C':[1.5, 10],'gamma': [1, 0.1, 0.01, 0.001, 0.0001]}# for svm regression\n",
        "from sklearn import svm"
      ],
      "execution_count": null,
      "outputs": []
    },
    {
      "cell_type": "code",
      "metadata": {
        "id": "c5zZYXzQISHl",
        "colab": {
          "base_uri": "https://localhost:8080/"
        },
        "outputId": "b78d62d2-cd41-413b-f993-67a20adad6b9"
      },
      "source": [
        "svr = svm.SVR()                #SVM Regressor\n",
        "clf = GridSearchCV(svr, parameters, n_jobs=-1)\n",
        "clf.fit(x_train,y_train)\n",
        "clf.best_params_"
      ],
      "execution_count": null,
      "outputs": [
        {
          "output_type": "execute_result",
          "data": {
            "text/plain": [
              "{'C': 1.5, 'gamma': 1, 'kernel': 'rbf'}"
            ]
          },
          "metadata": {},
          "execution_count": 81
        }
      ]
    },
    {
      "cell_type": "code",
      "metadata": {
        "colab": {
          "base_uri": "https://localhost:8080/"
        },
        "id": "9WqKYojIG5pX",
        "outputId": "aca8ce56-2478-4da7-fd65-a4d1e7fe0fd0"
      },
      "source": [
        "y_pred_svr=clf.predict(x_test)\n",
        "r2_SVR=r2_score(y_test, y_pred_svr)\n",
        "r2_SVR"
      ],
      "execution_count": null,
      "outputs": [
        {
          "output_type": "execute_result",
          "data": {
            "text/plain": [
              "0.7541668807926409"
            ]
          },
          "metadata": {},
          "execution_count": 82
        }
      ]
    },
    {
      "cell_type": "code",
      "metadata": {
        "id": "H0200WRHPVkt",
        "colab": {
          "base_uri": "https://localhost:8080/"
        },
        "outputId": "967ac732-456d-4d66-fb17-110b20c026db"
      },
      "source": [
        "clf.best_score_"
      ],
      "execution_count": null,
      "outputs": [
        {
          "output_type": "execute_result",
          "data": {
            "text/plain": [
              "0.7417096396628174"
            ]
          },
          "metadata": {},
          "execution_count": 83
        }
      ]
    },
    {
      "cell_type": "markdown",
      "metadata": {
        "id": "94MJCWIQQgYd"
      },
      "source": [
        "Lasso Regression"
      ]
    },
    {
      "cell_type": "code",
      "metadata": {
        "id": "KPK4lZNPISE7",
        "colab": {
          "base_uri": "https://localhost:8080/"
        },
        "outputId": "933dbcb0-f21d-44e9-e116-322e6ffcc3da"
      },
      "source": [
        "lasso=GridSearchCV(Lasso(), lasso_par, scoring='neg_mean_squared_error',cv=5, n_jobs=-1)\n",
        "lasso.fit(x_train, y_train)\n",
        "lasso.best_score_"
      ],
      "execution_count": null,
      "outputs": [
        {
          "output_type": "execute_result",
          "data": {
            "text/plain": [
              "-0.5143273072067187"
            ]
          },
          "metadata": {},
          "execution_count": 84
        }
      ]
    },
    {
      "cell_type": "code",
      "metadata": {
        "id": "j2xqiwdgRWnU",
        "colab": {
          "base_uri": "https://localhost:8080/"
        },
        "outputId": "23e30ed1-4e4c-4c1d-f0f1-17b95cae1800"
      },
      "source": [
        "lasso.best_params_"
      ],
      "execution_count": null,
      "outputs": [
        {
          "output_type": "execute_result",
          "data": {
            "text/plain": [
              "{'alpha': 0.0001}"
            ]
          },
          "metadata": {},
          "execution_count": 85
        }
      ]
    },
    {
      "cell_type": "code",
      "metadata": {
        "id": "xurY0E4pRb5z",
        "colab": {
          "base_uri": "https://localhost:8080/"
        },
        "outputId": "0774ddb6-98c9-4a8b-dc70-be2c43abf564"
      },
      "source": [
        "y_pred_lasso=lasso.predict(x_test)\n",
        "r2_lasso=r2_score(y_test, y_pred_lasso)\n",
        "r2_lasso"
      ],
      "execution_count": null,
      "outputs": [
        {
          "output_type": "execute_result",
          "data": {
            "text/plain": [
              "0.4794396380991518"
            ]
          },
          "metadata": {},
          "execution_count": 86
        }
      ]
    },
    {
      "cell_type": "markdown",
      "metadata": {
        "id": "dWIPh7biUiLc"
      },
      "source": [
        "Creating a scorecard for models"
      ]
    },
    {
      "cell_type": "code",
      "metadata": {
        "id": "odc9N0clSwXm"
      },
      "source": [
        "rmse=np.sqrt([mean_squared_error(y_test,y_pred_rf), mean_squared_error(y_test,yp), mean_squared_error(y_test,y_pred_svr), mean_squared_error(y_test,y_pred_lasso)])"
      ],
      "execution_count": null,
      "outputs": []
    },
    {
      "cell_type": "code",
      "metadata": {
        "id": "Dq05GabzLx3S"
      },
      "source": [
        "scores_of_models={'Model':['Random Forest Regressor', 'RF Manual Hyperpar Tuning', 'SVM Regressor', 'Lasso Regressor'], 'R2 Score':[r2_RF, r2_score(y_test, yp), r2_SVR, r2_lasso], 'RMSE':rmse}"
      ],
      "execution_count": null,
      "outputs": []
    },
    {
      "cell_type": "code",
      "metadata": {
        "id": "s_Cl061nTIqH"
      },
      "source": [
        "score_compare=pd.DataFrame(scores_of_models)"
      ],
      "execution_count": null,
      "outputs": []
    },
    {
      "cell_type": "code",
      "metadata": {
        "colab": {
          "base_uri": "https://localhost:8080/"
        },
        "id": "xbWpI22FTTK5",
        "outputId": "74535958-2af7-436f-c830-7cd86d46a6c4"
      },
      "source": [
        "score_compare"
      ],
      "execution_count": null,
      "outputs": [
        {
          "output_type": "execute_result",
          "data": {
            "text/html": [
              "<div>\n",
              "<style scoped>\n",
              "    .dataframe tbody tr th:only-of-type {\n",
              "        vertical-align: middle;\n",
              "    }\n",
              "\n",
              "    .dataframe tbody tr th {\n",
              "        vertical-align: top;\n",
              "    }\n",
              "\n",
              "    .dataframe thead th {\n",
              "        text-align: right;\n",
              "    }\n",
              "</style>\n",
              "<table border=\"1\" class=\"dataframe\">\n",
              "  <thead>\n",
              "    <tr style=\"text-align: right;\">\n",
              "      <th></th>\n",
              "      <th>Model</th>\n",
              "      <th>R2 Score</th>\n",
              "      <th>RMSE</th>\n",
              "    </tr>\n",
              "  </thead>\n",
              "  <tbody>\n",
              "    <tr>\n",
              "      <th>0</th>\n",
              "      <td>Random Forest Regressor</td>\n",
              "      <td>0.744711</td>\n",
              "      <td>0.450608</td>\n",
              "    </tr>\n",
              "    <tr>\n",
              "      <th>1</th>\n",
              "      <td>RF Manual Hyperpar Tuning</td>\n",
              "      <td>0.790640</td>\n",
              "      <td>0.454131</td>\n",
              "    </tr>\n",
              "    <tr>\n",
              "      <th>2</th>\n",
              "      <td>SVM Regressor</td>\n",
              "      <td>0.754167</td>\n",
              "      <td>0.492102</td>\n",
              "    </tr>\n",
              "    <tr>\n",
              "      <th>3</th>\n",
              "      <td>Lasso Regressor</td>\n",
              "      <td>0.479440</td>\n",
              "      <td>0.716095</td>\n",
              "    </tr>\n",
              "  </tbody>\n",
              "</table>\n",
              "</div>"
            ],
            "text/plain": [
              "                       Model  R2 Score      RMSE\n",
              "0    Random Forest Regressor  0.744711  0.450608\n",
              "1  RF Manual Hyperpar Tuning  0.790640  0.454131\n",
              "2              SVM Regressor  0.754167  0.492102\n",
              "3            Lasso Regressor  0.479440  0.716095"
            ]
          },
          "metadata": {},
          "execution_count": 90
        }
      ]
    },
    {
      "cell_type": "code",
      "metadata": {
        "colab": {
          "base_uri": "https://localhost:8080/"
        },
        "id": "aELD1t3sTZxU",
        "outputId": "4e7bceee-7f1f-43d4-db47-df22beff7561"
      },
      "source": [
        "score_compare.sort_values(by='R2 Score', ascending=False,ignore_index=True)"
      ],
      "execution_count": null,
      "outputs": [
        {
          "output_type": "execute_result",
          "data": {
            "text/html": [
              "<div>\n",
              "<style scoped>\n",
              "    .dataframe tbody tr th:only-of-type {\n",
              "        vertical-align: middle;\n",
              "    }\n",
              "\n",
              "    .dataframe tbody tr th {\n",
              "        vertical-align: top;\n",
              "    }\n",
              "\n",
              "    .dataframe thead th {\n",
              "        text-align: right;\n",
              "    }\n",
              "</style>\n",
              "<table border=\"1\" class=\"dataframe\">\n",
              "  <thead>\n",
              "    <tr style=\"text-align: right;\">\n",
              "      <th></th>\n",
              "      <th>Model</th>\n",
              "      <th>R2 Score</th>\n",
              "      <th>RMSE</th>\n",
              "    </tr>\n",
              "  </thead>\n",
              "  <tbody>\n",
              "    <tr>\n",
              "      <th>0</th>\n",
              "      <td>RF Manual Hyperpar Tuning</td>\n",
              "      <td>0.790640</td>\n",
              "      <td>0.454131</td>\n",
              "    </tr>\n",
              "    <tr>\n",
              "      <th>1</th>\n",
              "      <td>SVM Regressor</td>\n",
              "      <td>0.754167</td>\n",
              "      <td>0.492102</td>\n",
              "    </tr>\n",
              "    <tr>\n",
              "      <th>2</th>\n",
              "      <td>Random Forest Regressor</td>\n",
              "      <td>0.744711</td>\n",
              "      <td>0.450608</td>\n",
              "    </tr>\n",
              "    <tr>\n",
              "      <th>3</th>\n",
              "      <td>Lasso Regressor</td>\n",
              "      <td>0.479440</td>\n",
              "      <td>0.716095</td>\n",
              "    </tr>\n",
              "  </tbody>\n",
              "</table>\n",
              "</div>"
            ],
            "text/plain": [
              "                       Model  R2 Score      RMSE\n",
              "0  RF Manual Hyperpar Tuning  0.790640  0.454131\n",
              "1              SVM Regressor  0.754167  0.492102\n",
              "2    Random Forest Regressor  0.744711  0.450608\n",
              "3            Lasso Regressor  0.479440  0.716095"
            ]
          },
          "metadata": {},
          "execution_count": 91
        }
      ]
    },
    {
      "cell_type": "markdown",
      "metadata": {
        "id": "_7PgoxnMT7wm"
      },
      "source": [
        "We see that Random forest regressor gives the best results, followed by SVM regressor and Lasso regression. This happens because by the nature of the models, Lasso Regressoin works best with small number of data records and large number of features. On the other hand, SVM R and RF work well with large datasets."
      ]
    },
    {
      "cell_type": "markdown",
      "metadata": {
        "id": "5GpuXf0lUtAq"
      },
      "source": [
        "#Question 4"
      ]
    },
    {
      "cell_type": "code",
      "metadata": {
        "id": "EcpYMXSQiKCe"
      },
      "source": [
        "import numpy as np\n",
        "import pandas as pd\n",
        "import matplotlib.pyplot as plt\n",
        "import seaborn as sns\n",
        "from sklearn.model_selection import train_test_split\n",
        "from sklearn.metrics import mean_squared_error, mean_absolute_error, r2_score\n",
        "from sklearn.model_selection import GridSearchCV\n",
        "from sklearn.linear_model import ElasticNet\n",
        "\n",
        "import statsmodels\n",
        "import statsmodels.api as sm\n",
        "import statsmodels.stats.api as sms\n",
        "from statsmodels.tools.eval_measures import rmse\n",
        "from sklearn.metrics import r2_score,mean_squared_error, f1_score\n",
        "from statsmodels.compat import lzip\n",
        "from statsmodels.graphics.gofplots import ProbPlot\n",
        "from sklearn.decomposition import PCA\n",
        "from sklearn.neural_network import MLPClassifier\n",
        "from sklearn.tree import DecisionTreeClassifier\n",
        "from sklearn.metrics import accuracy_score\n",
        "from sklearn.ensemble import RandomForestClassifier\n",
        "\n",
        "from scipy.stats import f_oneway\n",
        "from scipy.stats import jarque_bera\n",
        "from scipy import stats"
      ],
      "execution_count": null,
      "outputs": []
    },
    {
      "cell_type": "code",
      "metadata": {
        "colab": {
          "base_uri": "https://localhost:8080/",
          "height": 470
        },
        "id": "C5_UtPlLUWjj",
        "outputId": "133cfaa3-4267-4a98-cae9-3a5dc11289f2"
      },
      "source": [
        "csv0data=pd.read_csv('/content/0.csv', header=None)\n",
        "csv1data=pd.read_csv('/content/1.csv', header=None)\n",
        "csv2data=pd.read_csv('/content/2.csv', header=None)\n",
        "csv3data=pd.read_csv('/content/3.csv', header=None)\n",
        "dfm=pd.concat([csv0data, csv1data, csv2data, csv3data])\n",
        "\n",
        "dfm=dfm.reset_index()\n",
        "dfm=dfm.drop(['index'],axis=1)\n",
        "\n",
        "print(\"\\n\")\n",
        "display(dfm)"
      ],
      "execution_count": null,
      "outputs": [
        {
          "output_type": "stream",
          "name": "stdout",
          "text": [
            "\n",
            "\n"
          ]
        },
        {
          "output_type": "display_data",
          "data": {
            "text/html": [
              "<div>\n",
              "<style scoped>\n",
              "    .dataframe tbody tr th:only-of-type {\n",
              "        vertical-align: middle;\n",
              "    }\n",
              "\n",
              "    .dataframe tbody tr th {\n",
              "        vertical-align: top;\n",
              "    }\n",
              "\n",
              "    .dataframe thead th {\n",
              "        text-align: right;\n",
              "    }\n",
              "</style>\n",
              "<table border=\"1\" class=\"dataframe\">\n",
              "  <thead>\n",
              "    <tr style=\"text-align: right;\">\n",
              "      <th></th>\n",
              "      <th>0</th>\n",
              "      <th>1</th>\n",
              "      <th>2</th>\n",
              "      <th>3</th>\n",
              "      <th>4</th>\n",
              "      <th>5</th>\n",
              "      <th>6</th>\n",
              "      <th>7</th>\n",
              "      <th>8</th>\n",
              "      <th>9</th>\n",
              "      <th>10</th>\n",
              "      <th>11</th>\n",
              "      <th>12</th>\n",
              "      <th>13</th>\n",
              "      <th>14</th>\n",
              "      <th>15</th>\n",
              "      <th>16</th>\n",
              "      <th>17</th>\n",
              "      <th>18</th>\n",
              "      <th>19</th>\n",
              "      <th>20</th>\n",
              "      <th>21</th>\n",
              "      <th>22</th>\n",
              "      <th>23</th>\n",
              "      <th>24</th>\n",
              "      <th>25</th>\n",
              "      <th>26</th>\n",
              "      <th>27</th>\n",
              "      <th>28</th>\n",
              "      <th>29</th>\n",
              "      <th>30</th>\n",
              "      <th>31</th>\n",
              "      <th>32</th>\n",
              "      <th>33</th>\n",
              "      <th>34</th>\n",
              "      <th>35</th>\n",
              "      <th>36</th>\n",
              "      <th>37</th>\n",
              "      <th>38</th>\n",
              "      <th>39</th>\n",
              "      <th>40</th>\n",
              "      <th>41</th>\n",
              "      <th>42</th>\n",
              "      <th>43</th>\n",
              "      <th>44</th>\n",
              "      <th>45</th>\n",
              "      <th>46</th>\n",
              "      <th>47</th>\n",
              "      <th>48</th>\n",
              "      <th>49</th>\n",
              "      <th>50</th>\n",
              "      <th>51</th>\n",
              "      <th>52</th>\n",
              "      <th>53</th>\n",
              "      <th>54</th>\n",
              "      <th>55</th>\n",
              "      <th>56</th>\n",
              "      <th>57</th>\n",
              "      <th>58</th>\n",
              "      <th>59</th>\n",
              "      <th>60</th>\n",
              "      <th>61</th>\n",
              "      <th>62</th>\n",
              "      <th>63</th>\n",
              "      <th>64</th>\n",
              "    </tr>\n",
              "  </thead>\n",
              "  <tbody>\n",
              "    <tr>\n",
              "      <th>0</th>\n",
              "      <td>26.0</td>\n",
              "      <td>4.0</td>\n",
              "      <td>5.0</td>\n",
              "      <td>8.0</td>\n",
              "      <td>-1.0</td>\n",
              "      <td>-13.0</td>\n",
              "      <td>-109.0</td>\n",
              "      <td>-66.0</td>\n",
              "      <td>-9.0</td>\n",
              "      <td>2.0</td>\n",
              "      <td>4.0</td>\n",
              "      <td>13.0</td>\n",
              "      <td>-18.0</td>\n",
              "      <td>-30.0</td>\n",
              "      <td>-119.0</td>\n",
              "      <td>-45.0</td>\n",
              "      <td>17.0</td>\n",
              "      <td>6.0</td>\n",
              "      <td>-1.0</td>\n",
              "      <td>-9.0</td>\n",
              "      <td>27.0</td>\n",
              "      <td>20.0</td>\n",
              "      <td>91.0</td>\n",
              "      <td>71.0</td>\n",
              "      <td>-26.0</td>\n",
              "      <td>-1.0</td>\n",
              "      <td>0.0</td>\n",
              "      <td>1.0</td>\n",
              "      <td>13.0</td>\n",
              "      <td>20.0</td>\n",
              "      <td>-62.0</td>\n",
              "      <td>-19.0</td>\n",
              "      <td>29.0</td>\n",
              "      <td>2.0</td>\n",
              "      <td>2.0</td>\n",
              "      <td>0.0</td>\n",
              "      <td>-23.0</td>\n",
              "      <td>-1.0</td>\n",
              "      <td>-80.0</td>\n",
              "      <td>4.0</td>\n",
              "      <td>-7.0</td>\n",
              "      <td>-6.0</td>\n",
              "      <td>-12.0</td>\n",
              "      <td>-27.0</td>\n",
              "      <td>-11.0</td>\n",
              "      <td>-16.0</td>\n",
              "      <td>-67.0</td>\n",
              "      <td>-8.0</td>\n",
              "      <td>-27.0</td>\n",
              "      <td>1.0</td>\n",
              "      <td>1.0</td>\n",
              "      <td>13.0</td>\n",
              "      <td>-8.0</td>\n",
              "      <td>-11.0</td>\n",
              "      <td>21.0</td>\n",
              "      <td>-28.0</td>\n",
              "      <td>61.0</td>\n",
              "      <td>4.0</td>\n",
              "      <td>8.0</td>\n",
              "      <td>5.0</td>\n",
              "      <td>4.0</td>\n",
              "      <td>-7.0</td>\n",
              "      <td>-59.0</td>\n",
              "      <td>16.0</td>\n",
              "      <td>0</td>\n",
              "    </tr>\n",
              "    <tr>\n",
              "      <th>1</th>\n",
              "      <td>-47.0</td>\n",
              "      <td>-6.0</td>\n",
              "      <td>-5.0</td>\n",
              "      <td>-7.0</td>\n",
              "      <td>13.0</td>\n",
              "      <td>-1.0</td>\n",
              "      <td>35.0</td>\n",
              "      <td>-10.0</td>\n",
              "      <td>10.0</td>\n",
              "      <td>-4.0</td>\n",
              "      <td>0.0</td>\n",
              "      <td>7.0</td>\n",
              "      <td>-31.0</td>\n",
              "      <td>-33.0</td>\n",
              "      <td>-48.0</td>\n",
              "      <td>-52.0</td>\n",
              "      <td>34.0</td>\n",
              "      <td>10.0</td>\n",
              "      <td>5.0</td>\n",
              "      <td>-9.0</td>\n",
              "      <td>23.0</td>\n",
              "      <td>63.0</td>\n",
              "      <td>76.0</td>\n",
              "      <td>49.0</td>\n",
              "      <td>-27.0</td>\n",
              "      <td>-7.0</td>\n",
              "      <td>-7.0</td>\n",
              "      <td>-3.0</td>\n",
              "      <td>0.0</td>\n",
              "      <td>4.0</td>\n",
              "      <td>-111.0</td>\n",
              "      <td>-2.0</td>\n",
              "      <td>-7.0</td>\n",
              "      <td>7.0</td>\n",
              "      <td>11.0</td>\n",
              "      <td>11.0</td>\n",
              "      <td>2.0</td>\n",
              "      <td>2.0</td>\n",
              "      <td>76.0</td>\n",
              "      <td>3.0</td>\n",
              "      <td>7.0</td>\n",
              "      <td>-2.0</td>\n",
              "      <td>0.0</td>\n",
              "      <td>-6.0</td>\n",
              "      <td>21.0</td>\n",
              "      <td>-3.0</td>\n",
              "      <td>0.0</td>\n",
              "      <td>-8.0</td>\n",
              "      <td>-40.0</td>\n",
              "      <td>-4.0</td>\n",
              "      <td>-1.0</td>\n",
              "      <td>6.0</td>\n",
              "      <td>-2.0</td>\n",
              "      <td>-2.0</td>\n",
              "      <td>-105.0</td>\n",
              "      <td>-25.0</td>\n",
              "      <td>47.0</td>\n",
              "      <td>6.0</td>\n",
              "      <td>6.0</td>\n",
              "      <td>5.0</td>\n",
              "      <td>13.0</td>\n",
              "      <td>21.0</td>\n",
              "      <td>111.0</td>\n",
              "      <td>15.0</td>\n",
              "      <td>0</td>\n",
              "    </tr>\n",
              "    <tr>\n",
              "      <th>2</th>\n",
              "      <td>-19.0</td>\n",
              "      <td>-8.0</td>\n",
              "      <td>-8.0</td>\n",
              "      <td>-8.0</td>\n",
              "      <td>-21.0</td>\n",
              "      <td>-6.0</td>\n",
              "      <td>-79.0</td>\n",
              "      <td>12.0</td>\n",
              "      <td>0.0</td>\n",
              "      <td>5.0</td>\n",
              "      <td>4.0</td>\n",
              "      <td>16.0</td>\n",
              "      <td>24.0</td>\n",
              "      <td>9.0</td>\n",
              "      <td>33.0</td>\n",
              "      <td>34.0</td>\n",
              "      <td>-1.0</td>\n",
              "      <td>-4.0</td>\n",
              "      <td>-3.0</td>\n",
              "      <td>-6.0</td>\n",
              "      <td>-7.0</td>\n",
              "      <td>-11.0</td>\n",
              "      <td>-85.0</td>\n",
              "      <td>-12.0</td>\n",
              "      <td>-10.0</td>\n",
              "      <td>-2.0</td>\n",
              "      <td>-3.0</td>\n",
              "      <td>-2.0</td>\n",
              "      <td>-8.0</td>\n",
              "      <td>-30.0</td>\n",
              "      <td>-16.0</td>\n",
              "      <td>-22.0</td>\n",
              "      <td>-21.0</td>\n",
              "      <td>-7.0</td>\n",
              "      <td>-8.0</td>\n",
              "      <td>-12.0</td>\n",
              "      <td>-14.0</td>\n",
              "      <td>-18.0</td>\n",
              "      <td>-76.0</td>\n",
              "      <td>-44.0</td>\n",
              "      <td>27.0</td>\n",
              "      <td>7.0</td>\n",
              "      <td>4.0</td>\n",
              "      <td>-4.0</td>\n",
              "      <td>-10.0</td>\n",
              "      <td>23.0</td>\n",
              "      <td>127.0</td>\n",
              "      <td>69.0</td>\n",
              "      <td>-25.0</td>\n",
              "      <td>-12.0</td>\n",
              "      <td>-9.0</td>\n",
              "      <td>1.0</td>\n",
              "      <td>18.0</td>\n",
              "      <td>-33.0</td>\n",
              "      <td>-128.0</td>\n",
              "      <td>-83.0</td>\n",
              "      <td>7.0</td>\n",
              "      <td>7.0</td>\n",
              "      <td>1.0</td>\n",
              "      <td>-8.0</td>\n",
              "      <td>7.0</td>\n",
              "      <td>21.0</td>\n",
              "      <td>114.0</td>\n",
              "      <td>48.0</td>\n",
              "      <td>0</td>\n",
              "    </tr>\n",
              "    <tr>\n",
              "      <th>3</th>\n",
              "      <td>2.0</td>\n",
              "      <td>3.0</td>\n",
              "      <td>0.0</td>\n",
              "      <td>2.0</td>\n",
              "      <td>0.0</td>\n",
              "      <td>22.0</td>\n",
              "      <td>106.0</td>\n",
              "      <td>-14.0</td>\n",
              "      <td>-16.0</td>\n",
              "      <td>-2.0</td>\n",
              "      <td>-3.0</td>\n",
              "      <td>-4.0</td>\n",
              "      <td>18.0</td>\n",
              "      <td>21.0</td>\n",
              "      <td>-9.0</td>\n",
              "      <td>2.0</td>\n",
              "      <td>-8.0</td>\n",
              "      <td>0.0</td>\n",
              "      <td>3.0</td>\n",
              "      <td>5.0</td>\n",
              "      <td>-14.0</td>\n",
              "      <td>-15.0</td>\n",
              "      <td>13.0</td>\n",
              "      <td>-13.0</td>\n",
              "      <td>11.0</td>\n",
              "      <td>-4.0</td>\n",
              "      <td>-5.0</td>\n",
              "      <td>-8.0</td>\n",
              "      <td>-30.0</td>\n",
              "      <td>-27.0</td>\n",
              "      <td>-128.0</td>\n",
              "      <td>-22.0</td>\n",
              "      <td>-3.0</td>\n",
              "      <td>-5.0</td>\n",
              "      <td>-8.0</td>\n",
              "      <td>0.0</td>\n",
              "      <td>25.0</td>\n",
              "      <td>-9.0</td>\n",
              "      <td>-28.0</td>\n",
              "      <td>2.0</td>\n",
              "      <td>-22.0</td>\n",
              "      <td>8.0</td>\n",
              "      <td>8.0</td>\n",
              "      <td>-2.0</td>\n",
              "      <td>2.0</td>\n",
              "      <td>12.0</td>\n",
              "      <td>53.0</td>\n",
              "      <td>20.0</td>\n",
              "      <td>28.0</td>\n",
              "      <td>-9.0</td>\n",
              "      <td>-5.0</td>\n",
              "      <td>-5.0</td>\n",
              "      <td>-7.0</td>\n",
              "      <td>-7.0</td>\n",
              "      <td>-54.0</td>\n",
              "      <td>-38.0</td>\n",
              "      <td>-11.0</td>\n",
              "      <td>4.0</td>\n",
              "      <td>7.0</td>\n",
              "      <td>11.0</td>\n",
              "      <td>33.0</td>\n",
              "      <td>39.0</td>\n",
              "      <td>119.0</td>\n",
              "      <td>43.0</td>\n",
              "      <td>0</td>\n",
              "    </tr>\n",
              "    <tr>\n",
              "      <th>4</th>\n",
              "      <td>6.0</td>\n",
              "      <td>0.0</td>\n",
              "      <td>0.0</td>\n",
              "      <td>-2.0</td>\n",
              "      <td>-14.0</td>\n",
              "      <td>10.0</td>\n",
              "      <td>-51.0</td>\n",
              "      <td>5.0</td>\n",
              "      <td>7.0</td>\n",
              "      <td>0.0</td>\n",
              "      <td>4.0</td>\n",
              "      <td>13.0</td>\n",
              "      <td>13.0</td>\n",
              "      <td>-16.0</td>\n",
              "      <td>-45.0</td>\n",
              "      <td>-7.0</td>\n",
              "      <td>-84.0</td>\n",
              "      <td>-8.0</td>\n",
              "      <td>-3.0</td>\n",
              "      <td>-4.0</td>\n",
              "      <td>-36.0</td>\n",
              "      <td>-26.0</td>\n",
              "      <td>-128.0</td>\n",
              "      <td>-55.0</td>\n",
              "      <td>75.0</td>\n",
              "      <td>3.0</td>\n",
              "      <td>-8.0</td>\n",
              "      <td>-12.0</td>\n",
              "      <td>14.0</td>\n",
              "      <td>12.0</td>\n",
              "      <td>87.0</td>\n",
              "      <td>56.0</td>\n",
              "      <td>-3.0</td>\n",
              "      <td>2.0</td>\n",
              "      <td>0.0</td>\n",
              "      <td>-7.0</td>\n",
              "      <td>4.0</td>\n",
              "      <td>15.0</td>\n",
              "      <td>-13.0</td>\n",
              "      <td>0.0</td>\n",
              "      <td>-15.0</td>\n",
              "      <td>1.0</td>\n",
              "      <td>3.0</td>\n",
              "      <td>8.0</td>\n",
              "      <td>-2.0</td>\n",
              "      <td>-6.0</td>\n",
              "      <td>-55.0</td>\n",
              "      <td>-24.0</td>\n",
              "      <td>1.0</td>\n",
              "      <td>5.0</td>\n",
              "      <td>5.0</td>\n",
              "      <td>2.0</td>\n",
              "      <td>11.0</td>\n",
              "      <td>12.0</td>\n",
              "      <td>60.0</td>\n",
              "      <td>38.0</td>\n",
              "      <td>-35.0</td>\n",
              "      <td>-8.0</td>\n",
              "      <td>2.0</td>\n",
              "      <td>6.0</td>\n",
              "      <td>-13.0</td>\n",
              "      <td>-24.0</td>\n",
              "      <td>-112.0</td>\n",
              "      <td>-69.0</td>\n",
              "      <td>0</td>\n",
              "    </tr>\n",
              "    <tr>\n",
              "      <th>...</th>\n",
              "      <td>...</td>\n",
              "      <td>...</td>\n",
              "      <td>...</td>\n",
              "      <td>...</td>\n",
              "      <td>...</td>\n",
              "      <td>...</td>\n",
              "      <td>...</td>\n",
              "      <td>...</td>\n",
              "      <td>...</td>\n",
              "      <td>...</td>\n",
              "      <td>...</td>\n",
              "      <td>...</td>\n",
              "      <td>...</td>\n",
              "      <td>...</td>\n",
              "      <td>...</td>\n",
              "      <td>...</td>\n",
              "      <td>...</td>\n",
              "      <td>...</td>\n",
              "      <td>...</td>\n",
              "      <td>...</td>\n",
              "      <td>...</td>\n",
              "      <td>...</td>\n",
              "      <td>...</td>\n",
              "      <td>...</td>\n",
              "      <td>...</td>\n",
              "      <td>...</td>\n",
              "      <td>...</td>\n",
              "      <td>...</td>\n",
              "      <td>...</td>\n",
              "      <td>...</td>\n",
              "      <td>...</td>\n",
              "      <td>...</td>\n",
              "      <td>...</td>\n",
              "      <td>...</td>\n",
              "      <td>...</td>\n",
              "      <td>...</td>\n",
              "      <td>...</td>\n",
              "      <td>...</td>\n",
              "      <td>...</td>\n",
              "      <td>...</td>\n",
              "      <td>...</td>\n",
              "      <td>...</td>\n",
              "      <td>...</td>\n",
              "      <td>...</td>\n",
              "      <td>...</td>\n",
              "      <td>...</td>\n",
              "      <td>...</td>\n",
              "      <td>...</td>\n",
              "      <td>...</td>\n",
              "      <td>...</td>\n",
              "      <td>...</td>\n",
              "      <td>...</td>\n",
              "      <td>...</td>\n",
              "      <td>...</td>\n",
              "      <td>...</td>\n",
              "      <td>...</td>\n",
              "      <td>...</td>\n",
              "      <td>...</td>\n",
              "      <td>...</td>\n",
              "      <td>...</td>\n",
              "      <td>...</td>\n",
              "      <td>...</td>\n",
              "      <td>...</td>\n",
              "      <td>...</td>\n",
              "      <td>...</td>\n",
              "    </tr>\n",
              "    <tr>\n",
              "      <th>11673</th>\n",
              "      <td>-3.0</td>\n",
              "      <td>-1.0</td>\n",
              "      <td>-1.0</td>\n",
              "      <td>-1.0</td>\n",
              "      <td>-28.0</td>\n",
              "      <td>20.0</td>\n",
              "      <td>5.0</td>\n",
              "      <td>0.0</td>\n",
              "      <td>-5.0</td>\n",
              "      <td>0.0</td>\n",
              "      <td>2.0</td>\n",
              "      <td>5.0</td>\n",
              "      <td>-10.0</td>\n",
              "      <td>-17.0</td>\n",
              "      <td>-3.0</td>\n",
              "      <td>-2.0</td>\n",
              "      <td>12.0</td>\n",
              "      <td>2.0</td>\n",
              "      <td>2.0</td>\n",
              "      <td>2.0</td>\n",
              "      <td>-4.0</td>\n",
              "      <td>-28.0</td>\n",
              "      <td>1.0</td>\n",
              "      <td>-6.0</td>\n",
              "      <td>-5.0</td>\n",
              "      <td>-1.0</td>\n",
              "      <td>1.0</td>\n",
              "      <td>0.0</td>\n",
              "      <td>11.0</td>\n",
              "      <td>9.0</td>\n",
              "      <td>-4.0</td>\n",
              "      <td>14.0</td>\n",
              "      <td>2.0</td>\n",
              "      <td>-2.0</td>\n",
              "      <td>-2.0</td>\n",
              "      <td>-8.0</td>\n",
              "      <td>-17.0</td>\n",
              "      <td>1.0</td>\n",
              "      <td>-2.0</td>\n",
              "      <td>6.0</td>\n",
              "      <td>-14.0</td>\n",
              "      <td>-3.0</td>\n",
              "      <td>-4.0</td>\n",
              "      <td>-2.0</td>\n",
              "      <td>27.0</td>\n",
              "      <td>18.0</td>\n",
              "      <td>-6.0</td>\n",
              "      <td>-17.0</td>\n",
              "      <td>-4.0</td>\n",
              "      <td>1.0</td>\n",
              "      <td>-2.0</td>\n",
              "      <td>1.0</td>\n",
              "      <td>13.0</td>\n",
              "      <td>-12.0</td>\n",
              "      <td>-3.0</td>\n",
              "      <td>-3.0</td>\n",
              "      <td>1.0</td>\n",
              "      <td>4.0</td>\n",
              "      <td>3.0</td>\n",
              "      <td>4.0</td>\n",
              "      <td>-51.0</td>\n",
              "      <td>-49.0</td>\n",
              "      <td>5.0</td>\n",
              "      <td>-9.0</td>\n",
              "      <td>3</td>\n",
              "    </tr>\n",
              "    <tr>\n",
              "      <th>11674</th>\n",
              "      <td>-13.0</td>\n",
              "      <td>-5.0</td>\n",
              "      <td>-4.0</td>\n",
              "      <td>-3.0</td>\n",
              "      <td>-4.0</td>\n",
              "      <td>-24.0</td>\n",
              "      <td>-10.0</td>\n",
              "      <td>-8.0</td>\n",
              "      <td>20.0</td>\n",
              "      <td>9.0</td>\n",
              "      <td>9.0</td>\n",
              "      <td>7.0</td>\n",
              "      <td>5.0</td>\n",
              "      <td>50.0</td>\n",
              "      <td>31.0</td>\n",
              "      <td>18.0</td>\n",
              "      <td>-3.0</td>\n",
              "      <td>-3.0</td>\n",
              "      <td>1.0</td>\n",
              "      <td>-2.0</td>\n",
              "      <td>17.0</td>\n",
              "      <td>-6.0</td>\n",
              "      <td>-10.0</td>\n",
              "      <td>-18.0</td>\n",
              "      <td>-11.0</td>\n",
              "      <td>-5.0</td>\n",
              "      <td>-2.0</td>\n",
              "      <td>-2.0</td>\n",
              "      <td>10.0</td>\n",
              "      <td>21.0</td>\n",
              "      <td>-2.0</td>\n",
              "      <td>15.0</td>\n",
              "      <td>5.0</td>\n",
              "      <td>-2.0</td>\n",
              "      <td>-2.0</td>\n",
              "      <td>-6.0</td>\n",
              "      <td>-6.0</td>\n",
              "      <td>-50.0</td>\n",
              "      <td>-16.0</td>\n",
              "      <td>7.0</td>\n",
              "      <td>-12.0</td>\n",
              "      <td>-2.0</td>\n",
              "      <td>-3.0</td>\n",
              "      <td>1.0</td>\n",
              "      <td>21.0</td>\n",
              "      <td>48.0</td>\n",
              "      <td>12.0</td>\n",
              "      <td>-12.0</td>\n",
              "      <td>-1.0</td>\n",
              "      <td>3.0</td>\n",
              "      <td>2.0</td>\n",
              "      <td>5.0</td>\n",
              "      <td>-12.0</td>\n",
              "      <td>-8.0</td>\n",
              "      <td>5.0</td>\n",
              "      <td>6.0</td>\n",
              "      <td>-3.0</td>\n",
              "      <td>-3.0</td>\n",
              "      <td>-3.0</td>\n",
              "      <td>-5.0</td>\n",
              "      <td>-4.0</td>\n",
              "      <td>-45.0</td>\n",
              "      <td>-12.0</td>\n",
              "      <td>-15.0</td>\n",
              "      <td>3</td>\n",
              "    </tr>\n",
              "    <tr>\n",
              "      <th>11675</th>\n",
              "      <td>-1.0</td>\n",
              "      <td>-3.0</td>\n",
              "      <td>-1.0</td>\n",
              "      <td>1.0</td>\n",
              "      <td>30.0</td>\n",
              "      <td>38.0</td>\n",
              "      <td>-1.0</td>\n",
              "      <td>36.0</td>\n",
              "      <td>-10.0</td>\n",
              "      <td>1.0</td>\n",
              "      <td>4.0</td>\n",
              "      <td>0.0</td>\n",
              "      <td>-3.0</td>\n",
              "      <td>33.0</td>\n",
              "      <td>-2.0</td>\n",
              "      <td>-1.0</td>\n",
              "      <td>-1.0</td>\n",
              "      <td>2.0</td>\n",
              "      <td>-3.0</td>\n",
              "      <td>0.0</td>\n",
              "      <td>-38.0</td>\n",
              "      <td>-25.0</td>\n",
              "      <td>0.0</td>\n",
              "      <td>3.0</td>\n",
              "      <td>2.0</td>\n",
              "      <td>-1.0</td>\n",
              "      <td>0.0</td>\n",
              "      <td>-3.0</td>\n",
              "      <td>14.0</td>\n",
              "      <td>0.0</td>\n",
              "      <td>-1.0</td>\n",
              "      <td>-3.0</td>\n",
              "      <td>-3.0</td>\n",
              "      <td>-4.0</td>\n",
              "      <td>-3.0</td>\n",
              "      <td>-6.0</td>\n",
              "      <td>-2.0</td>\n",
              "      <td>13.0</td>\n",
              "      <td>-5.0</td>\n",
              "      <td>-19.0</td>\n",
              "      <td>-6.0</td>\n",
              "      <td>-5.0</td>\n",
              "      <td>-4.0</td>\n",
              "      <td>1.0</td>\n",
              "      <td>41.0</td>\n",
              "      <td>-10.0</td>\n",
              "      <td>-4.0</td>\n",
              "      <td>-9.0</td>\n",
              "      <td>3.0</td>\n",
              "      <td>3.0</td>\n",
              "      <td>2.0</td>\n",
              "      <td>3.0</td>\n",
              "      <td>1.0</td>\n",
              "      <td>50.0</td>\n",
              "      <td>12.0</td>\n",
              "      <td>14.0</td>\n",
              "      <td>-8.0</td>\n",
              "      <td>-4.0</td>\n",
              "      <td>-4.0</td>\n",
              "      <td>-4.0</td>\n",
              "      <td>-21.0</td>\n",
              "      <td>-29.0</td>\n",
              "      <td>-5.0</td>\n",
              "      <td>0.0</td>\n",
              "      <td>3</td>\n",
              "    </tr>\n",
              "    <tr>\n",
              "      <th>11676</th>\n",
              "      <td>1.0</td>\n",
              "      <td>4.0</td>\n",
              "      <td>4.0</td>\n",
              "      <td>5.0</td>\n",
              "      <td>9.0</td>\n",
              "      <td>-10.0</td>\n",
              "      <td>4.0</td>\n",
              "      <td>1.0</td>\n",
              "      <td>-2.0</td>\n",
              "      <td>-1.0</td>\n",
              "      <td>-1.0</td>\n",
              "      <td>-1.0</td>\n",
              "      <td>-5.0</td>\n",
              "      <td>12.0</td>\n",
              "      <td>1.0</td>\n",
              "      <td>-19.0</td>\n",
              "      <td>0.0</td>\n",
              "      <td>-4.0</td>\n",
              "      <td>-4.0</td>\n",
              "      <td>0.0</td>\n",
              "      <td>25.0</td>\n",
              "      <td>0.0</td>\n",
              "      <td>3.0</td>\n",
              "      <td>-5.0</td>\n",
              "      <td>1.0</td>\n",
              "      <td>1.0</td>\n",
              "      <td>-2.0</td>\n",
              "      <td>-4.0</td>\n",
              "      <td>-31.0</td>\n",
              "      <td>-17.0</td>\n",
              "      <td>-7.0</td>\n",
              "      <td>5.0</td>\n",
              "      <td>3.0</td>\n",
              "      <td>-5.0</td>\n",
              "      <td>-3.0</td>\n",
              "      <td>-1.0</td>\n",
              "      <td>4.0</td>\n",
              "      <td>-48.0</td>\n",
              "      <td>-13.0</td>\n",
              "      <td>-5.0</td>\n",
              "      <td>-14.0</td>\n",
              "      <td>6.0</td>\n",
              "      <td>5.0</td>\n",
              "      <td>6.0</td>\n",
              "      <td>-3.0</td>\n",
              "      <td>79.0</td>\n",
              "      <td>15.0</td>\n",
              "      <td>-6.0</td>\n",
              "      <td>-3.0</td>\n",
              "      <td>-1.0</td>\n",
              "      <td>-3.0</td>\n",
              "      <td>-1.0</td>\n",
              "      <td>-1.0</td>\n",
              "      <td>27.0</td>\n",
              "      <td>-2.0</td>\n",
              "      <td>-16.0</td>\n",
              "      <td>-3.0</td>\n",
              "      <td>0.0</td>\n",
              "      <td>-3.0</td>\n",
              "      <td>-5.0</td>\n",
              "      <td>-36.0</td>\n",
              "      <td>-90.0</td>\n",
              "      <td>3.0</td>\n",
              "      <td>5.0</td>\n",
              "      <td>3</td>\n",
              "    </tr>\n",
              "    <tr>\n",
              "      <th>11677</th>\n",
              "      <td>-2.0</td>\n",
              "      <td>4.0</td>\n",
              "      <td>2.0</td>\n",
              "      <td>-4.0</td>\n",
              "      <td>12.0</td>\n",
              "      <td>3.0</td>\n",
              "      <td>-2.0</td>\n",
              "      <td>9.0</td>\n",
              "      <td>-8.0</td>\n",
              "      <td>-2.0</td>\n",
              "      <td>-2.0</td>\n",
              "      <td>0.0</td>\n",
              "      <td>-6.0</td>\n",
              "      <td>-20.0</td>\n",
              "      <td>-4.0</td>\n",
              "      <td>3.0</td>\n",
              "      <td>-1.0</td>\n",
              "      <td>1.0</td>\n",
              "      <td>0.0</td>\n",
              "      <td>-4.0</td>\n",
              "      <td>-14.0</td>\n",
              "      <td>2.0</td>\n",
              "      <td>3.0</td>\n",
              "      <td>-6.0</td>\n",
              "      <td>3.0</td>\n",
              "      <td>-6.0</td>\n",
              "      <td>-3.0</td>\n",
              "      <td>1.0</td>\n",
              "      <td>20.0</td>\n",
              "      <td>55.0</td>\n",
              "      <td>-6.0</td>\n",
              "      <td>-6.0</td>\n",
              "      <td>-1.0</td>\n",
              "      <td>-3.0</td>\n",
              "      <td>-2.0</td>\n",
              "      <td>-4.0</td>\n",
              "      <td>11.0</td>\n",
              "      <td>2.0</td>\n",
              "      <td>2.0</td>\n",
              "      <td>7.0</td>\n",
              "      <td>-9.0</td>\n",
              "      <td>0.0</td>\n",
              "      <td>-1.0</td>\n",
              "      <td>-2.0</td>\n",
              "      <td>-14.0</td>\n",
              "      <td>-9.0</td>\n",
              "      <td>-1.0</td>\n",
              "      <td>-2.0</td>\n",
              "      <td>9.0</td>\n",
              "      <td>-1.0</td>\n",
              "      <td>-1.0</td>\n",
              "      <td>4.0</td>\n",
              "      <td>15.0</td>\n",
              "      <td>-39.0</td>\n",
              "      <td>-10.0</td>\n",
              "      <td>2.0</td>\n",
              "      <td>1.0</td>\n",
              "      <td>0.0</td>\n",
              "      <td>-1.0</td>\n",
              "      <td>-2.0</td>\n",
              "      <td>-30.0</td>\n",
              "      <td>64.0</td>\n",
              "      <td>11.0</td>\n",
              "      <td>5.0</td>\n",
              "      <td>3</td>\n",
              "    </tr>\n",
              "  </tbody>\n",
              "</table>\n",
              "<p>11678 rows × 65 columns</p>\n",
              "</div>"
            ],
            "text/plain": [
              "         0    1    2    3     4     5   ...    59    60    61     62    63  64\n",
              "0      26.0  4.0  5.0  8.0  -1.0 -13.0  ...   5.0   4.0  -7.0  -59.0  16.0   0\n",
              "1     -47.0 -6.0 -5.0 -7.0  13.0  -1.0  ...   5.0  13.0  21.0  111.0  15.0   0\n",
              "2     -19.0 -8.0 -8.0 -8.0 -21.0  -6.0  ...  -8.0   7.0  21.0  114.0  48.0   0\n",
              "3       2.0  3.0  0.0  2.0   0.0  22.0  ...  11.0  33.0  39.0  119.0  43.0   0\n",
              "4       6.0  0.0  0.0 -2.0 -14.0  10.0  ...   6.0 -13.0 -24.0 -112.0 -69.0   0\n",
              "...     ...  ...  ...  ...   ...   ...  ...   ...   ...   ...    ...   ...  ..\n",
              "11673  -3.0 -1.0 -1.0 -1.0 -28.0  20.0  ...   4.0 -51.0 -49.0    5.0  -9.0   3\n",
              "11674 -13.0 -5.0 -4.0 -3.0  -4.0 -24.0  ...  -5.0  -4.0 -45.0  -12.0 -15.0   3\n",
              "11675  -1.0 -3.0 -1.0  1.0  30.0  38.0  ...  -4.0 -21.0 -29.0   -5.0   0.0   3\n",
              "11676   1.0  4.0  4.0  5.0   9.0 -10.0  ...  -5.0 -36.0 -90.0    3.0   5.0   3\n",
              "11677  -2.0  4.0  2.0 -4.0  12.0   3.0  ...  -2.0 -30.0  64.0   11.0   5.0   3\n",
              "\n",
              "[11678 rows x 65 columns]"
            ]
          },
          "metadata": {}
        }
      ]
    },
    {
      "cell_type": "code",
      "metadata": {
        "colab": {
          "base_uri": "https://localhost:8080/"
        },
        "id": "zEOlDFU3iMDy",
        "outputId": "08ce9ba6-e3b3-49a3-fb2e-358a9b689523"
      },
      "source": [
        "for cols in dfm:\n",
        "  print(f\"Number of unique values in column(/variable) {dfm[cols].name} are - {len(dfm[cols].unique())}\")\n",
        "#printing number of unique values in each column"
      ],
      "execution_count": null,
      "outputs": [
        {
          "output_type": "stream",
          "name": "stdout",
          "text": [
            "Number of unique values in column(/variable) 0 are - 191\n",
            "Number of unique values in column(/variable) 1 are - 154\n",
            "Number of unique values in column(/variable) 2 are - 61\n",
            "Number of unique values in column(/variable) 3 are - 102\n",
            "Number of unique values in column(/variable) 4 are - 161\n",
            "Number of unique values in column(/variable) 5 are - 213\n",
            "Number of unique values in column(/variable) 6 are - 246\n",
            "Number of unique values in column(/variable) 7 are - 177\n",
            "Number of unique values in column(/variable) 8 are - 184\n",
            "Number of unique values in column(/variable) 9 are - 149\n",
            "Number of unique values in column(/variable) 10 are - 62\n",
            "Number of unique values in column(/variable) 11 are - 97\n",
            "Number of unique values in column(/variable) 12 are - 159\n",
            "Number of unique values in column(/variable) 13 are - 211\n",
            "Number of unique values in column(/variable) 14 are - 245\n",
            "Number of unique values in column(/variable) 15 are - 176\n",
            "Number of unique values in column(/variable) 16 are - 187\n",
            "Number of unique values in column(/variable) 17 are - 154\n",
            "Number of unique values in column(/variable) 18 are - 59\n",
            "Number of unique values in column(/variable) 19 are - 95\n",
            "Number of unique values in column(/variable) 20 are - 162\n",
            "Number of unique values in column(/variable) 21 are - 213\n",
            "Number of unique values in column(/variable) 22 are - 249\n",
            "Number of unique values in column(/variable) 23 are - 178\n",
            "Number of unique values in column(/variable) 24 are - 184\n",
            "Number of unique values in column(/variable) 25 are - 157\n",
            "Number of unique values in column(/variable) 26 are - 59\n",
            "Number of unique values in column(/variable) 27 are - 99\n",
            "Number of unique values in column(/variable) 28 are - 166\n",
            "Number of unique values in column(/variable) 29 are - 219\n",
            "Number of unique values in column(/variable) 30 are - 249\n",
            "Number of unique values in column(/variable) 31 are - 182\n",
            "Number of unique values in column(/variable) 32 are - 183\n",
            "Number of unique values in column(/variable) 33 are - 152\n",
            "Number of unique values in column(/variable) 34 are - 61\n",
            "Number of unique values in column(/variable) 35 are - 98\n",
            "Number of unique values in column(/variable) 36 are - 160\n",
            "Number of unique values in column(/variable) 37 are - 215\n",
            "Number of unique values in column(/variable) 38 are - 250\n",
            "Number of unique values in column(/variable) 39 are - 184\n",
            "Number of unique values in column(/variable) 40 are - 186\n",
            "Number of unique values in column(/variable) 41 are - 158\n",
            "Number of unique values in column(/variable) 42 are - 62\n",
            "Number of unique values in column(/variable) 43 are - 95\n",
            "Number of unique values in column(/variable) 44 are - 166\n",
            "Number of unique values in column(/variable) 45 are - 221\n",
            "Number of unique values in column(/variable) 46 are - 248\n",
            "Number of unique values in column(/variable) 47 are - 179\n",
            "Number of unique values in column(/variable) 48 are - 185\n",
            "Number of unique values in column(/variable) 49 are - 148\n",
            "Number of unique values in column(/variable) 50 are - 62\n",
            "Number of unique values in column(/variable) 51 are - 98\n",
            "Number of unique values in column(/variable) 52 are - 169\n",
            "Number of unique values in column(/variable) 53 are - 221\n",
            "Number of unique values in column(/variable) 54 are - 251\n",
            "Number of unique values in column(/variable) 55 are - 176\n",
            "Number of unique values in column(/variable) 56 are - 189\n",
            "Number of unique values in column(/variable) 57 are - 152\n",
            "Number of unique values in column(/variable) 58 are - 62\n",
            "Number of unique values in column(/variable) 59 are - 96\n",
            "Number of unique values in column(/variable) 60 are - 165\n",
            "Number of unique values in column(/variable) 61 are - 215\n",
            "Number of unique values in column(/variable) 62 are - 249\n",
            "Number of unique values in column(/variable) 63 are - 184\n",
            "Number of unique values in column(/variable) 64 are - 4\n"
          ]
        }
      ]
    },
    {
      "cell_type": "code",
      "metadata": {
        "colab": {
          "base_uri": "https://localhost:8080/"
        },
        "id": "z5vN0XeujF9y",
        "outputId": "37b5df50-f21b-4754-a640-9cb1dc6fde2b"
      },
      "source": [
        "for cols in dfm:\n",
        "  n=dfm[cols].isnull().sum()\n",
        "  print(f\"number of missing entries in column {cols} is {n}\")"
      ],
      "execution_count": null,
      "outputs": [
        {
          "output_type": "stream",
          "name": "stdout",
          "text": [
            "number of missing entries in column 0 is 0\n",
            "number of missing entries in column 1 is 0\n",
            "number of missing entries in column 2 is 0\n",
            "number of missing entries in column 3 is 0\n",
            "number of missing entries in column 4 is 0\n",
            "number of missing entries in column 5 is 0\n",
            "number of missing entries in column 6 is 0\n",
            "number of missing entries in column 7 is 0\n",
            "number of missing entries in column 8 is 0\n",
            "number of missing entries in column 9 is 0\n",
            "number of missing entries in column 10 is 0\n",
            "number of missing entries in column 11 is 0\n",
            "number of missing entries in column 12 is 0\n",
            "number of missing entries in column 13 is 0\n",
            "number of missing entries in column 14 is 0\n",
            "number of missing entries in column 15 is 0\n",
            "number of missing entries in column 16 is 0\n",
            "number of missing entries in column 17 is 0\n",
            "number of missing entries in column 18 is 0\n",
            "number of missing entries in column 19 is 0\n",
            "number of missing entries in column 20 is 0\n",
            "number of missing entries in column 21 is 0\n",
            "number of missing entries in column 22 is 0\n",
            "number of missing entries in column 23 is 0\n",
            "number of missing entries in column 24 is 0\n",
            "number of missing entries in column 25 is 0\n",
            "number of missing entries in column 26 is 0\n",
            "number of missing entries in column 27 is 0\n",
            "number of missing entries in column 28 is 0\n",
            "number of missing entries in column 29 is 0\n",
            "number of missing entries in column 30 is 0\n",
            "number of missing entries in column 31 is 0\n",
            "number of missing entries in column 32 is 0\n",
            "number of missing entries in column 33 is 0\n",
            "number of missing entries in column 34 is 0\n",
            "number of missing entries in column 35 is 0\n",
            "number of missing entries in column 36 is 0\n",
            "number of missing entries in column 37 is 0\n",
            "number of missing entries in column 38 is 0\n",
            "number of missing entries in column 39 is 0\n",
            "number of missing entries in column 40 is 0\n",
            "number of missing entries in column 41 is 0\n",
            "number of missing entries in column 42 is 0\n",
            "number of missing entries in column 43 is 0\n",
            "number of missing entries in column 44 is 0\n",
            "number of missing entries in column 45 is 0\n",
            "number of missing entries in column 46 is 0\n",
            "number of missing entries in column 47 is 0\n",
            "number of missing entries in column 48 is 0\n",
            "number of missing entries in column 49 is 0\n",
            "number of missing entries in column 50 is 0\n",
            "number of missing entries in column 51 is 0\n",
            "number of missing entries in column 52 is 0\n",
            "number of missing entries in column 53 is 0\n",
            "number of missing entries in column 54 is 0\n",
            "number of missing entries in column 55 is 0\n",
            "number of missing entries in column 56 is 0\n",
            "number of missing entries in column 57 is 0\n",
            "number of missing entries in column 58 is 0\n",
            "number of missing entries in column 59 is 0\n",
            "number of missing entries in column 60 is 0\n",
            "number of missing entries in column 61 is 0\n",
            "number of missing entries in column 62 is 0\n",
            "number of missing entries in column 63 is 0\n",
            "number of missing entries in column 64 is 0\n"
          ]
        }
      ]
    },
    {
      "cell_type": "code",
      "metadata": {
        "colab": {
          "base_uri": "https://localhost:8080/",
          "height": 412
        },
        "id": "xfum2DlkjcPL",
        "outputId": "3b1d75d9-f0ba-41ec-9ab2-b8403777fd3b"
      },
      "source": [
        "plt.figure(figsize=(8,6))\n",
        "sns.heatmap(data=dfm.corr(), cmap='YlGnBu',annot=False)\n",
        "plt.title('Correlation Matrix for muscle activity', weight='bold', fontsize=15)\n",
        "plt.yticks(rotation=0)\n",
        "plt.plot()"
      ],
      "execution_count": null,
      "outputs": [
        {
          "output_type": "execute_result",
          "data": {
            "text/plain": [
              "[]"
            ]
          },
          "metadata": {},
          "execution_count": 96
        },
        {
          "output_type": "display_data",
          "data": {
            "image/png": "[encoded data removed]",
            "text/plain": [
              "<Figure size 576x432 with 2 Axes>"
            ]
          },
          "metadata": {
            "needs_background": "light"
          }
        }
      ]
    },
    {
      "cell_type": "markdown",
      "metadata": {
        "id": "dsY500J2k-fk"
      },
      "source": [
        "We see that there is no significant correlation among any of the columns(as no continuous dark spots are observed, except centreline)."
      ]
    },
    {
      "cell_type": "markdown",
      "metadata": {
        "id": "TewgvCgGlRrv"
      },
      "source": [
        "Hence, we won't be discarding any column due to redundant representation. "
      ]
    },
    {
      "cell_type": "code",
      "metadata": {
        "colab": {
          "base_uri": "https://localhost:8080/"
        },
        "id": "70dM5xyKUuvD",
        "outputId": "ef1d176a-c4e1-4fc9-85ed-4ed506cb24bc"
      },
      "source": [
        "for col in x.columns.values:\n",
        "  a=x[col].mean()\n",
        "  b=x[col].std()\n",
        "  x[col] = (x[col] - a)/b\n",
        "print(x)  #normalising data"
      ],
      "execution_count": null,
      "outputs": [
        {
          "output_type": "stream",
          "name": "stdout",
          "text": [
            "             0         1         2   ...        61        62        63\n",
            "0      1.428383  0.401707  1.150129  ... -0.259292 -2.278357  1.069478\n",
            "1     -2.503385 -0.448136 -0.853901  ...  0.836552  4.451721  1.005087\n",
            "2     -0.995309 -0.618105 -1.455110  ...  0.836552  4.570487  3.129994\n",
            "3      0.135747  0.316723  0.148114  ...  1.541023  4.768431  2.808038\n",
            "4      0.351187  0.061770  0.148114  ... -0.924626 -4.376558 -4.403767\n",
            "...         ...       ...       ...  ...       ...       ...       ...\n",
            "11673 -0.133552 -0.023215 -0.052289  ... -1.903058  0.255320 -0.540300\n",
            "11674 -0.672150 -0.363152 -0.653498  ... -1.746509 -0.417688 -0.926647\n",
            "11675 -0.025832 -0.193183 -0.052289  ... -1.120312 -0.140567  0.039220\n",
            "11676  0.081887  0.401707  0.949726  ... -3.507687  0.176142  0.361176\n",
            "11677 -0.079692  0.401707  0.548920  ...  2.519455  0.492852  0.361176\n",
            "\n",
            "[11678 rows x 64 columns]\n"
          ]
        }
      ]
    },
    {
      "cell_type": "code",
      "metadata": {
        "id": "K-QNQ3foki7z"
      },
      "source": [
        "y=dfm[64]\n",
        "x=dfm.drop([64], axis=1)"
      ],
      "execution_count": null,
      "outputs": []
    },
    {
      "cell_type": "code",
      "metadata": {
        "id": "fTEkKBUNaRT5"
      },
      "source": [
        "pcam=PCA(n_components=15)\n"
      ],
      "execution_count": null,
      "outputs": []
    },
    {
      "cell_type": "code",
      "metadata": {
        "id": "u0yc8etpdsGS"
      },
      "source": [
        "pcam.fit(x)\n",
        "xtrans=pcam.transform(x)"
      ],
      "execution_count": null,
      "outputs": []
    },
    {
      "cell_type": "code",
      "metadata": {
        "colab": {
          "base_uri": "https://localhost:8080/",
          "height": 437
        },
        "id": "0_r_6dQCeKJT",
        "outputId": "95b494ee-2b11-4cbc-9055-bddb0d88aabc"
      },
      "source": [
        "dft=pd.DataFrame(xtrans)\n",
        "dft"
      ],
      "execution_count": null,
      "outputs": [
        {
          "output_type": "execute_result",
          "data": {
            "text/html": [
              "<div>\n",
              "<style scoped>\n",
              "    .dataframe tbody tr th:only-of-type {\n",
              "        vertical-align: middle;\n",
              "    }\n",
              "\n",
              "    .dataframe tbody tr th {\n",
              "        vertical-align: top;\n",
              "    }\n",
              "\n",
              "    .dataframe thead th {\n",
              "        text-align: right;\n",
              "    }\n",
              "</style>\n",
              "<table border=\"1\" class=\"dataframe\">\n",
              "  <thead>\n",
              "    <tr style=\"text-align: right;\">\n",
              "      <th></th>\n",
              "      <th>0</th>\n",
              "      <th>1</th>\n",
              "      <th>2</th>\n",
              "      <th>3</th>\n",
              "      <th>4</th>\n",
              "      <th>5</th>\n",
              "      <th>6</th>\n",
              "      <th>7</th>\n",
              "      <th>8</th>\n",
              "      <th>9</th>\n",
              "      <th>10</th>\n",
              "      <th>11</th>\n",
              "      <th>12</th>\n",
              "      <th>13</th>\n",
              "      <th>14</th>\n",
              "    </tr>\n",
              "  </thead>\n",
              "  <tbody>\n",
              "    <tr>\n",
              "      <th>0</th>\n",
              "      <td>-47.499476</td>\n",
              "      <td>-56.968842</td>\n",
              "      <td>-27.876436</td>\n",
              "      <td>-11.391188</td>\n",
              "      <td>116.617879</td>\n",
              "      <td>-48.055179</td>\n",
              "      <td>88.633470</td>\n",
              "      <td>6.710942</td>\n",
              "      <td>-70.779528</td>\n",
              "      <td>-32.171444</td>\n",
              "      <td>-5.900698</td>\n",
              "      <td>-91.693999</td>\n",
              "      <td>55.295041</td>\n",
              "      <td>37.943910</td>\n",
              "      <td>19.182300</td>\n",
              "    </tr>\n",
              "    <tr>\n",
              "      <th>1</th>\n",
              "      <td>-127.908797</td>\n",
              "      <td>-130.074167</td>\n",
              "      <td>-12.038839</td>\n",
              "      <td>7.043793</td>\n",
              "      <td>51.942331</td>\n",
              "      <td>-116.562210</td>\n",
              "      <td>15.894981</td>\n",
              "      <td>-68.802522</td>\n",
              "      <td>49.859065</td>\n",
              "      <td>5.545398</td>\n",
              "      <td>-14.127593</td>\n",
              "      <td>40.136125</td>\n",
              "      <td>-8.679836</td>\n",
              "      <td>-26.303883</td>\n",
              "      <td>24.245803</td>\n",
              "    </tr>\n",
              "    <tr>\n",
              "      <th>2</th>\n",
              "      <td>-65.916350</td>\n",
              "      <td>0.750632</td>\n",
              "      <td>161.222208</td>\n",
              "      <td>17.389378</td>\n",
              "      <td>-90.923636</td>\n",
              "      <td>-92.553692</td>\n",
              "      <td>-36.111952</td>\n",
              "      <td>70.237514</td>\n",
              "      <td>157.563295</td>\n",
              "      <td>-16.539052</td>\n",
              "      <td>9.991930</td>\n",
              "      <td>8.765676</td>\n",
              "      <td>9.602421</td>\n",
              "      <td>-10.163524</td>\n",
              "      <td>47.142672</td>\n",
              "    </tr>\n",
              "    <tr>\n",
              "      <th>3</th>\n",
              "      <td>-82.764839</td>\n",
              "      <td>-48.187656</td>\n",
              "      <td>33.913078</td>\n",
              "      <td>-59.646724</td>\n",
              "      <td>-57.319547</td>\n",
              "      <td>-99.734960</td>\n",
              "      <td>-103.003755</td>\n",
              "      <td>-75.750067</td>\n",
              "      <td>50.442192</td>\n",
              "      <td>37.780440</td>\n",
              "      <td>42.973331</td>\n",
              "      <td>17.847231</td>\n",
              "      <td>-54.363390</td>\n",
              "      <td>-25.717012</td>\n",
              "      <td>20.199342</td>\n",
              "    </tr>\n",
              "    <tr>\n",
              "      <th>4</th>\n",
              "      <td>108.172142</td>\n",
              "      <td>114.759604</td>\n",
              "      <td>-57.268904</td>\n",
              "      <td>76.272155</td>\n",
              "      <td>-7.684552</td>\n",
              "      <td>145.019272</td>\n",
              "      <td>-6.919046</td>\n",
              "      <td>58.009484</td>\n",
              "      <td>-49.747483</td>\n",
              "      <td>26.967616</td>\n",
              "      <td>10.682984</td>\n",
              "      <td>44.916843</td>\n",
              "      <td>36.316581</td>\n",
              "      <td>60.346576</td>\n",
              "      <td>16.400402</td>\n",
              "    </tr>\n",
              "    <tr>\n",
              "      <th>...</th>\n",
              "      <td>...</td>\n",
              "      <td>...</td>\n",
              "      <td>...</td>\n",
              "      <td>...</td>\n",
              "      <td>...</td>\n",
              "      <td>...</td>\n",
              "      <td>...</td>\n",
              "      <td>...</td>\n",
              "      <td>...</td>\n",
              "      <td>...</td>\n",
              "      <td>...</td>\n",
              "      <td>...</td>\n",
              "      <td>...</td>\n",
              "      <td>...</td>\n",
              "      <td>...</td>\n",
              "    </tr>\n",
              "    <tr>\n",
              "      <th>11673</th>\n",
              "      <td>-8.308415</td>\n",
              "      <td>39.419148</td>\n",
              "      <td>-18.208956</td>\n",
              "      <td>28.551529</td>\n",
              "      <td>0.413225</td>\n",
              "      <td>-11.732320</td>\n",
              "      <td>35.665561</td>\n",
              "      <td>-12.598082</td>\n",
              "      <td>3.428676</td>\n",
              "      <td>27.149308</td>\n",
              "      <td>-20.910256</td>\n",
              "      <td>-19.106082</td>\n",
              "      <td>-28.980789</td>\n",
              "      <td>-15.076349</td>\n",
              "      <td>-6.264355</td>\n",
              "    </tr>\n",
              "    <tr>\n",
              "      <th>11674</th>\n",
              "      <td>11.824639</td>\n",
              "      <td>46.884116</td>\n",
              "      <td>55.915886</td>\n",
              "      <td>-10.966927</td>\n",
              "      <td>-42.286538</td>\n",
              "      <td>13.374851</td>\n",
              "      <td>60.329570</td>\n",
              "      <td>-0.733169</td>\n",
              "      <td>-21.426815</td>\n",
              "      <td>19.850265</td>\n",
              "      <td>0.242263</td>\n",
              "      <td>1.498718</td>\n",
              "      <td>-14.116739</td>\n",
              "      <td>-19.123703</td>\n",
              "      <td>-20.122697</td>\n",
              "    </tr>\n",
              "    <tr>\n",
              "      <th>11675</th>\n",
              "      <td>29.677732</td>\n",
              "      <td>53.037856</td>\n",
              "      <td>-36.854844</td>\n",
              "      <td>-13.061737</td>\n",
              "      <td>-9.246436</td>\n",
              "      <td>-20.262472</td>\n",
              "      <td>-3.900588</td>\n",
              "      <td>-31.846092</td>\n",
              "      <td>13.868413</td>\n",
              "      <td>24.003704</td>\n",
              "      <td>-3.322573</td>\n",
              "      <td>-28.020015</td>\n",
              "      <td>2.854759</td>\n",
              "      <td>14.891905</td>\n",
              "      <td>-22.956410</td>\n",
              "    </tr>\n",
              "    <tr>\n",
              "      <th>11676</th>\n",
              "      <td>-27.826088</td>\n",
              "      <td>46.888678</td>\n",
              "      <td>-14.289290</td>\n",
              "      <td>-17.815275</td>\n",
              "      <td>-48.670322</td>\n",
              "      <td>-30.457483</td>\n",
              "      <td>67.985314</td>\n",
              "      <td>20.002311</td>\n",
              "      <td>-0.750895</td>\n",
              "      <td>63.669056</td>\n",
              "      <td>-35.848378</td>\n",
              "      <td>-0.045867</td>\n",
              "      <td>-13.196943</td>\n",
              "      <td>-12.284801</td>\n",
              "      <td>-9.479824</td>\n",
              "    </tr>\n",
              "    <tr>\n",
              "      <th>11677</th>\n",
              "      <td>-19.107895</td>\n",
              "      <td>-5.105395</td>\n",
              "      <td>26.149877</td>\n",
              "      <td>22.104059</td>\n",
              "      <td>43.733174</td>\n",
              "      <td>11.234520</td>\n",
              "      <td>-20.710395</td>\n",
              "      <td>-27.578332</td>\n",
              "      <td>5.471458</td>\n",
              "      <td>-31.413091</td>\n",
              "      <td>26.006770</td>\n",
              "      <td>4.963123</td>\n",
              "      <td>-14.723099</td>\n",
              "      <td>-3.592133</td>\n",
              "      <td>13.683435</td>\n",
              "    </tr>\n",
              "  </tbody>\n",
              "</table>\n",
              "<p>11678 rows × 15 columns</p>\n",
              "</div>"
            ],
            "text/plain": [
              "               0           1           2   ...         12         13         14\n",
              "0      -47.499476  -56.968842  -27.876436  ...  55.295041  37.943910  19.182300\n",
              "1     -127.908797 -130.074167  -12.038839  ...  -8.679836 -26.303883  24.245803\n",
              "2      -65.916350    0.750632  161.222208  ...   9.602421 -10.163524  47.142672\n",
              "3      -82.764839  -48.187656   33.913078  ... -54.363390 -25.717012  20.199342\n",
              "4      108.172142  114.759604  -57.268904  ...  36.316581  60.346576  16.400402\n",
              "...           ...         ...         ...  ...        ...        ...        ...\n",
              "11673   -8.308415   39.419148  -18.208956  ... -28.980789 -15.076349  -6.264355\n",
              "11674   11.824639   46.884116   55.915886  ... -14.116739 -19.123703 -20.122697\n",
              "11675   29.677732   53.037856  -36.854844  ...   2.854759  14.891905 -22.956410\n",
              "11676  -27.826088   46.888678  -14.289290  ... -13.196943 -12.284801  -9.479824\n",
              "11677  -19.107895   -5.105395   26.149877  ... -14.723099  -3.592133  13.683435\n",
              "\n",
              "[11678 rows x 15 columns]"
            ]
          },
          "metadata": {},
          "execution_count": 101
        }
      ]
    },
    {
      "cell_type": "markdown",
      "metadata": {
        "id": "uT8DHLEIfZv0"
      },
      "source": [
        "I would be implementing the Multilayer Perceptron model, the Random Forest Classifier and the SVM Classifier in this analysis."
      ]
    },
    {
      "cell_type": "code",
      "metadata": {
        "id": "K3686pt0eQRP"
      },
      "source": [
        "RFm_par = {'n_estimators' : [5,10,15, 20,30]}\n",
        "SVMm_par = {'C': [0.1, 1, 10], 'gamma': [0.1, 0.01, 0.001,], 'kernel': ['rbf']} \n",
        "MLPm_nn_par = {'hidden_layer_sizes' : [(2,), (4,), (5,),(10,)], 'alpha' : [0.001, 0.1, 1]}"
      ],
      "execution_count": null,
      "outputs": []
    },
    {
      "cell_type": "code",
      "metadata": {
        "id": "YVrMse3KgjL7"
      },
      "source": [
        "x_train, x_test, y_train, y_test = train_test_split(dft, y, test_size=0.15)"
      ],
      "execution_count": null,
      "outputs": []
    },
    {
      "cell_type": "code",
      "metadata": {
        "colab": {
          "base_uri": "https://localhost:8080/"
        },
        "id": "WH889-5dgRXy",
        "outputId": "cbffaa1b-4b8b-4f01-df7f-29a68026c0e2"
      },
      "source": [
        "RFm = GridSearchCV(RandomForestClassifier(), RFm_par, scoring='neg_mean_squared_error',cv=5) \n",
        "#cv here is the cross validation\n",
        "RFm.fit(x_train, y_train)\n",
        "RFm.best_score_"
      ],
      "execution_count": null,
      "outputs": [
        {
          "output_type": "execute_result",
          "data": {
            "text/plain": [
              "-0.8258099898280407"
            ]
          },
          "metadata": {},
          "execution_count": 104
        }
      ]
    },
    {
      "cell_type": "code",
      "metadata": {
        "colab": {
          "base_uri": "https://localhost:8080/"
        },
        "id": "306oyYRWjhhR",
        "outputId": "b280ab53-823e-4ec2-9f9f-d5d40a88eb23"
      },
      "source": [
        "RFm.best_params_"
      ],
      "execution_count": null,
      "outputs": [
        {
          "output_type": "execute_result",
          "data": {
            "text/plain": [
              "{'n_estimators': 30}"
            ]
          },
          "metadata": {},
          "execution_count": 105
        }
      ]
    },
    {
      "cell_type": "code",
      "metadata": {
        "id": "R4mZ6Y_qjQ_e"
      },
      "source": [
        "y_pred=RFm.predict(x_test)"
      ],
      "execution_count": null,
      "outputs": []
    },
    {
      "cell_type": "code",
      "metadata": {
        "colab": {
          "base_uri": "https://localhost:8080/"
        },
        "id": "0GyoCK0EjH-s",
        "outputId": "09ad7803-9271-47dd-a5ec-8da81007d812"
      },
      "source": [
        "f1_rf_m= (f1_score(y_test, y_pred,average='weighted'))\n",
        "f1_rf_m"
      ],
      "execution_count": null,
      "outputs": [
        {
          "output_type": "execute_result",
          "data": {
            "text/plain": [
              "0.6075680768663995"
            ]
          },
          "metadata": {},
          "execution_count": 107
        }
      ]
    },
    {
      "cell_type": "code",
      "metadata": {
        "id": "BkyyY1FekEWa",
        "colab": {
          "base_uri": "https://localhost:8080/"
        },
        "outputId": "77baff5c-9a06-4c5a-afc2-9fbe2f416fe2"
      },
      "source": [
        "accuracy_rf=accuracy_score(y_test, y_pred)\n",
        "accuracy_rf"
      ],
      "execution_count": null,
      "outputs": [
        {
          "output_type": "execute_result",
          "data": {
            "text/plain": [
              "0.6095890410958904"
            ]
          },
          "metadata": {},
          "execution_count": 108
        }
      ]
    },
    {
      "cell_type": "code",
      "metadata": {
        "id": "QTmVJGskgRWr"
      },
      "source": [
        "scores_m=pd.DataFrame(columns=['Model', 'F1 Score', 'Accuracy'])"
      ],
      "execution_count": null,
      "outputs": []
    },
    {
      "cell_type": "code",
      "metadata": {
        "id": "MYdMYJbigRUg"
      },
      "source": [
        "scores_m=scores_m.append({'Model':'Random Forest', 'F1 Score':f1_rf_m, 'Accuracy':accuracy_rf}, ignore_index=True)"
      ],
      "execution_count": null,
      "outputs": []
    },
    {
      "cell_type": "markdown",
      "metadata": {
        "id": "mE01ElVMleL9"
      },
      "source": [
        "Multilayer Perceptron NN "
      ]
    },
    {
      "cell_type": "code",
      "metadata": {
        "id": "qXJp8ByAnZ6E"
      },
      "source": [
        "mlp=GridSearchCV(MLPClassifier(max_iter=100), MLPm_nn_par, scoring='accuracy', cv=5)\n",
        "mlp.fit(x_train, y_train)\n"
      ],
      "execution_count": null,
      "outputs": []
    },
    {
      "cell_type": "code",
      "metadata": {
        "colab": {
          "base_uri": "https://localhost:8080/"
        },
        "id": "dwZKWfn6r6zN",
        "outputId": "5a62a8ba-3ef6-46b0-8228-104645211d4b"
      },
      "source": [
        "mlp.best_score_"
      ],
      "execution_count": null,
      "outputs": [
        {
          "output_type": "execute_result",
          "data": {
            "text/plain": [
              "0.6050784712128475"
            ]
          },
          "metadata": {},
          "execution_count": 112
        }
      ]
    },
    {
      "cell_type": "code",
      "metadata": {
        "id": "D4zLMqhTl4MA",
        "colab": {
          "base_uri": "https://localhost:8080/"
        },
        "outputId": "ae4c2c21-e433-4ca4-b247-c6f602975f1a"
      },
      "source": [
        "mlp.best_params_"
      ],
      "execution_count": null,
      "outputs": [
        {
          "output_type": "execute_result",
          "data": {
            "text/plain": [
              "{'alpha': 1, 'hidden_layer_sizes': (10,)}"
            ]
          },
          "metadata": {},
          "execution_count": 113
        }
      ]
    },
    {
      "cell_type": "code",
      "metadata": {
        "id": "KHyrvuPLrvOM"
      },
      "source": [
        "y_pred_mlpc_m=mlp.predict(x_test)"
      ],
      "execution_count": null,
      "outputs": []
    },
    {
      "cell_type": "code",
      "metadata": {
        "id": "Krl85cvkmDe7",
        "colab": {
          "base_uri": "https://localhost:8080/",
          "height": 110
        },
        "outputId": "63aa197d-86dd-485f-e62f-983e1e679993"
      },
      "source": [
        "f1score = (f1_score(y_test, y_pred_mlpc_m,average='weighted'))\n",
        "accuracy= (mlp.score(x_test, y_test))\n",
        "scores_m=scores_m.append({'Model':'MLPC', 'F1 Score':f1score, 'Accuracy':accuracy}, ignore_index=True)\n",
        "scores_m"
      ],
      "execution_count": null,
      "outputs": [
        {
          "output_type": "execute_result",
          "data": {
            "text/html": [
              "<div>\n",
              "<style scoped>\n",
              "    .dataframe tbody tr th:only-of-type {\n",
              "        vertical-align: middle;\n",
              "    }\n",
              "\n",
              "    .dataframe tbody tr th {\n",
              "        vertical-align: top;\n",
              "    }\n",
              "\n",
              "    .dataframe thead th {\n",
              "        text-align: right;\n",
              "    }\n",
              "</style>\n",
              "<table border=\"1\" class=\"dataframe\">\n",
              "  <thead>\n",
              "    <tr style=\"text-align: right;\">\n",
              "      <th></th>\n",
              "      <th>Model</th>\n",
              "      <th>F1 Score</th>\n",
              "      <th>Accuracy</th>\n",
              "    </tr>\n",
              "  </thead>\n",
              "  <tbody>\n",
              "    <tr>\n",
              "      <th>0</th>\n",
              "      <td>Random Forest</td>\n",
              "      <td>0.607568</td>\n",
              "      <td>0.609589</td>\n",
              "    </tr>\n",
              "    <tr>\n",
              "      <th>1</th>\n",
              "      <td>MLPC</td>\n",
              "      <td>0.622804</td>\n",
              "      <td>0.632420</td>\n",
              "    </tr>\n",
              "  </tbody>\n",
              "</table>\n",
              "</div>"
            ],
            "text/plain": [
              "           Model  F1 Score  Accuracy\n",
              "0  Random Forest  0.607568  0.609589\n",
              "1           MLPC  0.622804  0.632420"
            ]
          },
          "metadata": {},
          "execution_count": 115
        }
      ]
    },
    {
      "cell_type": "markdown",
      "metadata": {
        "id": "9qMRS-2BsMag"
      },
      "source": [
        "SVM Classification"
      ]
    },
    {
      "cell_type": "code",
      "metadata": {
        "id": "3FX_D19XnyZ8"
      },
      "source": [
        "param_grid = { 'criterion' : ['gini', 'entropy'],\n",
        "              \"max_features\": np.arange(1, 9),\n",
        "              \"min_samples_leaf\": np.arange(1, 9),\n",
        "    'max_depth' : [2,4,6,8,10,12]}\n"
      ],
      "execution_count": null,
      "outputs": []
    },
    {
      "cell_type": "code",
      "metadata": {
        "id": "9kHHAzTW2cdp"
      },
      "source": [
        "from sklearn.svm import SVC"
      ],
      "execution_count": null,
      "outputs": []
    },
    {
      "cell_type": "code",
      "metadata": {
        "colab": {
          "base_uri": "https://localhost:8080/"
        },
        "id": "T6HP2vuGswN6",
        "outputId": "54832550-de62-4e13-9116-0358fb7fe803"
      },
      "source": [
        "grid = GridSearchCV(SVC(), SVMm_par,scoring='accuracy', cv=5, n_jobs=-1) \n",
        "grid.fit(x_train,y_train) "
      ],
      "execution_count": null,
      "outputs": [
        {
          "output_type": "execute_result",
          "data": {
            "text/plain": [
              "GridSearchCV(cv=5, error_score=nan,\n",
              "             estimator=SVC(C=1.0, break_ties=False, cache_size=200,\n",
              "                           class_weight=None, coef0=0.0,\n",
              "                           decision_function_shape='ovr', degree=3,\n",
              "                           gamma='scale', kernel='rbf', max_iter=-1,\n",
              "                           probability=False, random_state=None, shrinking=True,\n",
              "                           tol=0.001, verbose=False),\n",
              "             iid='deprecated', n_jobs=-1,\n",
              "             param_grid={'C': [0.1, 1, 10], 'gamma': [0.1, 0.01, 0.001],\n",
              "                         'kernel': ['rbf']},\n",
              "             pre_dispatch='2*n_jobs', refit=True, return_train_score=False,\n",
              "             scoring='accuracy', verbose=0)"
            ]
          },
          "metadata": {},
          "execution_count": 118
        }
      ]
    },
    {
      "cell_type": "code",
      "metadata": {
        "colab": {
          "base_uri": "https://localhost:8080/"
        },
        "id": "Z3SK_IaDsw9w",
        "outputId": "d28f8919-cb36-40ca-ae77-d25d48ae7b3d"
      },
      "source": [
        "grid.best_params_\n"
      ],
      "execution_count": null,
      "outputs": [
        {
          "output_type": "execute_result",
          "data": {
            "text/plain": [
              "{'C': 10, 'gamma': 0.001, 'kernel': 'rbf'}"
            ]
          },
          "metadata": {},
          "execution_count": 119
        }
      ]
    },
    {
      "cell_type": "code",
      "metadata": {
        "colab": {
          "base_uri": "https://localhost:8080/"
        },
        "id": "k4w3AD7ytOYc",
        "outputId": "a8ba7061-d731-4816-d4e5-78794c8cbc81"
      },
      "source": [
        "grid.best_estimator_"
      ],
      "execution_count": null,
      "outputs": [
        {
          "output_type": "execute_result",
          "data": {
            "text/plain": [
              "SVC(C=10, break_ties=False, cache_size=200, class_weight=None, coef0=0.0,\n",
              "    decision_function_shape='ovr', degree=3, gamma=0.001, kernel='rbf',\n",
              "    max_iter=-1, probability=False, random_state=None, shrinking=True,\n",
              "    tol=0.001, verbose=False)"
            ]
          },
          "metadata": {},
          "execution_count": 120
        }
      ]
    },
    {
      "cell_type": "code",
      "metadata": {
        "colab": {
          "base_uri": "https://localhost:8080/"
        },
        "id": "WfcCA4p_th2Z",
        "outputId": "81c11cc2-ea3b-4f31-d28a-01f9099109cf"
      },
      "source": [
        "svm_pred=grid.predict(x_test)\n",
        "accuracy_svm=grid.score(x_test, y_test)\n",
        "accuracy_svm"
      ],
      "execution_count": null,
      "outputs": [
        {
          "output_type": "execute_result",
          "data": {
            "text/plain": [
              "0.5296803652968036"
            ]
          },
          "metadata": {},
          "execution_count": 121
        }
      ]
    },
    {
      "cell_type": "code",
      "metadata": {
        "colab": {
          "base_uri": "https://localhost:8080/"
        },
        "id": "mrLHGy9az3Wb",
        "outputId": "a39631d6-1a7b-4560-dc7b-f0008b17ec23"
      },
      "source": [
        "f1_score_svm=f1_score(y_test, svm_pred, average='weighted')\n",
        "f1_score_svm"
      ],
      "execution_count": null,
      "outputs": [
        {
          "output_type": "execute_result",
          "data": {
            "text/plain": [
              "0.5001407882064995"
            ]
          },
          "metadata": {},
          "execution_count": 122
        }
      ]
    },
    {
      "cell_type": "code",
      "metadata": {
        "id": "0m9Ia_JQ0Oz8"
      },
      "source": [
        "scores_m=scores_m.append({'Model':'SVC', 'F1 Score':f1_score_svm, 'Accuracy':accuracy_svm}, ignore_index=True)"
      ],
      "execution_count": null,
      "outputs": []
    },
    {
      "cell_type": "code",
      "metadata": {
        "colab": {
          "base_uri": "https://localhost:8080/",
          "height": 142
        },
        "id": "yDC53EfV1zK9",
        "outputId": "cbcc5586-c69f-48c5-d118-478981f1b4ae"
      },
      "source": [
        "scores_m"
      ],
      "execution_count": null,
      "outputs": [
        {
          "output_type": "execute_result",
          "data": {
            "text/html": [
              "<div>\n",
              "<style scoped>\n",
              "    .dataframe tbody tr th:only-of-type {\n",
              "        vertical-align: middle;\n",
              "    }\n",
              "\n",
              "    .dataframe tbody tr th {\n",
              "        vertical-align: top;\n",
              "    }\n",
              "\n",
              "    .dataframe thead th {\n",
              "        text-align: right;\n",
              "    }\n",
              "</style>\n",
              "<table border=\"1\" class=\"dataframe\">\n",
              "  <thead>\n",
              "    <tr style=\"text-align: right;\">\n",
              "      <th></th>\n",
              "      <th>Model</th>\n",
              "      <th>F1 Score</th>\n",
              "      <th>Accuracy</th>\n",
              "    </tr>\n",
              "  </thead>\n",
              "  <tbody>\n",
              "    <tr>\n",
              "      <th>0</th>\n",
              "      <td>Random Forest</td>\n",
              "      <td>0.607568</td>\n",
              "      <td>0.609589</td>\n",
              "    </tr>\n",
              "    <tr>\n",
              "      <th>1</th>\n",
              "      <td>MLPC</td>\n",
              "      <td>0.622804</td>\n",
              "      <td>0.632420</td>\n",
              "    </tr>\n",
              "    <tr>\n",
              "      <th>2</th>\n",
              "      <td>SVC</td>\n",
              "      <td>0.500141</td>\n",
              "      <td>0.529680</td>\n",
              "    </tr>\n",
              "  </tbody>\n",
              "</table>\n",
              "</div>"
            ],
            "text/plain": [
              "           Model  F1 Score  Accuracy\n",
              "0  Random Forest  0.607568  0.609589\n",
              "1           MLPC  0.622804  0.632420\n",
              "2            SVC  0.500141  0.529680"
            ]
          },
          "metadata": {},
          "execution_count": 124
        }
      ]
    },
    {
      "cell_type": "markdown",
      "metadata": {
        "id": "or771YW564mv"
      },
      "source": [
        "We see that the Accuracy is highest with MLPC model, and the least with SVC model. Given that PCA has been used to significantly reduce the component number from 64 to 15, and still we get an accuracy of 62%, is a very remarkable result of the model. "
      ]
    },
    {
      "cell_type": "markdown",
      "metadata": {
        "id": "ok4qlTUL7rc5"
      },
      "source": [
        "#Question 5"
      ]
    },
    {
      "cell_type": "code",
      "metadata": {
        "id": "iZ4Pv6qMR-SO"
      },
      "source": [],
      "execution_count": null,
      "outputs": []
    },
    {
      "cell_type": "code",
      "metadata": {
        "colab": {
          "base_uri": "https://localhost:8080/"
        },
        "id": "s7jmRye1-2Be",
        "outputId": "ef2f533d-cf65-4f86-b3d5-fa16fe7dcb6e"
      },
      "source": [
        "n=np.linalg.norm(x,ord=2,axis=1)\n",
        "stddev=n.std()\n",
        "print(stddev)"
      ],
      "execution_count": null,
      "outputs": [
        {
          "output_type": "stream",
          "name": "stdout",
          "text": [
            "50.94542928609859\n"
          ]
        }
      ]
    },
    {
      "cell_type": "code",
      "metadata": {
        "id": "qXW6Dw6d106t"
      },
      "source": [
        "list_error=[]\n",
        "for i in range(64):                 #looping over different pca dimensions\n",
        "  pcatest=PCA(n_components=i+1)\n",
        "  xtransform=pcatest.fit_transform(x)\n",
        "  x_inv_transform=pcatest.inverse_transform(xtransform)\n",
        "  mse = np.sqrt(mean_squared_error(x_inv_transform,x))\n",
        "  nmse=mse/stddev*100 #as we need a percentage \n",
        "  list_error.append(nmse)"
      ],
      "execution_count": null,
      "outputs": []
    },
    {
      "cell_type": "code",
      "metadata": {
        "colab": {
          "base_uri": "https://localhost:8080/"
        },
        "id": "7fMh0p1jARsB",
        "outputId": "3c942541-6560-430b-80fe-a25fd9b900c0"
      },
      "source": [
        "list_error"
      ],
      "execution_count": null,
      "outputs": [
        {
          "output_type": "execute_result",
          "data": {
            "text/plain": [
              "[32.83538981620075,\n",
              " 31.57086720164621,\n",
              " 30.43270777533667,\n",
              " 29.366944704562346,\n",
              " 28.298817193260817,\n",
              " 27.313847849813005,\n",
              " 26.317890682148086,\n",
              " 25.31562192085578,\n",
              " 24.39730102809139,\n",
              " 23.66153648336559,\n",
              " 22.926301288183176,\n",
              " 22.183386211516947,\n",
              " 21.446413822323574,\n",
              " 20.722854497413472,\n",
              " 20.028773810334112,\n",
              " 19.32384721127198,\n",
              " 18.769470817385596,\n",
              " 18.22018058578894,\n",
              " 17.672979543013156,\n",
              " 17.164155862827812,\n",
              " 16.6591922764196,\n",
              " 16.171733139743175,\n",
              " 15.674099305885644,\n",
              " 15.191744235691711,\n",
              " 14.707573872205668,\n",
              " 14.254715615513286,\n",
              " 13.809771968751267,\n",
              " 13.33726306286277,\n",
              " 12.87216443936815,\n",
              " 12.401355924166287,\n",
              " 11.981912573349174,\n",
              " 11.56190542286732,\n",
              " 11.158149258954273,\n",
              " 10.740884304166745,\n",
              " 10.311971283540052,\n",
              " 9.884571649403666,\n",
              " 9.47072405456652,\n",
              " 9.049151298289688,\n",
              " 8.616088588286594,\n",
              " 8.18526601243297,\n",
              " 7.748047784920971,\n",
              " 7.398058693732211,\n",
              " 7.046375914975892,\n",
              " 6.6925890289641,\n",
              " 6.3378562949590975,\n",
              " 5.969213442910221,\n",
              " 5.599387487532481,\n",
              " 5.24052632521464,\n",
              " 4.871328919363643,\n",
              " 4.48262827115906,\n",
              " 4.091922299579308,\n",
              " 3.754160792374195,\n",
              " 3.390373056651618,\n",
              " 3.02056316987282,\n",
              " 2.698736047042444,\n",
              " 2.433619589598342,\n",
              " 2.1629432160413313,\n",
              " 1.8947244929436673,\n",
              " 1.6673351728574384,\n",
              " 1.4290798529220943,\n",
              " 1.1609929838468447,\n",
              " 0.8136100830046715,\n",
              " 0.4879692849938518,\n",
              " 7.17487542020036e-14]"
            ]
          },
          "metadata": {},
          "execution_count": 128
        }
      ]
    },
    {
      "cell_type": "code",
      "metadata": {
        "id": "FWNpgi0r_F6w"
      },
      "source": [
        "for i in range(64):           #finding the minimum index where error<1%\n",
        "  if list_error[i]<1:\n",
        "    count=i+1\n",
        "    break"
      ],
      "execution_count": null,
      "outputs": []
    },
    {
      "cell_type": "code",
      "metadata": {
        "colab": {
          "base_uri": "https://localhost:8080/"
        },
        "id": "3RoljoLdAJx7",
        "outputId": "42a53226-fd34-436b-fc01-07ee7dfd3fc2"
      },
      "source": [
        "print(f\"Least number of components for PCA resonstruction RMSE to be less than 1% std_dev is {count}\")"
      ],
      "execution_count": null,
      "outputs": [
        {
          "output_type": "stream",
          "name": "stdout",
          "text": [
            "Least number of components for PCA resonstruction RMSE to be less than 1% std_dev is 62\n"
          ]
        }
      ]
    },
    {
      "cell_type": "code",
      "metadata": {
        "colab": {
          "base_uri": "https://localhost:8080/",
          "height": 477
        },
        "id": "vNsf8J23ALLz",
        "outputId": "a468a431-020e-4af0-d73f-f58d1ecd2054"
      },
      "source": [
        "fig=plt.figure(figsize=(7,7))\n",
        "indice_list=np.arange(64)\n",
        "indice_list=indice_list+1\n",
        "plt.title('Compression vs Reconstruction Error', fontsize=15, weight='bold')\n",
        "plt.xlabel('PCA dimensions')\n",
        "plt.ylabel('Error(%)')\n",
        "plt.scatter(x=indice_list, y=list_error, marker='x')\n",
        "plt.plot()"
      ],
      "execution_count": null,
      "outputs": [
        {
          "output_type": "execute_result",
          "data": {
            "text/plain": [
              "[]"
            ]
          },
          "metadata": {},
          "execution_count": 131
        },
        {
          "output_type": "display_data",
          "data": {
            "image/png": "[encoded data removed]",
            "text/plain": [
              "<Figure size 504x504 with 1 Axes>"
            ]
          },
          "metadata": {
            "needs_background": "light"
          }
        }
      ]
    },
    {
      "cell_type": "markdown",
      "metadata": {
        "id": "EL81V8WMFnA2"
      },
      "source": [
        "We notice that the error decreases gradually as the PCA dimensions increase."
      ]
    },
    {
      "cell_type": "code",
      "metadata": {
        "id": "UOek_InMFsbz"
      },
      "source": [],
      "execution_count": null,
      "outputs": []
    }
  ]
}